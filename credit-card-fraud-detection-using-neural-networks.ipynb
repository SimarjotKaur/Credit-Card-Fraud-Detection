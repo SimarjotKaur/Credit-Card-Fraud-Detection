{
 "cells": [
  {
   "cell_type": "code",
   "execution_count": 2,
   "metadata": {
    "_cell_guid": "b1076dfc-b9ad-4769-8c92-a6c4dae69d19",
    "_uuid": "8f2839f25d086af736a60e9eeb907d3b93b6e0e5",
    "collapsed": false
   },
   "outputs": [
    {
     "name": "stderr",
     "output_type": "stream",
     "text": [
      "Using TensorFlow backend.\n"
     ]
    },
    {
     "name": "stdout",
     "output_type": "stream",
     "text": [
      "Imported successfully\n"
     ]
    }
   ],
   "source": [
    "#importing libraries\n",
    "\n",
    "import numpy as np # linear algebra\n",
    "import pandas as pd # data processing, CSV file I/O (e.g. pd.read_csv)\n",
    "from math import sqrt\n",
    "\n",
    "import sklearn.utils\n",
    "from sklearn.preprocessing import RobustScaler #Scaling the features\n",
    "from sklearn.model_selection import StratifiedShuffleSplit #Splitting the dataset\n",
    "from sklearn.metrics import accuracy_score, classification_report, confusion_matrix, make_scorer, precision_score, recall_score, f1_score, roc_auc_score, roc_curve, precision_recall_curve, average_precision_score, auc\n",
    "from sklearn.model_selection import GridSearchCV #hyperparameter tuning\n",
    "from sklearn.decomposition import PCA\n",
    "\n",
    "#Visual Analysis\n",
    "%matplotlib inline\n",
    "import matplotlib.pyplot as plt\n",
    "from matplotlib import rcParams\n",
    "import seaborn as sns\n",
    "import IPython\n",
    "\n",
    "from imblearn.over_sampling import ADASYN #Adaptive Synthetic Oversampling\n",
    "from collections import Counter\n",
    "from scipy import stats\n",
    "\n",
    "#Neural Networks implementation\n",
    "import keras\n",
    "import tensorflow as tf\n",
    "from keras import backend as K\n",
    "from keras.models import Sequential\n",
    "from keras.layers import Dense, Dropout\n",
    "from keras.optimizers import Adam\n",
    "from keras.wrappers.scikit_learn import KerasClassifier\n",
    "from keras.constraints import maxnorm\n",
    "from keras.utils.vis_utils import plot_model\n",
    "\n",
    "import warnings\n",
    "warnings.filterwarnings('ignore')\n",
    "\n",
    "print('Imported successfully')"
   ]
  },
  {
   "cell_type": "markdown",
   "metadata": {
    "_uuid": "688cfbf93de7e58bc5812f0fd4269d3214111dd5"
   },
   "source": [
    "#DATASET ANALYSIS AND PREPROCESSING"
   ]
  },
  {
   "cell_type": "code",
   "execution_count": 3,
   "metadata": {
    "_cell_guid": "79c7e3d0-c299-4dcb-8224-4455121ee9b0",
    "_uuid": "d629ff2d2480ee46fbb7e2d37f6b5fab8052498a",
    "collapsed": false
   },
   "outputs": [
    {
     "data": {
      "text/html": [
       "<div>\n",
       "<table border=\"1\" class=\"dataframe\">\n",
       "  <thead>\n",
       "    <tr style=\"text-align: right;\">\n",
       "      <th></th>\n",
       "      <th>Time</th>\n",
       "      <th>V1</th>\n",
       "      <th>V2</th>\n",
       "      <th>V3</th>\n",
       "      <th>V4</th>\n",
       "      <th>V5</th>\n",
       "      <th>V6</th>\n",
       "      <th>V7</th>\n",
       "      <th>V8</th>\n",
       "      <th>V9</th>\n",
       "      <th>...</th>\n",
       "      <th>V21</th>\n",
       "      <th>V22</th>\n",
       "      <th>V23</th>\n",
       "      <th>V24</th>\n",
       "      <th>V25</th>\n",
       "      <th>V26</th>\n",
       "      <th>V27</th>\n",
       "      <th>V28</th>\n",
       "      <th>Amount</th>\n",
       "      <th>Class</th>\n",
       "    </tr>\n",
       "  </thead>\n",
       "  <tbody>\n",
       "    <tr>\n",
       "      <th>0</th>\n",
       "      <td>0.0</td>\n",
       "      <td>-1.359807</td>\n",
       "      <td>-0.072781</td>\n",
       "      <td>2.536347</td>\n",
       "      <td>1.378155</td>\n",
       "      <td>-0.338321</td>\n",
       "      <td>0.462388</td>\n",
       "      <td>0.239599</td>\n",
       "      <td>0.098698</td>\n",
       "      <td>0.363787</td>\n",
       "      <td>...</td>\n",
       "      <td>-0.018307</td>\n",
       "      <td>0.277838</td>\n",
       "      <td>-0.110474</td>\n",
       "      <td>0.066928</td>\n",
       "      <td>0.128539</td>\n",
       "      <td>-0.189115</td>\n",
       "      <td>0.133558</td>\n",
       "      <td>-0.021053</td>\n",
       "      <td>149.62</td>\n",
       "      <td>0</td>\n",
       "    </tr>\n",
       "    <tr>\n",
       "      <th>1</th>\n",
       "      <td>0.0</td>\n",
       "      <td>1.191857</td>\n",
       "      <td>0.266151</td>\n",
       "      <td>0.166480</td>\n",
       "      <td>0.448154</td>\n",
       "      <td>0.060018</td>\n",
       "      <td>-0.082361</td>\n",
       "      <td>-0.078803</td>\n",
       "      <td>0.085102</td>\n",
       "      <td>-0.255425</td>\n",
       "      <td>...</td>\n",
       "      <td>-0.225775</td>\n",
       "      <td>-0.638672</td>\n",
       "      <td>0.101288</td>\n",
       "      <td>-0.339846</td>\n",
       "      <td>0.167170</td>\n",
       "      <td>0.125895</td>\n",
       "      <td>-0.008983</td>\n",
       "      <td>0.014724</td>\n",
       "      <td>2.69</td>\n",
       "      <td>0</td>\n",
       "    </tr>\n",
       "    <tr>\n",
       "      <th>2</th>\n",
       "      <td>1.0</td>\n",
       "      <td>-1.358354</td>\n",
       "      <td>-1.340163</td>\n",
       "      <td>1.773209</td>\n",
       "      <td>0.379780</td>\n",
       "      <td>-0.503198</td>\n",
       "      <td>1.800499</td>\n",
       "      <td>0.791461</td>\n",
       "      <td>0.247676</td>\n",
       "      <td>-1.514654</td>\n",
       "      <td>...</td>\n",
       "      <td>0.247998</td>\n",
       "      <td>0.771679</td>\n",
       "      <td>0.909412</td>\n",
       "      <td>-0.689281</td>\n",
       "      <td>-0.327642</td>\n",
       "      <td>-0.139097</td>\n",
       "      <td>-0.055353</td>\n",
       "      <td>-0.059752</td>\n",
       "      <td>378.66</td>\n",
       "      <td>0</td>\n",
       "    </tr>\n",
       "    <tr>\n",
       "      <th>3</th>\n",
       "      <td>1.0</td>\n",
       "      <td>-0.966272</td>\n",
       "      <td>-0.185226</td>\n",
       "      <td>1.792993</td>\n",
       "      <td>-0.863291</td>\n",
       "      <td>-0.010309</td>\n",
       "      <td>1.247203</td>\n",
       "      <td>0.237609</td>\n",
       "      <td>0.377436</td>\n",
       "      <td>-1.387024</td>\n",
       "      <td>...</td>\n",
       "      <td>-0.108300</td>\n",
       "      <td>0.005274</td>\n",
       "      <td>-0.190321</td>\n",
       "      <td>-1.175575</td>\n",
       "      <td>0.647376</td>\n",
       "      <td>-0.221929</td>\n",
       "      <td>0.062723</td>\n",
       "      <td>0.061458</td>\n",
       "      <td>123.50</td>\n",
       "      <td>0</td>\n",
       "    </tr>\n",
       "    <tr>\n",
       "      <th>4</th>\n",
       "      <td>2.0</td>\n",
       "      <td>-1.158233</td>\n",
       "      <td>0.877737</td>\n",
       "      <td>1.548718</td>\n",
       "      <td>0.403034</td>\n",
       "      <td>-0.407193</td>\n",
       "      <td>0.095921</td>\n",
       "      <td>0.592941</td>\n",
       "      <td>-0.270533</td>\n",
       "      <td>0.817739</td>\n",
       "      <td>...</td>\n",
       "      <td>-0.009431</td>\n",
       "      <td>0.798278</td>\n",
       "      <td>-0.137458</td>\n",
       "      <td>0.141267</td>\n",
       "      <td>-0.206010</td>\n",
       "      <td>0.502292</td>\n",
       "      <td>0.219422</td>\n",
       "      <td>0.215153</td>\n",
       "      <td>69.99</td>\n",
       "      <td>0</td>\n",
       "    </tr>\n",
       "  </tbody>\n",
       "</table>\n",
       "<p>5 rows × 31 columns</p>\n",
       "</div>"
      ],
      "text/plain": [
       "   Time        V1        V2        V3        V4        V5        V6        V7  \\\n",
       "0   0.0 -1.359807 -0.072781  2.536347  1.378155 -0.338321  0.462388  0.239599   \n",
       "1   0.0  1.191857  0.266151  0.166480  0.448154  0.060018 -0.082361 -0.078803   \n",
       "2   1.0 -1.358354 -1.340163  1.773209  0.379780 -0.503198  1.800499  0.791461   \n",
       "3   1.0 -0.966272 -0.185226  1.792993 -0.863291 -0.010309  1.247203  0.237609   \n",
       "4   2.0 -1.158233  0.877737  1.548718  0.403034 -0.407193  0.095921  0.592941   \n",
       "\n",
       "         V8        V9  ...         V21       V22       V23       V24  \\\n",
       "0  0.098698  0.363787  ...   -0.018307  0.277838 -0.110474  0.066928   \n",
       "1  0.085102 -0.255425  ...   -0.225775 -0.638672  0.101288 -0.339846   \n",
       "2  0.247676 -1.514654  ...    0.247998  0.771679  0.909412 -0.689281   \n",
       "3  0.377436 -1.387024  ...   -0.108300  0.005274 -0.190321 -1.175575   \n",
       "4 -0.270533  0.817739  ...   -0.009431  0.798278 -0.137458  0.141267   \n",
       "\n",
       "        V25       V26       V27       V28  Amount  Class  \n",
       "0  0.128539 -0.189115  0.133558 -0.021053  149.62      0  \n",
       "1  0.167170  0.125895 -0.008983  0.014724    2.69      0  \n",
       "2 -0.327642 -0.139097 -0.055353 -0.059752  378.66      0  \n",
       "3  0.647376 -0.221929  0.062723  0.061458  123.50      0  \n",
       "4 -0.206010  0.502292  0.219422  0.215153   69.99      0  \n",
       "\n",
       "[5 rows x 31 columns]"
      ]
     },
     "execution_count": 3,
     "metadata": {},
     "output_type": "execute_result"
    }
   ],
   "source": [
    "#Loading data in a dataframe 'creditcard_data' and using head() to display the first 5 instances.\n",
    "creditcard_data= pd.read_csv(\"creditcard.csv\")\n",
    "creditcard_data.head()"
   ]
  },
  {
   "cell_type": "code",
   "execution_count": 4,
   "metadata": {
    "_uuid": "8839a473606eb81d88eb141e7d8b6a1ff9f51e4d",
    "collapsed": false
   },
   "outputs": [
    {
     "data": {
      "text/html": [
       "<div>\n",
       "<table border=\"1\" class=\"dataframe\">\n",
       "  <thead>\n",
       "    <tr style=\"text-align: right;\">\n",
       "      <th></th>\n",
       "      <th>Time</th>\n",
       "      <th>V1</th>\n",
       "      <th>V2</th>\n",
       "      <th>V3</th>\n",
       "      <th>V4</th>\n",
       "      <th>V5</th>\n",
       "      <th>V6</th>\n",
       "      <th>V7</th>\n",
       "      <th>V8</th>\n",
       "      <th>V9</th>\n",
       "      <th>...</th>\n",
       "      <th>V21</th>\n",
       "      <th>V22</th>\n",
       "      <th>V23</th>\n",
       "      <th>V24</th>\n",
       "      <th>V25</th>\n",
       "      <th>V26</th>\n",
       "      <th>V27</th>\n",
       "      <th>V28</th>\n",
       "      <th>Amount</th>\n",
       "      <th>Class</th>\n",
       "    </tr>\n",
       "  </thead>\n",
       "  <tbody>\n",
       "    <tr>\n",
       "      <th>0</th>\n",
       "      <td>0.0</td>\n",
       "      <td>-1.359807</td>\n",
       "      <td>-0.072781</td>\n",
       "      <td>2.536347</td>\n",
       "      <td>1.378155</td>\n",
       "      <td>-0.338321</td>\n",
       "      <td>0.462388</td>\n",
       "      <td>0.239599</td>\n",
       "      <td>0.098698</td>\n",
       "      <td>0.363787</td>\n",
       "      <td>...</td>\n",
       "      <td>-0.018307</td>\n",
       "      <td>0.277838</td>\n",
       "      <td>-0.110474</td>\n",
       "      <td>0.066928</td>\n",
       "      <td>0.128539</td>\n",
       "      <td>-0.189115</td>\n",
       "      <td>0.133558</td>\n",
       "      <td>-0.021053</td>\n",
       "      <td>149.62</td>\n",
       "      <td>0</td>\n",
       "    </tr>\n",
       "    <tr>\n",
       "      <th>1</th>\n",
       "      <td>0.0</td>\n",
       "      <td>1.191857</td>\n",
       "      <td>0.266151</td>\n",
       "      <td>0.166480</td>\n",
       "      <td>0.448154</td>\n",
       "      <td>0.060018</td>\n",
       "      <td>-0.082361</td>\n",
       "      <td>-0.078803</td>\n",
       "      <td>0.085102</td>\n",
       "      <td>-0.255425</td>\n",
       "      <td>...</td>\n",
       "      <td>-0.225775</td>\n",
       "      <td>-0.638672</td>\n",
       "      <td>0.101288</td>\n",
       "      <td>-0.339846</td>\n",
       "      <td>0.167170</td>\n",
       "      <td>0.125895</td>\n",
       "      <td>-0.008983</td>\n",
       "      <td>0.014724</td>\n",
       "      <td>2.69</td>\n",
       "      <td>0</td>\n",
       "    </tr>\n",
       "    <tr>\n",
       "      <th>2</th>\n",
       "      <td>1.0</td>\n",
       "      <td>-1.358354</td>\n",
       "      <td>-1.340163</td>\n",
       "      <td>1.773209</td>\n",
       "      <td>0.379780</td>\n",
       "      <td>-0.503198</td>\n",
       "      <td>1.800499</td>\n",
       "      <td>0.791461</td>\n",
       "      <td>0.247676</td>\n",
       "      <td>-1.514654</td>\n",
       "      <td>...</td>\n",
       "      <td>0.247998</td>\n",
       "      <td>0.771679</td>\n",
       "      <td>0.909412</td>\n",
       "      <td>-0.689281</td>\n",
       "      <td>-0.327642</td>\n",
       "      <td>-0.139097</td>\n",
       "      <td>-0.055353</td>\n",
       "      <td>-0.059752</td>\n",
       "      <td>378.66</td>\n",
       "      <td>0</td>\n",
       "    </tr>\n",
       "    <tr>\n",
       "      <th>3</th>\n",
       "      <td>1.0</td>\n",
       "      <td>-0.966272</td>\n",
       "      <td>-0.185226</td>\n",
       "      <td>1.792993</td>\n",
       "      <td>-0.863291</td>\n",
       "      <td>-0.010309</td>\n",
       "      <td>1.247203</td>\n",
       "      <td>0.237609</td>\n",
       "      <td>0.377436</td>\n",
       "      <td>-1.387024</td>\n",
       "      <td>...</td>\n",
       "      <td>-0.108300</td>\n",
       "      <td>0.005274</td>\n",
       "      <td>-0.190321</td>\n",
       "      <td>-1.175575</td>\n",
       "      <td>0.647376</td>\n",
       "      <td>-0.221929</td>\n",
       "      <td>0.062723</td>\n",
       "      <td>0.061458</td>\n",
       "      <td>123.50</td>\n",
       "      <td>0</td>\n",
       "    </tr>\n",
       "    <tr>\n",
       "      <th>4</th>\n",
       "      <td>2.0</td>\n",
       "      <td>-1.158233</td>\n",
       "      <td>0.877737</td>\n",
       "      <td>1.548718</td>\n",
       "      <td>0.403034</td>\n",
       "      <td>-0.407193</td>\n",
       "      <td>0.095921</td>\n",
       "      <td>0.592941</td>\n",
       "      <td>-0.270533</td>\n",
       "      <td>0.817739</td>\n",
       "      <td>...</td>\n",
       "      <td>-0.009431</td>\n",
       "      <td>0.798278</td>\n",
       "      <td>-0.137458</td>\n",
       "      <td>0.141267</td>\n",
       "      <td>-0.206010</td>\n",
       "      <td>0.502292</td>\n",
       "      <td>0.219422</td>\n",
       "      <td>0.215153</td>\n",
       "      <td>69.99</td>\n",
       "      <td>0</td>\n",
       "    </tr>\n",
       "    <tr>\n",
       "      <th>5</th>\n",
       "      <td>2.0</td>\n",
       "      <td>-0.425966</td>\n",
       "      <td>0.960523</td>\n",
       "      <td>1.141109</td>\n",
       "      <td>-0.168252</td>\n",
       "      <td>0.420987</td>\n",
       "      <td>-0.029728</td>\n",
       "      <td>0.476201</td>\n",
       "      <td>0.260314</td>\n",
       "      <td>-0.568671</td>\n",
       "      <td>...</td>\n",
       "      <td>-0.208254</td>\n",
       "      <td>-0.559825</td>\n",
       "      <td>-0.026398</td>\n",
       "      <td>-0.371427</td>\n",
       "      <td>-0.232794</td>\n",
       "      <td>0.105915</td>\n",
       "      <td>0.253844</td>\n",
       "      <td>0.081080</td>\n",
       "      <td>3.67</td>\n",
       "      <td>0</td>\n",
       "    </tr>\n",
       "    <tr>\n",
       "      <th>6</th>\n",
       "      <td>4.0</td>\n",
       "      <td>1.229658</td>\n",
       "      <td>0.141004</td>\n",
       "      <td>0.045371</td>\n",
       "      <td>1.202613</td>\n",
       "      <td>0.191881</td>\n",
       "      <td>0.272708</td>\n",
       "      <td>-0.005159</td>\n",
       "      <td>0.081213</td>\n",
       "      <td>0.464960</td>\n",
       "      <td>...</td>\n",
       "      <td>-0.167716</td>\n",
       "      <td>-0.270710</td>\n",
       "      <td>-0.154104</td>\n",
       "      <td>-0.780055</td>\n",
       "      <td>0.750137</td>\n",
       "      <td>-0.257237</td>\n",
       "      <td>0.034507</td>\n",
       "      <td>0.005168</td>\n",
       "      <td>4.99</td>\n",
       "      <td>0</td>\n",
       "    </tr>\n",
       "    <tr>\n",
       "      <th>7</th>\n",
       "      <td>7.0</td>\n",
       "      <td>-0.644269</td>\n",
       "      <td>1.417964</td>\n",
       "      <td>1.074380</td>\n",
       "      <td>-0.492199</td>\n",
       "      <td>0.948934</td>\n",
       "      <td>0.428118</td>\n",
       "      <td>1.120631</td>\n",
       "      <td>-3.807864</td>\n",
       "      <td>0.615375</td>\n",
       "      <td>...</td>\n",
       "      <td>1.943465</td>\n",
       "      <td>-1.015455</td>\n",
       "      <td>0.057504</td>\n",
       "      <td>-0.649709</td>\n",
       "      <td>-0.415267</td>\n",
       "      <td>-0.051634</td>\n",
       "      <td>-1.206921</td>\n",
       "      <td>-1.085339</td>\n",
       "      <td>40.80</td>\n",
       "      <td>0</td>\n",
       "    </tr>\n",
       "    <tr>\n",
       "      <th>8</th>\n",
       "      <td>7.0</td>\n",
       "      <td>-0.894286</td>\n",
       "      <td>0.286157</td>\n",
       "      <td>-0.113192</td>\n",
       "      <td>-0.271526</td>\n",
       "      <td>2.669599</td>\n",
       "      <td>3.721818</td>\n",
       "      <td>0.370145</td>\n",
       "      <td>0.851084</td>\n",
       "      <td>-0.392048</td>\n",
       "      <td>...</td>\n",
       "      <td>-0.073425</td>\n",
       "      <td>-0.268092</td>\n",
       "      <td>-0.204233</td>\n",
       "      <td>1.011592</td>\n",
       "      <td>0.373205</td>\n",
       "      <td>-0.384157</td>\n",
       "      <td>0.011747</td>\n",
       "      <td>0.142404</td>\n",
       "      <td>93.20</td>\n",
       "      <td>0</td>\n",
       "    </tr>\n",
       "    <tr>\n",
       "      <th>9</th>\n",
       "      <td>9.0</td>\n",
       "      <td>-0.338262</td>\n",
       "      <td>1.119593</td>\n",
       "      <td>1.044367</td>\n",
       "      <td>-0.222187</td>\n",
       "      <td>0.499361</td>\n",
       "      <td>-0.246761</td>\n",
       "      <td>0.651583</td>\n",
       "      <td>0.069539</td>\n",
       "      <td>-0.736727</td>\n",
       "      <td>...</td>\n",
       "      <td>-0.246914</td>\n",
       "      <td>-0.633753</td>\n",
       "      <td>-0.120794</td>\n",
       "      <td>-0.385050</td>\n",
       "      <td>-0.069733</td>\n",
       "      <td>0.094199</td>\n",
       "      <td>0.246219</td>\n",
       "      <td>0.083076</td>\n",
       "      <td>3.68</td>\n",
       "      <td>0</td>\n",
       "    </tr>\n",
       "    <tr>\n",
       "      <th>10</th>\n",
       "      <td>10.0</td>\n",
       "      <td>1.449044</td>\n",
       "      <td>-1.176339</td>\n",
       "      <td>0.913860</td>\n",
       "      <td>-1.375667</td>\n",
       "      <td>-1.971383</td>\n",
       "      <td>-0.629152</td>\n",
       "      <td>-1.423236</td>\n",
       "      <td>0.048456</td>\n",
       "      <td>-1.720408</td>\n",
       "      <td>...</td>\n",
       "      <td>-0.009302</td>\n",
       "      <td>0.313894</td>\n",
       "      <td>0.027740</td>\n",
       "      <td>0.500512</td>\n",
       "      <td>0.251367</td>\n",
       "      <td>-0.129478</td>\n",
       "      <td>0.042850</td>\n",
       "      <td>0.016253</td>\n",
       "      <td>7.80</td>\n",
       "      <td>0</td>\n",
       "    </tr>\n",
       "    <tr>\n",
       "      <th>11</th>\n",
       "      <td>10.0</td>\n",
       "      <td>0.384978</td>\n",
       "      <td>0.616109</td>\n",
       "      <td>-0.874300</td>\n",
       "      <td>-0.094019</td>\n",
       "      <td>2.924584</td>\n",
       "      <td>3.317027</td>\n",
       "      <td>0.470455</td>\n",
       "      <td>0.538247</td>\n",
       "      <td>-0.558895</td>\n",
       "      <td>...</td>\n",
       "      <td>0.049924</td>\n",
       "      <td>0.238422</td>\n",
       "      <td>0.009130</td>\n",
       "      <td>0.996710</td>\n",
       "      <td>-0.767315</td>\n",
       "      <td>-0.492208</td>\n",
       "      <td>0.042472</td>\n",
       "      <td>-0.054337</td>\n",
       "      <td>9.99</td>\n",
       "      <td>0</td>\n",
       "    </tr>\n",
       "    <tr>\n",
       "      <th>12</th>\n",
       "      <td>10.0</td>\n",
       "      <td>1.249999</td>\n",
       "      <td>-1.221637</td>\n",
       "      <td>0.383930</td>\n",
       "      <td>-1.234899</td>\n",
       "      <td>-1.485419</td>\n",
       "      <td>-0.753230</td>\n",
       "      <td>-0.689405</td>\n",
       "      <td>-0.227487</td>\n",
       "      <td>-2.094011</td>\n",
       "      <td>...</td>\n",
       "      <td>-0.231809</td>\n",
       "      <td>-0.483285</td>\n",
       "      <td>0.084668</td>\n",
       "      <td>0.392831</td>\n",
       "      <td>0.161135</td>\n",
       "      <td>-0.354990</td>\n",
       "      <td>0.026416</td>\n",
       "      <td>0.042422</td>\n",
       "      <td>121.50</td>\n",
       "      <td>0</td>\n",
       "    </tr>\n",
       "    <tr>\n",
       "      <th>13</th>\n",
       "      <td>11.0</td>\n",
       "      <td>1.069374</td>\n",
       "      <td>0.287722</td>\n",
       "      <td>0.828613</td>\n",
       "      <td>2.712520</td>\n",
       "      <td>-0.178398</td>\n",
       "      <td>0.337544</td>\n",
       "      <td>-0.096717</td>\n",
       "      <td>0.115982</td>\n",
       "      <td>-0.221083</td>\n",
       "      <td>...</td>\n",
       "      <td>-0.036876</td>\n",
       "      <td>0.074412</td>\n",
       "      <td>-0.071407</td>\n",
       "      <td>0.104744</td>\n",
       "      <td>0.548265</td>\n",
       "      <td>0.104094</td>\n",
       "      <td>0.021491</td>\n",
       "      <td>0.021293</td>\n",
       "      <td>27.50</td>\n",
       "      <td>0</td>\n",
       "    </tr>\n",
       "    <tr>\n",
       "      <th>14</th>\n",
       "      <td>12.0</td>\n",
       "      <td>-2.791855</td>\n",
       "      <td>-0.327771</td>\n",
       "      <td>1.641750</td>\n",
       "      <td>1.767473</td>\n",
       "      <td>-0.136588</td>\n",
       "      <td>0.807596</td>\n",
       "      <td>-0.422911</td>\n",
       "      <td>-1.907107</td>\n",
       "      <td>0.755713</td>\n",
       "      <td>...</td>\n",
       "      <td>1.151663</td>\n",
       "      <td>0.222182</td>\n",
       "      <td>1.020586</td>\n",
       "      <td>0.028317</td>\n",
       "      <td>-0.232746</td>\n",
       "      <td>-0.235557</td>\n",
       "      <td>-0.164778</td>\n",
       "      <td>-0.030154</td>\n",
       "      <td>58.80</td>\n",
       "      <td>0</td>\n",
       "    </tr>\n",
       "    <tr>\n",
       "      <th>15</th>\n",
       "      <td>12.0</td>\n",
       "      <td>-0.752417</td>\n",
       "      <td>0.345485</td>\n",
       "      <td>2.057323</td>\n",
       "      <td>-1.468643</td>\n",
       "      <td>-1.158394</td>\n",
       "      <td>-0.077850</td>\n",
       "      <td>-0.608581</td>\n",
       "      <td>0.003603</td>\n",
       "      <td>-0.436167</td>\n",
       "      <td>...</td>\n",
       "      <td>0.499625</td>\n",
       "      <td>1.353650</td>\n",
       "      <td>-0.256573</td>\n",
       "      <td>-0.065084</td>\n",
       "      <td>-0.039124</td>\n",
       "      <td>-0.087086</td>\n",
       "      <td>-0.180998</td>\n",
       "      <td>0.129394</td>\n",
       "      <td>15.99</td>\n",
       "      <td>0</td>\n",
       "    </tr>\n",
       "    <tr>\n",
       "      <th>16</th>\n",
       "      <td>12.0</td>\n",
       "      <td>1.103215</td>\n",
       "      <td>-0.040296</td>\n",
       "      <td>1.267332</td>\n",
       "      <td>1.289091</td>\n",
       "      <td>-0.735997</td>\n",
       "      <td>0.288069</td>\n",
       "      <td>-0.586057</td>\n",
       "      <td>0.189380</td>\n",
       "      <td>0.782333</td>\n",
       "      <td>...</td>\n",
       "      <td>-0.024612</td>\n",
       "      <td>0.196002</td>\n",
       "      <td>0.013802</td>\n",
       "      <td>0.103758</td>\n",
       "      <td>0.364298</td>\n",
       "      <td>-0.382261</td>\n",
       "      <td>0.092809</td>\n",
       "      <td>0.037051</td>\n",
       "      <td>12.99</td>\n",
       "      <td>0</td>\n",
       "    </tr>\n",
       "    <tr>\n",
       "      <th>17</th>\n",
       "      <td>13.0</td>\n",
       "      <td>-0.436905</td>\n",
       "      <td>0.918966</td>\n",
       "      <td>0.924591</td>\n",
       "      <td>-0.727219</td>\n",
       "      <td>0.915679</td>\n",
       "      <td>-0.127867</td>\n",
       "      <td>0.707642</td>\n",
       "      <td>0.087962</td>\n",
       "      <td>-0.665271</td>\n",
       "      <td>...</td>\n",
       "      <td>-0.194796</td>\n",
       "      <td>-0.672638</td>\n",
       "      <td>-0.156858</td>\n",
       "      <td>-0.888386</td>\n",
       "      <td>-0.342413</td>\n",
       "      <td>-0.049027</td>\n",
       "      <td>0.079692</td>\n",
       "      <td>0.131024</td>\n",
       "      <td>0.89</td>\n",
       "      <td>0</td>\n",
       "    </tr>\n",
       "    <tr>\n",
       "      <th>18</th>\n",
       "      <td>14.0</td>\n",
       "      <td>-5.401258</td>\n",
       "      <td>-5.450148</td>\n",
       "      <td>1.186305</td>\n",
       "      <td>1.736239</td>\n",
       "      <td>3.049106</td>\n",
       "      <td>-1.763406</td>\n",
       "      <td>-1.559738</td>\n",
       "      <td>0.160842</td>\n",
       "      <td>1.233090</td>\n",
       "      <td>...</td>\n",
       "      <td>-0.503600</td>\n",
       "      <td>0.984460</td>\n",
       "      <td>2.458589</td>\n",
       "      <td>0.042119</td>\n",
       "      <td>-0.481631</td>\n",
       "      <td>-0.621272</td>\n",
       "      <td>0.392053</td>\n",
       "      <td>0.949594</td>\n",
       "      <td>46.80</td>\n",
       "      <td>0</td>\n",
       "    </tr>\n",
       "    <tr>\n",
       "      <th>19</th>\n",
       "      <td>15.0</td>\n",
       "      <td>1.492936</td>\n",
       "      <td>-1.029346</td>\n",
       "      <td>0.454795</td>\n",
       "      <td>-1.438026</td>\n",
       "      <td>-1.555434</td>\n",
       "      <td>-0.720961</td>\n",
       "      <td>-1.080664</td>\n",
       "      <td>-0.053127</td>\n",
       "      <td>-1.978682</td>\n",
       "      <td>...</td>\n",
       "      <td>-0.177650</td>\n",
       "      <td>-0.175074</td>\n",
       "      <td>0.040002</td>\n",
       "      <td>0.295814</td>\n",
       "      <td>0.332931</td>\n",
       "      <td>-0.220385</td>\n",
       "      <td>0.022298</td>\n",
       "      <td>0.007602</td>\n",
       "      <td>5.00</td>\n",
       "      <td>0</td>\n",
       "    </tr>\n",
       "  </tbody>\n",
       "</table>\n",
       "<p>20 rows × 31 columns</p>\n",
       "</div>"
      ],
      "text/plain": [
       "    Time        V1        V2        V3        V4        V5        V6  \\\n",
       "0    0.0 -1.359807 -0.072781  2.536347  1.378155 -0.338321  0.462388   \n",
       "1    0.0  1.191857  0.266151  0.166480  0.448154  0.060018 -0.082361   \n",
       "2    1.0 -1.358354 -1.340163  1.773209  0.379780 -0.503198  1.800499   \n",
       "3    1.0 -0.966272 -0.185226  1.792993 -0.863291 -0.010309  1.247203   \n",
       "4    2.0 -1.158233  0.877737  1.548718  0.403034 -0.407193  0.095921   \n",
       "5    2.0 -0.425966  0.960523  1.141109 -0.168252  0.420987 -0.029728   \n",
       "6    4.0  1.229658  0.141004  0.045371  1.202613  0.191881  0.272708   \n",
       "7    7.0 -0.644269  1.417964  1.074380 -0.492199  0.948934  0.428118   \n",
       "8    7.0 -0.894286  0.286157 -0.113192 -0.271526  2.669599  3.721818   \n",
       "9    9.0 -0.338262  1.119593  1.044367 -0.222187  0.499361 -0.246761   \n",
       "10  10.0  1.449044 -1.176339  0.913860 -1.375667 -1.971383 -0.629152   \n",
       "11  10.0  0.384978  0.616109 -0.874300 -0.094019  2.924584  3.317027   \n",
       "12  10.0  1.249999 -1.221637  0.383930 -1.234899 -1.485419 -0.753230   \n",
       "13  11.0  1.069374  0.287722  0.828613  2.712520 -0.178398  0.337544   \n",
       "14  12.0 -2.791855 -0.327771  1.641750  1.767473 -0.136588  0.807596   \n",
       "15  12.0 -0.752417  0.345485  2.057323 -1.468643 -1.158394 -0.077850   \n",
       "16  12.0  1.103215 -0.040296  1.267332  1.289091 -0.735997  0.288069   \n",
       "17  13.0 -0.436905  0.918966  0.924591 -0.727219  0.915679 -0.127867   \n",
       "18  14.0 -5.401258 -5.450148  1.186305  1.736239  3.049106 -1.763406   \n",
       "19  15.0  1.492936 -1.029346  0.454795 -1.438026 -1.555434 -0.720961   \n",
       "\n",
       "          V7        V8        V9  ...         V21       V22       V23  \\\n",
       "0   0.239599  0.098698  0.363787  ...   -0.018307  0.277838 -0.110474   \n",
       "1  -0.078803  0.085102 -0.255425  ...   -0.225775 -0.638672  0.101288   \n",
       "2   0.791461  0.247676 -1.514654  ...    0.247998  0.771679  0.909412   \n",
       "3   0.237609  0.377436 -1.387024  ...   -0.108300  0.005274 -0.190321   \n",
       "4   0.592941 -0.270533  0.817739  ...   -0.009431  0.798278 -0.137458   \n",
       "5   0.476201  0.260314 -0.568671  ...   -0.208254 -0.559825 -0.026398   \n",
       "6  -0.005159  0.081213  0.464960  ...   -0.167716 -0.270710 -0.154104   \n",
       "7   1.120631 -3.807864  0.615375  ...    1.943465 -1.015455  0.057504   \n",
       "8   0.370145  0.851084 -0.392048  ...   -0.073425 -0.268092 -0.204233   \n",
       "9   0.651583  0.069539 -0.736727  ...   -0.246914 -0.633753 -0.120794   \n",
       "10 -1.423236  0.048456 -1.720408  ...   -0.009302  0.313894  0.027740   \n",
       "11  0.470455  0.538247 -0.558895  ...    0.049924  0.238422  0.009130   \n",
       "12 -0.689405 -0.227487 -2.094011  ...   -0.231809 -0.483285  0.084668   \n",
       "13 -0.096717  0.115982 -0.221083  ...   -0.036876  0.074412 -0.071407   \n",
       "14 -0.422911 -1.907107  0.755713  ...    1.151663  0.222182  1.020586   \n",
       "15 -0.608581  0.003603 -0.436167  ...    0.499625  1.353650 -0.256573   \n",
       "16 -0.586057  0.189380  0.782333  ...   -0.024612  0.196002  0.013802   \n",
       "17  0.707642  0.087962 -0.665271  ...   -0.194796 -0.672638 -0.156858   \n",
       "18 -1.559738  0.160842  1.233090  ...   -0.503600  0.984460  2.458589   \n",
       "19 -1.080664 -0.053127 -1.978682  ...   -0.177650 -0.175074  0.040002   \n",
       "\n",
       "         V24       V25       V26       V27       V28  Amount  Class  \n",
       "0   0.066928  0.128539 -0.189115  0.133558 -0.021053  149.62      0  \n",
       "1  -0.339846  0.167170  0.125895 -0.008983  0.014724    2.69      0  \n",
       "2  -0.689281 -0.327642 -0.139097 -0.055353 -0.059752  378.66      0  \n",
       "3  -1.175575  0.647376 -0.221929  0.062723  0.061458  123.50      0  \n",
       "4   0.141267 -0.206010  0.502292  0.219422  0.215153   69.99      0  \n",
       "5  -0.371427 -0.232794  0.105915  0.253844  0.081080    3.67      0  \n",
       "6  -0.780055  0.750137 -0.257237  0.034507  0.005168    4.99      0  \n",
       "7  -0.649709 -0.415267 -0.051634 -1.206921 -1.085339   40.80      0  \n",
       "8   1.011592  0.373205 -0.384157  0.011747  0.142404   93.20      0  \n",
       "9  -0.385050 -0.069733  0.094199  0.246219  0.083076    3.68      0  \n",
       "10  0.500512  0.251367 -0.129478  0.042850  0.016253    7.80      0  \n",
       "11  0.996710 -0.767315 -0.492208  0.042472 -0.054337    9.99      0  \n",
       "12  0.392831  0.161135 -0.354990  0.026416  0.042422  121.50      0  \n",
       "13  0.104744  0.548265  0.104094  0.021491  0.021293   27.50      0  \n",
       "14  0.028317 -0.232746 -0.235557 -0.164778 -0.030154   58.80      0  \n",
       "15 -0.065084 -0.039124 -0.087086 -0.180998  0.129394   15.99      0  \n",
       "16  0.103758  0.364298 -0.382261  0.092809  0.037051   12.99      0  \n",
       "17 -0.888386 -0.342413 -0.049027  0.079692  0.131024    0.89      0  \n",
       "18  0.042119 -0.481631 -0.621272  0.392053  0.949594   46.80      0  \n",
       "19  0.295814  0.332931 -0.220385  0.022298  0.007602    5.00      0  \n",
       "\n",
       "[20 rows x 31 columns]"
      ]
     },
     "execution_count": 4,
     "metadata": {},
     "output_type": "execute_result"
    }
   ],
   "source": [
    "#Use parameter 'n' to display instances other than 5.\n",
    "creditcard_data.head(n=20)"
   ]
  },
  {
   "cell_type": "code",
   "execution_count": 5,
   "metadata": {
    "_uuid": "348fb240bbcc1ad3c9ccf7e32168d4a94d739ec7",
    "collapsed": false,
    "scrolled": true
   },
   "outputs": [
    {
     "data": {
      "text/plain": [
       "(284807, 31)"
      ]
     },
     "execution_count": 5,
     "metadata": {},
     "output_type": "execute_result"
    }
   ],
   "source": [
    "#Number of instances and attributes,i.e., Dimensionality of the dataset\n",
    "creditcard_data.shape"
   ]
  },
  {
   "cell_type": "code",
   "execution_count": 6,
   "metadata": {
    "_uuid": "a800376a978651bf103a947b5f33835602645f2a",
    "collapsed": false
   },
   "outputs": [
    {
     "name": "stdout",
     "output_type": "stream",
     "text": [
      "<class 'pandas.core.frame.DataFrame'>\n",
      "RangeIndex: 284807 entries, 0 to 284806\n",
      "Data columns (total 31 columns):\n",
      "Time      284807 non-null float64\n",
      "V1        284807 non-null float64\n",
      "V2        284807 non-null float64\n",
      "V3        284807 non-null float64\n",
      "V4        284807 non-null float64\n",
      "V5        284807 non-null float64\n",
      "V6        284807 non-null float64\n",
      "V7        284807 non-null float64\n",
      "V8        284807 non-null float64\n",
      "V9        284807 non-null float64\n",
      "V10       284807 non-null float64\n",
      "V11       284807 non-null float64\n",
      "V12       284807 non-null float64\n",
      "V13       284807 non-null float64\n",
      "V14       284807 non-null float64\n",
      "V15       284807 non-null float64\n",
      "V16       284807 non-null float64\n",
      "V17       284807 non-null float64\n",
      "V18       284807 non-null float64\n",
      "V19       284807 non-null float64\n",
      "V20       284807 non-null float64\n",
      "V21       284807 non-null float64\n",
      "V22       284807 non-null float64\n",
      "V23       284807 non-null float64\n",
      "V24       284807 non-null float64\n",
      "V25       284807 non-null float64\n",
      "V26       284807 non-null float64\n",
      "V27       284807 non-null float64\n",
      "V28       284807 non-null float64\n",
      "Amount    284807 non-null float64\n",
      "Class     284807 non-null int64\n",
      "dtypes: float64(30), int64(1)\n",
      "memory usage: 67.4 MB\n"
     ]
    }
   ],
   "source": [
    "creditcard_data.info()"
   ]
  },
  {
   "cell_type": "markdown",
   "metadata": {
    "_uuid": "c9d4dbb7f5842d34dbed7f4fe764eb31f56da666"
   },
   "source": [
    "This shows that there are 284807 instances and 31 attributes including the class attribute."
   ]
  },
  {
   "cell_type": "code",
   "execution_count": 7,
   "metadata": {
    "_uuid": "e0c2a771f98176ced86437b5ed5c7d9c19c2996b",
    "collapsed": false
   },
   "outputs": [
    {
     "data": {
      "text/plain": [
       "Time      0\n",
       "V1        0\n",
       "V2        0\n",
       "V3        0\n",
       "V4        0\n",
       "V5        0\n",
       "V6        0\n",
       "V7        0\n",
       "V8        0\n",
       "V9        0\n",
       "V10       0\n",
       "V11       0\n",
       "V12       0\n",
       "V13       0\n",
       "V14       0\n",
       "V15       0\n",
       "V16       0\n",
       "V17       0\n",
       "V18       0\n",
       "V19       0\n",
       "V20       0\n",
       "V21       0\n",
       "V22       0\n",
       "V23       0\n",
       "V24       0\n",
       "V25       0\n",
       "V26       0\n",
       "V27       0\n",
       "V28       0\n",
       "Amount    0\n",
       "Class     0\n",
       "dtype: int64"
      ]
     },
     "execution_count": 7,
     "metadata": {},
     "output_type": "execute_result"
    }
   ],
   "source": [
    "#Sum of missing cells for each attribute\n",
    "creditcard_data.isnull().sum()"
   ]
  },
  {
   "cell_type": "markdown",
   "metadata": {
    "_uuid": "c2ba33fa4673e5531714e5aef568e3ab12d7c737"
   },
   "source": [
    "The 0 sum for all attributes shows that there are no missing values."
   ]
  },
  {
   "cell_type": "code",
   "execution_count": 8,
   "metadata": {
    "_uuid": "20cffdc3ddfcfed6b39cbc5be053b02fbcdde52f",
    "collapsed": false
   },
   "outputs": [
    {
     "data": {
      "text/plain": [
       "2"
      ]
     },
     "execution_count": 8,
     "metadata": {},
     "output_type": "execute_result"
    }
   ],
   "source": [
    "#Number of distinct categories or classes i.e., Fraudulent and Genuine\n",
    "creditcard_data['Class'].nunique()"
   ]
  },
  {
   "cell_type": "markdown",
   "metadata": {
    "_uuid": "a9ab705a42d3e999d07c2c025161bb3a4f3df05d"
   },
   "source": [
    "As expected, there are only 2 classes."
   ]
  },
  {
   "cell_type": "code",
   "execution_count": 9,
   "metadata": {
    "_uuid": "65ee58a18183a27bc5ee02e0ab7a3bce0fe2b2ae",
    "collapsed": false
   },
   "outputs": [
    {
     "data": {
      "text/plain": [
       "0    284315\n",
       "1       492\n",
       "Name: Class, dtype: int64"
      ]
     },
     "execution_count": 9,
     "metadata": {},
     "output_type": "execute_result"
    }
   ],
   "source": [
    "#number of instances per class\n",
    "creditcard_data.Class.value_counts()"
   ]
  },
  {
   "cell_type": "markdown",
   "metadata": {
    "_uuid": "5c54353c3288e571a20029b7acd6e54656068cb2"
   },
   "source": [
    "This shows a complete imbalance of classes. There are 284315 'Genuine' (0) instances and only 492 'Fraudulent' (1) instances."
   ]
  },
  {
   "cell_type": "code",
   "execution_count": 10,
   "metadata": {
    "_uuid": "6a4fc54b30e26cace74115aaf0df177b2f24e764",
    "collapsed": false
   },
   "outputs": [
    {
     "data": {
      "text/plain": [
       "<matplotlib.axes._subplots.AxesSubplot at 0x20658c6dba8>"
      ]
     },
     "execution_count": 10,
     "metadata": {},
     "output_type": "execute_result"
    },
    {
     "data": {
      "image/png": "[encoded data removed]",
      "text/plain": [
       "<matplotlib.figure.Figure at 0x20658ca7320>"
      ]
     },
     "metadata": {},
     "output_type": "display_data"
    }
   ],
   "source": [
    "#visual representation of instances per class\n",
    "creditcard_data.Class.value_counts().plot.bar()"
   ]
  },
  {
   "cell_type": "markdown",
   "metadata": {
    "_uuid": "944cffb442226b9e727c753cdd01a6fc0f33a9a6"
   },
   "source": [
    "This gives a visual representation of the class imbalance. The below plot after PCA gives a better visualization of the imbalnce in the datasets."
   ]
  },
  {
   "cell_type": "code",
   "execution_count": 11,
   "metadata": {
    "_kg_hide-output": false,
    "_uuid": "fd5ecfc1499af89889e780e98a2ac702b3faeced",
    "collapsed": false
   },
   "outputs": [
    {
     "data": {
      "text/plain": [
       "<seaborn.axisgrid.FacetGrid at 0x20658cef048>"
      ]
     },
     "execution_count": 11,
     "metadata": {},
     "output_type": "execute_result"
    },
    {
     "data": {
      "image/png": "[encoded data removed]",
      "text/plain": [
       "<matplotlib.figure.Figure at 0x20658cef4a8>"
      ]
     },
     "metadata": {},
     "output_type": "display_data"
    }
   ],
   "source": [
    "#Before sampling (PCA is performed for visualization only)\n",
    "pca= PCA(n_components=2)\n",
    "creditcard_2d= pd.DataFrame(pca.fit_transform(creditcard_data.iloc[:,0:30]))\n",
    "creditcard_2d= pd.concat([creditcard_2d, creditcard_data['Class']], axis=1)\n",
    "creditcard_2d.columns= ['x', 'y', 'Class']\n",
    "sns.lmplot(x='x', y='y', data=creditcard_2d, fit_reg=False, hue='Class')"
   ]
  },
  {
   "cell_type": "code",
   "execution_count": 12,
   "metadata": {
    "_uuid": "b5f6d97f286ff55676fae9530c2899b9accd7906",
    "collapsed": false
   },
   "outputs": [
    {
     "data": {
      "text/html": [
       "<div>\n",
       "<table border=\"1\" class=\"dataframe\">\n",
       "  <thead>\n",
       "    <tr style=\"text-align: right;\">\n",
       "      <th></th>\n",
       "      <th>Time</th>\n",
       "      <th>V1</th>\n",
       "      <th>V2</th>\n",
       "      <th>V3</th>\n",
       "      <th>V4</th>\n",
       "      <th>V5</th>\n",
       "      <th>V6</th>\n",
       "      <th>V7</th>\n",
       "      <th>V8</th>\n",
       "      <th>V9</th>\n",
       "      <th>...</th>\n",
       "      <th>V21</th>\n",
       "      <th>V22</th>\n",
       "      <th>V23</th>\n",
       "      <th>V24</th>\n",
       "      <th>V25</th>\n",
       "      <th>V26</th>\n",
       "      <th>V27</th>\n",
       "      <th>V28</th>\n",
       "      <th>Amount</th>\n",
       "      <th>Class</th>\n",
       "    </tr>\n",
       "  </thead>\n",
       "  <tbody>\n",
       "    <tr>\n",
       "      <th>count</th>\n",
       "      <td>284807.000000</td>\n",
       "      <td>2.848070e+05</td>\n",
       "      <td>2.848070e+05</td>\n",
       "      <td>2.848070e+05</td>\n",
       "      <td>2.848070e+05</td>\n",
       "      <td>2.848070e+05</td>\n",
       "      <td>2.848070e+05</td>\n",
       "      <td>2.848070e+05</td>\n",
       "      <td>2.848070e+05</td>\n",
       "      <td>2.848070e+05</td>\n",
       "      <td>...</td>\n",
       "      <td>2.848070e+05</td>\n",
       "      <td>2.848070e+05</td>\n",
       "      <td>2.848070e+05</td>\n",
       "      <td>2.848070e+05</td>\n",
       "      <td>2.848070e+05</td>\n",
       "      <td>2.848070e+05</td>\n",
       "      <td>2.848070e+05</td>\n",
       "      <td>2.848070e+05</td>\n",
       "      <td>284807.000000</td>\n",
       "      <td>284807.000000</td>\n",
       "    </tr>\n",
       "    <tr>\n",
       "      <th>mean</th>\n",
       "      <td>94813.859575</td>\n",
       "      <td>3.919560e-15</td>\n",
       "      <td>5.688174e-16</td>\n",
       "      <td>-8.769071e-15</td>\n",
       "      <td>2.782312e-15</td>\n",
       "      <td>-1.552563e-15</td>\n",
       "      <td>2.010663e-15</td>\n",
       "      <td>-1.694249e-15</td>\n",
       "      <td>-1.927028e-16</td>\n",
       "      <td>-3.137024e-15</td>\n",
       "      <td>...</td>\n",
       "      <td>1.537294e-16</td>\n",
       "      <td>7.959909e-16</td>\n",
       "      <td>5.367590e-16</td>\n",
       "      <td>4.458112e-15</td>\n",
       "      <td>1.453003e-15</td>\n",
       "      <td>1.699104e-15</td>\n",
       "      <td>-3.660161e-16</td>\n",
       "      <td>-1.206049e-16</td>\n",
       "      <td>88.349619</td>\n",
       "      <td>0.001727</td>\n",
       "    </tr>\n",
       "    <tr>\n",
       "      <th>std</th>\n",
       "      <td>47488.145955</td>\n",
       "      <td>1.958696e+00</td>\n",
       "      <td>1.651309e+00</td>\n",
       "      <td>1.516255e+00</td>\n",
       "      <td>1.415869e+00</td>\n",
       "      <td>1.380247e+00</td>\n",
       "      <td>1.332271e+00</td>\n",
       "      <td>1.237094e+00</td>\n",
       "      <td>1.194353e+00</td>\n",
       "      <td>1.098632e+00</td>\n",
       "      <td>...</td>\n",
       "      <td>7.345240e-01</td>\n",
       "      <td>7.257016e-01</td>\n",
       "      <td>6.244603e-01</td>\n",
       "      <td>6.056471e-01</td>\n",
       "      <td>5.212781e-01</td>\n",
       "      <td>4.822270e-01</td>\n",
       "      <td>4.036325e-01</td>\n",
       "      <td>3.300833e-01</td>\n",
       "      <td>250.120109</td>\n",
       "      <td>0.041527</td>\n",
       "    </tr>\n",
       "    <tr>\n",
       "      <th>min</th>\n",
       "      <td>0.000000</td>\n",
       "      <td>-5.640751e+01</td>\n",
       "      <td>-7.271573e+01</td>\n",
       "      <td>-4.832559e+01</td>\n",
       "      <td>-5.683171e+00</td>\n",
       "      <td>-1.137433e+02</td>\n",
       "      <td>-2.616051e+01</td>\n",
       "      <td>-4.355724e+01</td>\n",
       "      <td>-7.321672e+01</td>\n",
       "      <td>-1.343407e+01</td>\n",
       "      <td>...</td>\n",
       "      <td>-3.483038e+01</td>\n",
       "      <td>-1.093314e+01</td>\n",
       "      <td>-4.480774e+01</td>\n",
       "      <td>-2.836627e+00</td>\n",
       "      <td>-1.029540e+01</td>\n",
       "      <td>-2.604551e+00</td>\n",
       "      <td>-2.256568e+01</td>\n",
       "      <td>-1.543008e+01</td>\n",
       "      <td>0.000000</td>\n",
       "      <td>0.000000</td>\n",
       "    </tr>\n",
       "    <tr>\n",
       "      <th>25%</th>\n",
       "      <td>54201.500000</td>\n",
       "      <td>-9.203734e-01</td>\n",
       "      <td>-5.985499e-01</td>\n",
       "      <td>-8.903648e-01</td>\n",
       "      <td>-8.486401e-01</td>\n",
       "      <td>-6.915971e-01</td>\n",
       "      <td>-7.682956e-01</td>\n",
       "      <td>-5.540759e-01</td>\n",
       "      <td>-2.086297e-01</td>\n",
       "      <td>-6.430976e-01</td>\n",
       "      <td>...</td>\n",
       "      <td>-2.283949e-01</td>\n",
       "      <td>-5.423504e-01</td>\n",
       "      <td>-1.618463e-01</td>\n",
       "      <td>-3.545861e-01</td>\n",
       "      <td>-3.171451e-01</td>\n",
       "      <td>-3.269839e-01</td>\n",
       "      <td>-7.083953e-02</td>\n",
       "      <td>-5.295979e-02</td>\n",
       "      <td>5.600000</td>\n",
       "      <td>0.000000</td>\n",
       "    </tr>\n",
       "    <tr>\n",
       "      <th>50%</th>\n",
       "      <td>84692.000000</td>\n",
       "      <td>1.810880e-02</td>\n",
       "      <td>6.548556e-02</td>\n",
       "      <td>1.798463e-01</td>\n",
       "      <td>-1.984653e-02</td>\n",
       "      <td>-5.433583e-02</td>\n",
       "      <td>-2.741871e-01</td>\n",
       "      <td>4.010308e-02</td>\n",
       "      <td>2.235804e-02</td>\n",
       "      <td>-5.142873e-02</td>\n",
       "      <td>...</td>\n",
       "      <td>-2.945017e-02</td>\n",
       "      <td>6.781943e-03</td>\n",
       "      <td>-1.119293e-02</td>\n",
       "      <td>4.097606e-02</td>\n",
       "      <td>1.659350e-02</td>\n",
       "      <td>-5.213911e-02</td>\n",
       "      <td>1.342146e-03</td>\n",
       "      <td>1.124383e-02</td>\n",
       "      <td>22.000000</td>\n",
       "      <td>0.000000</td>\n",
       "    </tr>\n",
       "    <tr>\n",
       "      <th>75%</th>\n",
       "      <td>139320.500000</td>\n",
       "      <td>1.315642e+00</td>\n",
       "      <td>8.037239e-01</td>\n",
       "      <td>1.027196e+00</td>\n",
       "      <td>7.433413e-01</td>\n",
       "      <td>6.119264e-01</td>\n",
       "      <td>3.985649e-01</td>\n",
       "      <td>5.704361e-01</td>\n",
       "      <td>3.273459e-01</td>\n",
       "      <td>5.971390e-01</td>\n",
       "      <td>...</td>\n",
       "      <td>1.863772e-01</td>\n",
       "      <td>5.285536e-01</td>\n",
       "      <td>1.476421e-01</td>\n",
       "      <td>4.395266e-01</td>\n",
       "      <td>3.507156e-01</td>\n",
       "      <td>2.409522e-01</td>\n",
       "      <td>9.104512e-02</td>\n",
       "      <td>7.827995e-02</td>\n",
       "      <td>77.165000</td>\n",
       "      <td>0.000000</td>\n",
       "    </tr>\n",
       "    <tr>\n",
       "      <th>max</th>\n",
       "      <td>172792.000000</td>\n",
       "      <td>2.454930e+00</td>\n",
       "      <td>2.205773e+01</td>\n",
       "      <td>9.382558e+00</td>\n",
       "      <td>1.687534e+01</td>\n",
       "      <td>3.480167e+01</td>\n",
       "      <td>7.330163e+01</td>\n",
       "      <td>1.205895e+02</td>\n",
       "      <td>2.000721e+01</td>\n",
       "      <td>1.559499e+01</td>\n",
       "      <td>...</td>\n",
       "      <td>2.720284e+01</td>\n",
       "      <td>1.050309e+01</td>\n",
       "      <td>2.252841e+01</td>\n",
       "      <td>4.584549e+00</td>\n",
       "      <td>7.519589e+00</td>\n",
       "      <td>3.517346e+00</td>\n",
       "      <td>3.161220e+01</td>\n",
       "      <td>3.384781e+01</td>\n",
       "      <td>25691.160000</td>\n",
       "      <td>1.000000</td>\n",
       "    </tr>\n",
       "  </tbody>\n",
       "</table>\n",
       "<p>8 rows × 31 columns</p>\n",
       "</div>"
      ],
      "text/plain": [
       "                Time            V1            V2            V3            V4  \\\n",
       "count  284807.000000  2.848070e+05  2.848070e+05  2.848070e+05  2.848070e+05   \n",
       "mean    94813.859575  3.919560e-15  5.688174e-16 -8.769071e-15  2.782312e-15   \n",
       "std     47488.145955  1.958696e+00  1.651309e+00  1.516255e+00  1.415869e+00   \n",
       "min         0.000000 -5.640751e+01 -7.271573e+01 -4.832559e+01 -5.683171e+00   \n",
       "25%     54201.500000 -9.203734e-01 -5.985499e-01 -8.903648e-01 -8.486401e-01   \n",
       "50%     84692.000000  1.810880e-02  6.548556e-02  1.798463e-01 -1.984653e-02   \n",
       "75%    139320.500000  1.315642e+00  8.037239e-01  1.027196e+00  7.433413e-01   \n",
       "max    172792.000000  2.454930e+00  2.205773e+01  9.382558e+00  1.687534e+01   \n",
       "\n",
       "                 V5            V6            V7            V8            V9  \\\n",
       "count  2.848070e+05  2.848070e+05  2.848070e+05  2.848070e+05  2.848070e+05   \n",
       "mean  -1.552563e-15  2.010663e-15 -1.694249e-15 -1.927028e-16 -3.137024e-15   \n",
       "std    1.380247e+00  1.332271e+00  1.237094e+00  1.194353e+00  1.098632e+00   \n",
       "min   -1.137433e+02 -2.616051e+01 -4.355724e+01 -7.321672e+01 -1.343407e+01   \n",
       "25%   -6.915971e-01 -7.682956e-01 -5.540759e-01 -2.086297e-01 -6.430976e-01   \n",
       "50%   -5.433583e-02 -2.741871e-01  4.010308e-02  2.235804e-02 -5.142873e-02   \n",
       "75%    6.119264e-01  3.985649e-01  5.704361e-01  3.273459e-01  5.971390e-01   \n",
       "max    3.480167e+01  7.330163e+01  1.205895e+02  2.000721e+01  1.559499e+01   \n",
       "\n",
       "           ...                 V21           V22           V23           V24  \\\n",
       "count      ...        2.848070e+05  2.848070e+05  2.848070e+05  2.848070e+05   \n",
       "mean       ...        1.537294e-16  7.959909e-16  5.367590e-16  4.458112e-15   \n",
       "std        ...        7.345240e-01  7.257016e-01  6.244603e-01  6.056471e-01   \n",
       "min        ...       -3.483038e+01 -1.093314e+01 -4.480774e+01 -2.836627e+00   \n",
       "25%        ...       -2.283949e-01 -5.423504e-01 -1.618463e-01 -3.545861e-01   \n",
       "50%        ...       -2.945017e-02  6.781943e-03 -1.119293e-02  4.097606e-02   \n",
       "75%        ...        1.863772e-01  5.285536e-01  1.476421e-01  4.395266e-01   \n",
       "max        ...        2.720284e+01  1.050309e+01  2.252841e+01  4.584549e+00   \n",
       "\n",
       "                V25           V26           V27           V28         Amount  \\\n",
       "count  2.848070e+05  2.848070e+05  2.848070e+05  2.848070e+05  284807.000000   \n",
       "mean   1.453003e-15  1.699104e-15 -3.660161e-16 -1.206049e-16      88.349619   \n",
       "std    5.212781e-01  4.822270e-01  4.036325e-01  3.300833e-01     250.120109   \n",
       "min   -1.029540e+01 -2.604551e+00 -2.256568e+01 -1.543008e+01       0.000000   \n",
       "25%   -3.171451e-01 -3.269839e-01 -7.083953e-02 -5.295979e-02       5.600000   \n",
       "50%    1.659350e-02 -5.213911e-02  1.342146e-03  1.124383e-02      22.000000   \n",
       "75%    3.507156e-01  2.409522e-01  9.104512e-02  7.827995e-02      77.165000   \n",
       "max    7.519589e+00  3.517346e+00  3.161220e+01  3.384781e+01   25691.160000   \n",
       "\n",
       "               Class  \n",
       "count  284807.000000  \n",
       "mean        0.001727  \n",
       "std         0.041527  \n",
       "min         0.000000  \n",
       "25%         0.000000  \n",
       "50%         0.000000  \n",
       "75%         0.000000  \n",
       "max         1.000000  \n",
       "\n",
       "[8 rows x 31 columns]"
      ]
     },
     "execution_count": 12,
     "metadata": {},
     "output_type": "execute_result"
    }
   ],
   "source": [
    "#Descriptive Statistics\n",
    "creditcard_data.describe()"
   ]
  },
  {
   "cell_type": "code",
   "execution_count": 13,
   "metadata": {
    "_uuid": "262cd8032c3c0fc673b24e1a736879f49c85fe8b",
    "collapsed": false
   },
   "outputs": [
    {
     "data": {
      "text/plain": [
       "0    0.998273\n",
       "1    0.001727\n",
       "Name: Class, dtype: float64"
      ]
     },
     "execution_count": 13,
     "metadata": {},
     "output_type": "execute_result"
    }
   ],
   "source": [
    "#checking the percentage of each class in the dataset\n",
    "(creditcard_data.Class.value_counts())/(creditcard_data.Class.count())"
   ]
  },
  {
   "cell_type": "code",
   "execution_count": 14,
   "metadata": {
    "_uuid": "6582d8d6d1de0622a44270d381538362ee898ae4",
    "collapsed": false,
    "scrolled": true
   },
   "outputs": [
    {
     "data": {
      "image/png": "[encoded data removed]",
      "text/plain": [
       "<matplotlib.figure.Figure at 0x2065da676a0>"
      ]
     },
     "metadata": {},
     "output_type": "display_data"
    }
   ],
   "source": [
    "#Histrogram for feature Time\n",
    "f, (ax1, ax2) = plt.subplots(2, 1, sharex=True, figsize=(12,4))\n",
    "\n",
    "ax1.hist(creditcard_data[\"Time\"][creditcard_data[\"Class\"] == 1], bins = 50)\n",
    "ax1.set_title('Fraudulent')\n",
    "\n",
    "ax2.hist(creditcard_data[\"Time\"][creditcard_data[\"Class\"] == 0], bins = 50)\n",
    "ax2.set_title('Genuine')\n",
    "\n",
    "plt.xlabel('Seconds after transaction number zero')\n",
    "plt.ylabel('Number of Transactions')\n",
    "plt.show()"
   ]
  },
  {
   "cell_type": "markdown",
   "metadata": {
    "_uuid": "bd89458d4088fbcdd4691924d6b50c30e5e4b5d3"
   },
   "source": [
    "The transactions occur in a cyclic way. But the time feature does not provide any useful information as the time when the first transaction was initiated is not given. Thus, we'll drop this feature."
   ]
  },
  {
   "cell_type": "code",
   "execution_count": 15,
   "metadata": {
    "_uuid": "6109f88ba2d24897a53432f79e7061d7b31c1970",
    "collapsed": false
   },
   "outputs": [
    {
     "data": {
      "text/plain": [
       "(284807, 30)"
      ]
     },
     "execution_count": 15,
     "metadata": {},
     "output_type": "execute_result"
    }
   ],
   "source": [
    "#dropping Time because it does not give any valuable information\n",
    "creditcard_data = creditcard_data.drop(\"Time\", axis = 1)\n",
    "creditcard_data.shape"
   ]
  },
  {
   "cell_type": "markdown",
   "metadata": {
    "_uuid": "1c77f25ba099bc6a1f04b20a2710d86f274fb010"
   },
   "source": [
    "Now there are 30 features in the dataset."
   ]
  },
  {
   "cell_type": "code",
   "execution_count": 16,
   "metadata": {
    "_uuid": "62ead20165ec5089338dee6b74e5a794ce66239c",
    "collapsed": false
   },
   "outputs": [
    {
     "name": "stdout",
     "output_type": "stream",
     "text": [
      "Fraudulent Transactions\n"
     ]
    },
    {
     "data": {
      "text/plain": [
       "count     492.000000\n",
       "mean      122.211321\n",
       "std       256.683288\n",
       "min         0.000000\n",
       "25%         1.000000\n",
       "50%         9.250000\n",
       "75%       105.890000\n",
       "max      2125.870000\n",
       "Name: Amount, dtype: float64"
      ]
     },
     "execution_count": 16,
     "metadata": {},
     "output_type": "execute_result"
    }
   ],
   "source": [
    "#Descriptive statistics for Fraudulent Transactions\n",
    "print(\"Fraudulent Transactions\")\n",
    "creditcard_data['Amount'][creditcard_data['Class']==1]. describe()"
   ]
  },
  {
   "cell_type": "code",
   "execution_count": 17,
   "metadata": {
    "_uuid": "96dd8124796b4617acf013c353b3dea1ec5c42c9",
    "collapsed": false
   },
   "outputs": [
    {
     "name": "stdout",
     "output_type": "stream",
     "text": [
      "Genuine Transactions\n"
     ]
    },
    {
     "data": {
      "text/plain": [
       "count    284315.000000\n",
       "mean         88.291022\n",
       "std         250.105092\n",
       "min           0.000000\n",
       "25%           5.650000\n",
       "50%          22.000000\n",
       "75%          77.050000\n",
       "max       25691.160000\n",
       "Name: Amount, dtype: float64"
      ]
     },
     "execution_count": 17,
     "metadata": {},
     "output_type": "execute_result"
    }
   ],
   "source": [
    "#Descriptive statistics for Genuine Transactions\n",
    "print(\"Genuine Transactions\")\n",
    "creditcard_data['Amount'][creditcard_data['Class']==0]. describe()"
   ]
  },
  {
   "cell_type": "markdown",
   "metadata": {
    "_uuid": "00320434cf9b59ccc0f14b7dd3106704451286b6"
   },
   "source": [
    "Nothing much can be determined from the Amount, as most of the transactions are around 100 in both cases.."
   ]
  },
  {
   "cell_type": "code",
   "execution_count": 18,
   "metadata": {
    "_uuid": "ceca6db901ec119d7f66fe7e9855dc246744d91a",
    "collapsed": false
   },
   "outputs": [
    {
     "data": {
      "text/plain": [
       "V1            3.836489\n",
       "V2            2.726820\n",
       "V3            2.299029\n",
       "V4            2.004684\n",
       "V5            1.905081\n",
       "V6            1.774946\n",
       "V7            1.530401\n",
       "V8            1.426479\n",
       "V9            1.206992\n",
       "V10           1.185594\n",
       "V11           1.041855\n",
       "V12           0.998403\n",
       "V13           0.990571\n",
       "V14           0.918906\n",
       "V15           0.837803\n",
       "V16           0.767819\n",
       "V17           0.721373\n",
       "V18           0.702539\n",
       "V19           0.662662\n",
       "V20           0.594325\n",
       "V21           0.539526\n",
       "V22           0.526643\n",
       "V23           0.389951\n",
       "V24           0.366808\n",
       "V25           0.271731\n",
       "V26           0.232543\n",
       "V27           0.162919\n",
       "V28           0.108955\n",
       "Amount    62560.069046\n",
       "Class         0.001725\n",
       "dtype: float64"
      ]
     },
     "execution_count": 18,
     "metadata": {},
     "output_type": "execute_result"
    }
   ],
   "source": [
    "#Variance\n",
    "creditcard_data.var()"
   ]
  },
  {
   "cell_type": "markdown",
   "metadata": {
    "_uuid": "505097712d8283e6f5cba1736b2246f16c57194c"
   },
   "source": [
    "Amount needs to be scaled. As if a feature has a variance orders of magnitude larger than the rest of the features, then it might dominate and, make the estimator unable to learn from other features as expected."
   ]
  },
  {
   "cell_type": "code",
   "execution_count": 19,
   "metadata": {
    "_uuid": "18ed63266e1ec2c3a66faece83561da2062e2942",
    "collapsed": false
   },
   "outputs": [
    {
     "data": {
      "text/plain": [
       "<matplotlib.axes._subplots.AxesSubplot at 0x2065db57c88>"
      ]
     },
     "execution_count": 19,
     "metadata": {},
     "output_type": "execute_result"
    },
    {
     "data": {
      "image/png": "[encoded data removed]",
      "text/plain": [
       "<matplotlib.figure.Figure at 0x2065db1bef0>"
      ]
     },
     "metadata": {},
     "output_type": "display_data"
    }
   ],
   "source": [
    "#Boxplot for the Amount feature, in order to visualiza the outliers.\n",
    "sns.boxplot(x=creditcard_data['Class'], y=creditcard_data['Amount'])"
   ]
  },
  {
   "cell_type": "markdown",
   "metadata": {
    "_uuid": "f125499cc109bc18c2c9973f7ff49a3e8a8cdb59"
   },
   "source": [
    "The non-fraudulent instances are highly skewed. The outliers can be seen visually and thus, it's better to use a Robust Scaler to scale the feature 'Amount' as it is less prone to outliers."
   ]
  },
  {
   "cell_type": "code",
   "execution_count": 20,
   "metadata": {
    "_uuid": "c9e282023e018c984bfb33bc46662253b23cf68d",
    "collapsed": false
   },
   "outputs": [
    {
     "data": {
      "text/html": [
       "<div>\n",
       "<table border=\"1\" class=\"dataframe\">\n",
       "  <thead>\n",
       "    <tr style=\"text-align: right;\">\n",
       "      <th></th>\n",
       "      <th>V1</th>\n",
       "      <th>V2</th>\n",
       "      <th>V3</th>\n",
       "      <th>V4</th>\n",
       "      <th>V5</th>\n",
       "      <th>V6</th>\n",
       "      <th>V7</th>\n",
       "      <th>V8</th>\n",
       "      <th>V9</th>\n",
       "      <th>V10</th>\n",
       "      <th>...</th>\n",
       "      <th>V22</th>\n",
       "      <th>V23</th>\n",
       "      <th>V24</th>\n",
       "      <th>V25</th>\n",
       "      <th>V26</th>\n",
       "      <th>V27</th>\n",
       "      <th>V28</th>\n",
       "      <th>Amount</th>\n",
       "      <th>Class</th>\n",
       "      <th>Std_Amount</th>\n",
       "    </tr>\n",
       "  </thead>\n",
       "  <tbody>\n",
       "    <tr>\n",
       "      <th>0</th>\n",
       "      <td>-1.359807</td>\n",
       "      <td>-0.072781</td>\n",
       "      <td>2.536347</td>\n",
       "      <td>1.378155</td>\n",
       "      <td>-0.338321</td>\n",
       "      <td>0.462388</td>\n",
       "      <td>0.239599</td>\n",
       "      <td>0.098698</td>\n",
       "      <td>0.363787</td>\n",
       "      <td>0.090794</td>\n",
       "      <td>...</td>\n",
       "      <td>0.277838</td>\n",
       "      <td>-0.110474</td>\n",
       "      <td>0.066928</td>\n",
       "      <td>0.128539</td>\n",
       "      <td>-0.189115</td>\n",
       "      <td>0.133558</td>\n",
       "      <td>-0.021053</td>\n",
       "      <td>149.62</td>\n",
       "      <td>0</td>\n",
       "      <td>1.783274</td>\n",
       "    </tr>\n",
       "    <tr>\n",
       "      <th>1</th>\n",
       "      <td>1.191857</td>\n",
       "      <td>0.266151</td>\n",
       "      <td>0.166480</td>\n",
       "      <td>0.448154</td>\n",
       "      <td>0.060018</td>\n",
       "      <td>-0.082361</td>\n",
       "      <td>-0.078803</td>\n",
       "      <td>0.085102</td>\n",
       "      <td>-0.255425</td>\n",
       "      <td>-0.166974</td>\n",
       "      <td>...</td>\n",
       "      <td>-0.638672</td>\n",
       "      <td>0.101288</td>\n",
       "      <td>-0.339846</td>\n",
       "      <td>0.167170</td>\n",
       "      <td>0.125895</td>\n",
       "      <td>-0.008983</td>\n",
       "      <td>0.014724</td>\n",
       "      <td>2.69</td>\n",
       "      <td>0</td>\n",
       "      <td>-0.269825</td>\n",
       "    </tr>\n",
       "    <tr>\n",
       "      <th>2</th>\n",
       "      <td>-1.358354</td>\n",
       "      <td>-1.340163</td>\n",
       "      <td>1.773209</td>\n",
       "      <td>0.379780</td>\n",
       "      <td>-0.503198</td>\n",
       "      <td>1.800499</td>\n",
       "      <td>0.791461</td>\n",
       "      <td>0.247676</td>\n",
       "      <td>-1.514654</td>\n",
       "      <td>0.207643</td>\n",
       "      <td>...</td>\n",
       "      <td>0.771679</td>\n",
       "      <td>0.909412</td>\n",
       "      <td>-0.689281</td>\n",
       "      <td>-0.327642</td>\n",
       "      <td>-0.139097</td>\n",
       "      <td>-0.055353</td>\n",
       "      <td>-0.059752</td>\n",
       "      <td>378.66</td>\n",
       "      <td>0</td>\n",
       "      <td>4.983721</td>\n",
       "    </tr>\n",
       "    <tr>\n",
       "      <th>3</th>\n",
       "      <td>-0.966272</td>\n",
       "      <td>-0.185226</td>\n",
       "      <td>1.792993</td>\n",
       "      <td>-0.863291</td>\n",
       "      <td>-0.010309</td>\n",
       "      <td>1.247203</td>\n",
       "      <td>0.237609</td>\n",
       "      <td>0.377436</td>\n",
       "      <td>-1.387024</td>\n",
       "      <td>-0.054952</td>\n",
       "      <td>...</td>\n",
       "      <td>0.005274</td>\n",
       "      <td>-0.190321</td>\n",
       "      <td>-1.175575</td>\n",
       "      <td>0.647376</td>\n",
       "      <td>-0.221929</td>\n",
       "      <td>0.062723</td>\n",
       "      <td>0.061458</td>\n",
       "      <td>123.50</td>\n",
       "      <td>0</td>\n",
       "      <td>1.418291</td>\n",
       "    </tr>\n",
       "    <tr>\n",
       "      <th>4</th>\n",
       "      <td>-1.158233</td>\n",
       "      <td>0.877737</td>\n",
       "      <td>1.548718</td>\n",
       "      <td>0.403034</td>\n",
       "      <td>-0.407193</td>\n",
       "      <td>0.095921</td>\n",
       "      <td>0.592941</td>\n",
       "      <td>-0.270533</td>\n",
       "      <td>0.817739</td>\n",
       "      <td>0.753074</td>\n",
       "      <td>...</td>\n",
       "      <td>0.798278</td>\n",
       "      <td>-0.137458</td>\n",
       "      <td>0.141267</td>\n",
       "      <td>-0.206010</td>\n",
       "      <td>0.502292</td>\n",
       "      <td>0.219422</td>\n",
       "      <td>0.215153</td>\n",
       "      <td>69.99</td>\n",
       "      <td>0</td>\n",
       "      <td>0.670579</td>\n",
       "    </tr>\n",
       "  </tbody>\n",
       "</table>\n",
       "<p>5 rows × 31 columns</p>\n",
       "</div>"
      ],
      "text/plain": [
       "         V1        V2        V3        V4        V5        V6        V7  \\\n",
       "0 -1.359807 -0.072781  2.536347  1.378155 -0.338321  0.462388  0.239599   \n",
       "1  1.191857  0.266151  0.166480  0.448154  0.060018 -0.082361 -0.078803   \n",
       "2 -1.358354 -1.340163  1.773209  0.379780 -0.503198  1.800499  0.791461   \n",
       "3 -0.966272 -0.185226  1.792993 -0.863291 -0.010309  1.247203  0.237609   \n",
       "4 -1.158233  0.877737  1.548718  0.403034 -0.407193  0.095921  0.592941   \n",
       "\n",
       "         V8        V9       V10     ...           V22       V23       V24  \\\n",
       "0  0.098698  0.363787  0.090794     ...      0.277838 -0.110474  0.066928   \n",
       "1  0.085102 -0.255425 -0.166974     ...     -0.638672  0.101288 -0.339846   \n",
       "2  0.247676 -1.514654  0.207643     ...      0.771679  0.909412 -0.689281   \n",
       "3  0.377436 -1.387024 -0.054952     ...      0.005274 -0.190321 -1.175575   \n",
       "4 -0.270533  0.817739  0.753074     ...      0.798278 -0.137458  0.141267   \n",
       "\n",
       "        V25       V26       V27       V28  Amount  Class  Std_Amount  \n",
       "0  0.128539 -0.189115  0.133558 -0.021053  149.62      0    1.783274  \n",
       "1  0.167170  0.125895 -0.008983  0.014724    2.69      0   -0.269825  \n",
       "2 -0.327642 -0.139097 -0.055353 -0.059752  378.66      0    4.983721  \n",
       "3  0.647376 -0.221929  0.062723  0.061458  123.50      0    1.418291  \n",
       "4 -0.206010  0.502292  0.219422  0.215153   69.99      0    0.670579  \n",
       "\n",
       "[5 rows x 31 columns]"
      ]
     },
     "execution_count": 20,
     "metadata": {},
     "output_type": "execute_result"
    }
   ],
   "source": [
    "#Standardizing the Amount column (All other 'V' columns are already scaled as they've undergone PCA transformation).\n",
    "Rob_scaler=RobustScaler() #Robust to outliers\n",
    "creditcard_data['Std_Amount'] = Rob_scaler.fit_transform(creditcard_data['Amount'].values.reshape(-1, 1))\n",
    "creditcard_data.head()"
   ]
  },
  {
   "cell_type": "code",
   "execution_count": 21,
   "metadata": {
    "_uuid": "48607508d0c739386e7218bd0b3c02d335480296",
    "collapsed": false
   },
   "outputs": [
    {
     "data": {
      "text/html": [
       "<div>\n",
       "<table border=\"1\" class=\"dataframe\">\n",
       "  <thead>\n",
       "    <tr style=\"text-align: right;\">\n",
       "      <th></th>\n",
       "      <th>Std_Amount</th>\n",
       "      <th>V1</th>\n",
       "      <th>V2</th>\n",
       "      <th>V3</th>\n",
       "      <th>V4</th>\n",
       "      <th>V5</th>\n",
       "      <th>V6</th>\n",
       "      <th>V7</th>\n",
       "      <th>V8</th>\n",
       "      <th>V9</th>\n",
       "      <th>...</th>\n",
       "      <th>V20</th>\n",
       "      <th>V21</th>\n",
       "      <th>V22</th>\n",
       "      <th>V23</th>\n",
       "      <th>V24</th>\n",
       "      <th>V25</th>\n",
       "      <th>V26</th>\n",
       "      <th>V27</th>\n",
       "      <th>V28</th>\n",
       "      <th>Class</th>\n",
       "    </tr>\n",
       "  </thead>\n",
       "  <tbody>\n",
       "    <tr>\n",
       "      <th>0</th>\n",
       "      <td>1.783274</td>\n",
       "      <td>-1.359807</td>\n",
       "      <td>-0.072781</td>\n",
       "      <td>2.536347</td>\n",
       "      <td>1.378155</td>\n",
       "      <td>-0.338321</td>\n",
       "      <td>0.462388</td>\n",
       "      <td>0.239599</td>\n",
       "      <td>0.098698</td>\n",
       "      <td>0.363787</td>\n",
       "      <td>...</td>\n",
       "      <td>0.251412</td>\n",
       "      <td>-0.018307</td>\n",
       "      <td>0.277838</td>\n",
       "      <td>-0.110474</td>\n",
       "      <td>0.066928</td>\n",
       "      <td>0.128539</td>\n",
       "      <td>-0.189115</td>\n",
       "      <td>0.133558</td>\n",
       "      <td>-0.021053</td>\n",
       "      <td>0</td>\n",
       "    </tr>\n",
       "    <tr>\n",
       "      <th>1</th>\n",
       "      <td>-0.269825</td>\n",
       "      <td>1.191857</td>\n",
       "      <td>0.266151</td>\n",
       "      <td>0.166480</td>\n",
       "      <td>0.448154</td>\n",
       "      <td>0.060018</td>\n",
       "      <td>-0.082361</td>\n",
       "      <td>-0.078803</td>\n",
       "      <td>0.085102</td>\n",
       "      <td>-0.255425</td>\n",
       "      <td>...</td>\n",
       "      <td>-0.069083</td>\n",
       "      <td>-0.225775</td>\n",
       "      <td>-0.638672</td>\n",
       "      <td>0.101288</td>\n",
       "      <td>-0.339846</td>\n",
       "      <td>0.167170</td>\n",
       "      <td>0.125895</td>\n",
       "      <td>-0.008983</td>\n",
       "      <td>0.014724</td>\n",
       "      <td>0</td>\n",
       "    </tr>\n",
       "    <tr>\n",
       "      <th>2</th>\n",
       "      <td>4.983721</td>\n",
       "      <td>-1.358354</td>\n",
       "      <td>-1.340163</td>\n",
       "      <td>1.773209</td>\n",
       "      <td>0.379780</td>\n",
       "      <td>-0.503198</td>\n",
       "      <td>1.800499</td>\n",
       "      <td>0.791461</td>\n",
       "      <td>0.247676</td>\n",
       "      <td>-1.514654</td>\n",
       "      <td>...</td>\n",
       "      <td>0.524980</td>\n",
       "      <td>0.247998</td>\n",
       "      <td>0.771679</td>\n",
       "      <td>0.909412</td>\n",
       "      <td>-0.689281</td>\n",
       "      <td>-0.327642</td>\n",
       "      <td>-0.139097</td>\n",
       "      <td>-0.055353</td>\n",
       "      <td>-0.059752</td>\n",
       "      <td>0</td>\n",
       "    </tr>\n",
       "    <tr>\n",
       "      <th>3</th>\n",
       "      <td>1.418291</td>\n",
       "      <td>-0.966272</td>\n",
       "      <td>-0.185226</td>\n",
       "      <td>1.792993</td>\n",
       "      <td>-0.863291</td>\n",
       "      <td>-0.010309</td>\n",
       "      <td>1.247203</td>\n",
       "      <td>0.237609</td>\n",
       "      <td>0.377436</td>\n",
       "      <td>-1.387024</td>\n",
       "      <td>...</td>\n",
       "      <td>-0.208038</td>\n",
       "      <td>-0.108300</td>\n",
       "      <td>0.005274</td>\n",
       "      <td>-0.190321</td>\n",
       "      <td>-1.175575</td>\n",
       "      <td>0.647376</td>\n",
       "      <td>-0.221929</td>\n",
       "      <td>0.062723</td>\n",
       "      <td>0.061458</td>\n",
       "      <td>0</td>\n",
       "    </tr>\n",
       "    <tr>\n",
       "      <th>4</th>\n",
       "      <td>0.670579</td>\n",
       "      <td>-1.158233</td>\n",
       "      <td>0.877737</td>\n",
       "      <td>1.548718</td>\n",
       "      <td>0.403034</td>\n",
       "      <td>-0.407193</td>\n",
       "      <td>0.095921</td>\n",
       "      <td>0.592941</td>\n",
       "      <td>-0.270533</td>\n",
       "      <td>0.817739</td>\n",
       "      <td>...</td>\n",
       "      <td>0.408542</td>\n",
       "      <td>-0.009431</td>\n",
       "      <td>0.798278</td>\n",
       "      <td>-0.137458</td>\n",
       "      <td>0.141267</td>\n",
       "      <td>-0.206010</td>\n",
       "      <td>0.502292</td>\n",
       "      <td>0.219422</td>\n",
       "      <td>0.215153</td>\n",
       "      <td>0</td>\n",
       "    </tr>\n",
       "  </tbody>\n",
       "</table>\n",
       "<p>5 rows × 30 columns</p>\n",
       "</div>"
      ],
      "text/plain": [
       "   Std_Amount        V1        V2        V3        V4        V5        V6  \\\n",
       "0    1.783274 -1.359807 -0.072781  2.536347  1.378155 -0.338321  0.462388   \n",
       "1   -0.269825  1.191857  0.266151  0.166480  0.448154  0.060018 -0.082361   \n",
       "2    4.983721 -1.358354 -1.340163  1.773209  0.379780 -0.503198  1.800499   \n",
       "3    1.418291 -0.966272 -0.185226  1.792993 -0.863291 -0.010309  1.247203   \n",
       "4    0.670579 -1.158233  0.877737  1.548718  0.403034 -0.407193  0.095921   \n",
       "\n",
       "         V7        V8        V9  ...         V20       V21       V22  \\\n",
       "0  0.239599  0.098698  0.363787  ...    0.251412 -0.018307  0.277838   \n",
       "1 -0.078803  0.085102 -0.255425  ...   -0.069083 -0.225775 -0.638672   \n",
       "2  0.791461  0.247676 -1.514654  ...    0.524980  0.247998  0.771679   \n",
       "3  0.237609  0.377436 -1.387024  ...   -0.208038 -0.108300  0.005274   \n",
       "4  0.592941 -0.270533  0.817739  ...    0.408542 -0.009431  0.798278   \n",
       "\n",
       "        V23       V24       V25       V26       V27       V28  Class  \n",
       "0 -0.110474  0.066928  0.128539 -0.189115  0.133558 -0.021053      0  \n",
       "1  0.101288 -0.339846  0.167170  0.125895 -0.008983  0.014724      0  \n",
       "2  0.909412 -0.689281 -0.327642 -0.139097 -0.055353 -0.059752      0  \n",
       "3 -0.190321 -1.175575  0.647376 -0.221929  0.062723  0.061458      0  \n",
       "4 -0.137458  0.141267 -0.206010  0.502292  0.219422  0.215153      0  \n",
       "\n",
       "[5 rows x 30 columns]"
      ]
     },
     "execution_count": 21,
     "metadata": {},
     "output_type": "execute_result"
    }
   ],
   "source": [
    "#drop Amount and move Std_Amount at index '0'\n",
    "creditcard_data = creditcard_data.drop('Amount',axis=1)\n",
    "\n",
    "Std_Amount = creditcard_data['Std_Amount']\n",
    "creditcard_data.drop('Std_Amount', axis=1, inplace=True)\n",
    "creditcard_data.insert(0, 'Std_Amount', Std_Amount)\n",
    "creditcard_data.head()"
   ]
  },
  {
   "cell_type": "code",
   "execution_count": 22,
   "metadata": {
    "_uuid": "eea30ac82c117bc52729b0b105012810138140d7",
    "collapsed": false
   },
   "outputs": [
    {
     "name": "stdout",
     "output_type": "stream",
     "text": [
      "Train: [265518 180305  42664 ...  29062  13766  17677] Test: [263020  11378 147283 ... 274532 269819  64170]\n",
      "Train: [ 72227 114282  16818 ... 264471 191914 284017] Test: [202638  32978 128121 ... 244024 127667  48318]\n",
      "Train: [ 20895 114622 167683 ... 244502 178972 218506] Test: [284352  82483  90981 ... 171224 168807 271602]\n",
      "Train: [122248 181660 194400 ... 104631 277586  29432] Test: [225673  63348  68025 ... 279451  77554  76043]\n",
      "Train: [241684 223467 136928 ...  86495 160550  49633] Test: [157557 204860  83760 ... 251478 178967 216850]\n",
      "Train: [186996 144807  69756 ... 195673 152135 100500] Validation: [214502 127768  18878 ...  45194 143895 114668]\n",
      "Train: [203609 160516 170008 ... 168236  40608 156569] Validation: [152253  33885 217198 ... 219379 125093 195120]\n",
      "Train: [166473 135845 190847 ... 114436 217810 119523] Validation: [135986 136793 153361 ... 221564 222657 122137]\n",
      "Train: [ 16294 187750  97608 ... 157188 191303 201639] Validation: [125168  42557 218854 ... 117014  95701  40813]\n",
      "Train: [ 14162 152802 227171 ... 187465 177484    175] Validation: [ 81275 208151  56152 ...  58305 130407 190408]\n"
     ]
    }
   ],
   "source": [
    "#Splitting data before sampling\n",
    "#Splitting data into train and test set in 80% and 20% respectively, using Stratified Shuffle Split\n",
    "\n",
    "X = creditcard_data.drop('Class', axis=1)\n",
    "Y = creditcard_data['Class']\n",
    "\n",
    "sss1 = StratifiedShuffleSplit(n_splits=5, test_size=0.2, random_state=42)\n",
    "\n",
    "for train_index1, test_index in sss1.split(X, Y):\n",
    "    print(\"Train:\", train_index1, \"Test:\", test_index)\n",
    "    Xtrain, Xtest = X.iloc[train_index1], X.iloc[test_index]\n",
    "    Ytrain, Ytest = Y.iloc[train_index1], Y.iloc[test_index]\n",
    "\n",
    "#Splitting the train set further into train and validation set, which leaves train set 60% of the originial dataset and, test and validation sets 20% each respectively.\n",
    "sss2 = StratifiedShuffleSplit(n_splits=5, test_size=0.25, random_state=42)\n",
    "\n",
    "for train_index2, val_index in sss2.split(Xtrain, Ytrain):\n",
    "    print(\"Train:\", train_index2, \"Validation:\", val_index)\n",
    "    Xtrain_final, Xval = X.iloc[train_index2], X.iloc[val_index]\n",
    "    Ytrain_final, Yval = Y.iloc[train_index2], Y.iloc[val_index]"
   ]
  },
  {
   "cell_type": "markdown",
   "metadata": {
    "_uuid": "fb7bdeffb64b5e0e6adfd1f604e5918d06d3ce81"
   },
   "source": [
    "Datasets created after splitting are:\n",
    "1. Train Dataset: Xtrain_final, Ytrain_final\n",
    "2. Test Dataset: Xtest, Ytest\n",
    "3. Validation Dataset: Xval, Yval"
   ]
  },
  {
   "cell_type": "code",
   "execution_count": 23,
   "metadata": {
    "_uuid": "01b86e5a7fef8faae526022b6c4879f2b09dd48e",
    "collapsed": false
   },
   "outputs": [
    {
     "name": "stdout",
     "output_type": "stream",
     "text": [
      "Label Distributions: \n",
      "\n",
      "[0.99807471 0.00192529]\n",
      "[0.99827955 0.00172045]\n",
      "[0.99845511 0.00154489]\n"
     ]
    }
   ],
   "source": [
    "# Check if the labels are distributed equally in all the datasets after splitting\n",
    "train_unique_label, train_counts_label = np.unique(Ytrain_final, return_counts=True)\n",
    "test_unique_label, test_counts_label = np.unique(Ytest, return_counts=True)\n",
    "val_unique_label, val_counts_label = np.unique(Yval, return_counts=True)\n",
    "\n",
    "print('Label Distributions: \\n')\n",
    "print(train_counts_label/ len(Ytrain_final))\n",
    "print(test_counts_label/ len(Ytest))\n",
    "print(val_counts_label/ len(Yval))"
   ]
  },
  {
   "cell_type": "markdown",
   "metadata": {
    "_uuid": "990cf759e3148bd31dd8b73b42b0755915756cc8"
   },
   "source": [
    "As seen above, the labels are almost equally distributed in all the three datasets"
   ]
  },
  {
   "cell_type": "code",
   "execution_count": 24,
   "metadata": {
    "_uuid": "59d177ae8b5f1b1223f7bbe9bdb7e7acd3dd15b1",
    "collapsed": false
   },
   "outputs": [
    {
     "name": "stdout",
     "output_type": "stream",
     "text": [
      "(170883, 29)\n",
      "(170883,)\n",
      "(56962, 29)\n",
      "(56962,)\n",
      "(56962, 29)\n",
      "(56962,)\n"
     ]
    }
   ],
   "source": [
    "#Dimensionality of the datasets retrieved after splitting\n",
    "print(Xtrain_final.shape)\n",
    "print(Ytrain_final.shape)\n",
    "print(Xtest.shape)\n",
    "print(Ytest.shape)\n",
    "print(Xval.shape)\n",
    "print(Yval.shape)"
   ]
  },
  {
   "cell_type": "code",
   "execution_count": 25,
   "metadata": {
    "_uuid": "b84a50d6d3a0bdb790eb1b9f3e17fdc36576d653",
    "collapsed": false
   },
   "outputs": [
    {
     "data": {
      "text/plain": [
       "<matplotlib.text.Text at 0x2065e343b00>"
      ]
     },
     "execution_count": 25,
     "metadata": {},
     "output_type": "execute_result"
    },
    {
     "data": {
      "image/png": "[encoded data removed]",
      "text/plain": [
       "<matplotlib.figure.Figure at 0x2066308aeb8>"
      ]
     },
     "metadata": {},
     "output_type": "display_data"
    }
   ],
   "source": [
    "#checking correlation between features and the likelihood of the transaction to be fraud on the unbalanced dataset\n",
    "f, ax1 = plt.subplots(figsize=(24,10))\n",
    "\n",
    "corr = creditcard_data.corr()\n",
    "sns.heatmap(corr, cmap='coolwarm_r', annot_kws={'size':20}, ax=ax1)\n",
    "ax1.set_title(\"Imbalanced Correlation Matrix\", fontsize=14)"
   ]
  },
  {
   "cell_type": "markdown",
   "metadata": {
    "_uuid": "935172cb925d7b448e2aaba82c8ccd21086a7d95"
   },
   "source": [
    "As seen, the correlations cannot be properly visualized because of the imbalance in the dataset. This is because the correlation matrix is affected by the high imbalance betwen the classes. So, lets balance our classes and then visualize the correlation matrix again."
   ]
  },
  {
   "cell_type": "code",
   "execution_count": 26,
   "metadata": {
    "_uuid": "6eca21f4538c2177c3f9d63d0fd2a16a4cb1d450",
    "collapsed": false
   },
   "outputs": [
    {
     "name": "stdout",
     "output_type": "stream",
     "text": [
      "0    170554\n",
      "1       329\n",
      "Name: Class, dtype: int64\n"
     ]
    }
   ],
   "source": [
    "#Checking number of instances for each class in the train dataset\n",
    "print(Ytrain_final.value_counts())"
   ]
  },
  {
   "cell_type": "code",
   "execution_count": 27,
   "metadata": {
    "_uuid": "241ccb99a6217db12d4d2559facfca900dea11a3",
    "collapsed": false
   },
   "outputs": [
    {
     "name": "stdout",
     "output_type": "stream",
     "text": [
      "Resampled dataset shape Counter({1: 170555, 0: 170554})\n",
      "Shape of X_adasampled: (341109, 29)\n",
      "Shape of Y_adasampled: (341109,)\n"
     ]
    }
   ],
   "source": [
    "#Using ADASYN for Oversampling\n",
    "ada = ADASYN(sampling_strategy='minority', random_state=42)\n",
    "\n",
    "#Oversampling is applied only on the training set\n",
    "X_adasampled, Y_adasampled = ada.fit_sample(Xtrain_final, Ytrain_final)\n",
    "print('Resampled dataset shape %s' % Counter(Y_adasampled))\n",
    "print('Shape of X_adasampled: {}'.format(X_adasampled.shape))\n",
    "print('Shape of Y_adasampled: {}'.format(Y_adasampled.shape))"
   ]
  },
  {
   "cell_type": "code",
   "execution_count": 28,
   "metadata": {
    "_uuid": "20821c5430aa0784c19135fc105f59999beb14cb",
    "collapsed": false
   },
   "outputs": [
    {
     "name": "stdout",
     "output_type": "stream",
     "text": [
      "Label Distributions: \n",
      "\n",
      "[0.49999853 0.50000147]\n"
     ]
    }
   ],
   "source": [
    "#check the disribution of both the labels\n",
    "train_label, train_count = np.unique(Y_adasampled, return_counts=True)\n",
    "print('Label Distributions: \\n')\n",
    "print(train_count/ len(Y_adasampled))"
   ]
  },
  {
   "cell_type": "code",
   "execution_count": 29,
   "metadata": {
    "_uuid": "7bf9319b818ef709b3c9123ee24c778d04101cc1",
    "collapsed": false
   },
   "outputs": [
    {
     "name": "stdout",
     "output_type": "stream",
     "text": [
      "<class 'numpy.ndarray'>\n",
      "<class 'numpy.ndarray'>\n"
     ]
    }
   ],
   "source": [
    "print(type(X_adasampled))\n",
    "print(type(Y_adasampled))"
   ]
  },
  {
   "cell_type": "markdown",
   "metadata": {
    "_uuid": "a703a77685eeb5fff3ac3c1fb4531c8ca875ce60"
   },
   "source": [
    " X_adasampled and Y_adasampled are the balanced train sets resulted after using OverSampling. These are ndarrays.\n",
    "In order to visualize a correlation matrix, they are converted to a dataframe and joined to form a single dataframe in the below series of blocks."
   ]
  },
  {
   "cell_type": "code",
   "execution_count": 30,
   "metadata": {
    "_uuid": "0f1b4289d662d64308cf7ccc326d6e16d4a647ee",
    "collapsed": false
   },
   "outputs": [
    {
     "name": "stdout",
     "output_type": "stream",
     "text": [
      "   Std_Amount        V1        V2        V3        V4        V5        V6  \\\n",
      "0   -0.286173 -0.313555  0.586734  3.039981  2.848687 -0.158865  0.838171   \n",
      "1    0.237546  1.883183 -0.640580  0.094691  0.386752 -0.859323  0.238667   \n",
      "2    1.170265 -5.593796 -3.140554 -0.055757  1.539374  1.321195  1.449076   \n",
      "3   -0.267729 -0.851124  0.819195  2.014788 -0.634556 -0.166583  0.779931   \n",
      "4    1.369384 -1.339343  0.842304  2.210153  3.009876 -0.501056  1.506612   \n",
      "\n",
      "         V7        V8        V9    ...          V19       V20       V21  \\\n",
      "0 -0.305911  0.136755  1.081775    ...     0.211776  0.064667 -0.064730   \n",
      "1 -1.172713  0.238254  2.560352    ...    -0.228614 -0.191241 -0.063316   \n",
      "2  0.494910 -0.187489  1.098618    ...     0.313058 -3.165442 -0.732926   \n",
      "3 -0.248282  0.440142  1.000038    ...     0.608179  0.309633  0.133497   \n",
      "4  0.044767  0.574622 -0.545759    ...     1.033634  0.245178 -0.188658   \n",
      "\n",
      "        V22       V23       V24       V25       V26       V27       V28  \n",
      "0  0.538368  0.017643  0.514390 -0.970922 -0.131954  0.072962 -0.014056  \n",
      "1  0.025427  0.346800  0.700140 -0.686270  0.387537 -0.060475 -0.044121  \n",
      "2  1.617461  1.182141 -1.534997  0.203254 -0.308358 -0.982457 -0.584698  \n",
      "3  0.615617 -0.475375  0.010686  0.582486 -0.302416  0.486000  0.209563  \n",
      "4 -0.159114 -0.241138 -0.402550  0.057283  0.231537  0.067849 -0.249524  \n",
      "\n",
      "[5 rows x 29 columns]\n",
      "   Class\n",
      "0      0\n",
      "1      0\n",
      "2      0\n",
      "3      0\n",
      "4      0\n"
     ]
    }
   ],
   "source": [
    "Xsm_train_df = pd.DataFrame(X_adasampled)\n",
    "Xsm_train_df.columns = Xtrain.columns\n",
    "Ysm_train_df = pd.DataFrame(Y_adasampled)\n",
    "Ysm_train_df = Ysm_train_df.rename(columns={0: 'Class'})\n",
    "print(Xsm_train_df.head())\n",
    "print(Ysm_train_df.head())"
   ]
  },
  {
   "cell_type": "code",
   "execution_count": 31,
   "metadata": {
    "_uuid": "a5d3aa02c156e3590993063fa3221a7222e522d5",
    "collapsed": false
   },
   "outputs": [
    {
     "data": {
      "text/html": [
       "<div>\n",
       "<table border=\"1\" class=\"dataframe\">\n",
       "  <thead>\n",
       "    <tr style=\"text-align: right;\">\n",
       "      <th></th>\n",
       "      <th>Std_Amount</th>\n",
       "      <th>V1</th>\n",
       "      <th>V2</th>\n",
       "      <th>V3</th>\n",
       "      <th>V4</th>\n",
       "      <th>V5</th>\n",
       "      <th>V6</th>\n",
       "      <th>V7</th>\n",
       "      <th>V8</th>\n",
       "      <th>V9</th>\n",
       "      <th>...</th>\n",
       "      <th>V20</th>\n",
       "      <th>V21</th>\n",
       "      <th>V22</th>\n",
       "      <th>V23</th>\n",
       "      <th>V24</th>\n",
       "      <th>V25</th>\n",
       "      <th>V26</th>\n",
       "      <th>V27</th>\n",
       "      <th>V28</th>\n",
       "      <th>Class</th>\n",
       "    </tr>\n",
       "  </thead>\n",
       "  <tbody>\n",
       "    <tr>\n",
       "      <th>0</th>\n",
       "      <td>-0.286173</td>\n",
       "      <td>-0.313555</td>\n",
       "      <td>0.586734</td>\n",
       "      <td>3.039981</td>\n",
       "      <td>2.848687</td>\n",
       "      <td>-0.158865</td>\n",
       "      <td>0.838171</td>\n",
       "      <td>-0.305911</td>\n",
       "      <td>0.136755</td>\n",
       "      <td>1.081775</td>\n",
       "      <td>...</td>\n",
       "      <td>0.064667</td>\n",
       "      <td>-0.064730</td>\n",
       "      <td>0.538368</td>\n",
       "      <td>0.017643</td>\n",
       "      <td>0.514390</td>\n",
       "      <td>-0.970922</td>\n",
       "      <td>-0.131954</td>\n",
       "      <td>0.072962</td>\n",
       "      <td>-0.014056</td>\n",
       "      <td>0</td>\n",
       "    </tr>\n",
       "    <tr>\n",
       "      <th>1</th>\n",
       "      <td>0.237546</td>\n",
       "      <td>1.883183</td>\n",
       "      <td>-0.640580</td>\n",
       "      <td>0.094691</td>\n",
       "      <td>0.386752</td>\n",
       "      <td>-0.859323</td>\n",
       "      <td>0.238667</td>\n",
       "      <td>-1.172713</td>\n",
       "      <td>0.238254</td>\n",
       "      <td>2.560352</td>\n",
       "      <td>...</td>\n",
       "      <td>-0.191241</td>\n",
       "      <td>-0.063316</td>\n",
       "      <td>0.025427</td>\n",
       "      <td>0.346800</td>\n",
       "      <td>0.700140</td>\n",
       "      <td>-0.686270</td>\n",
       "      <td>0.387537</td>\n",
       "      <td>-0.060475</td>\n",
       "      <td>-0.044121</td>\n",
       "      <td>0</td>\n",
       "    </tr>\n",
       "    <tr>\n",
       "      <th>2</th>\n",
       "      <td>1.170265</td>\n",
       "      <td>-5.593796</td>\n",
       "      <td>-3.140554</td>\n",
       "      <td>-0.055757</td>\n",
       "      <td>1.539374</td>\n",
       "      <td>1.321195</td>\n",
       "      <td>1.449076</td>\n",
       "      <td>0.494910</td>\n",
       "      <td>-0.187489</td>\n",
       "      <td>1.098618</td>\n",
       "      <td>...</td>\n",
       "      <td>-3.165442</td>\n",
       "      <td>-0.732926</td>\n",
       "      <td>1.617461</td>\n",
       "      <td>1.182141</td>\n",
       "      <td>-1.534997</td>\n",
       "      <td>0.203254</td>\n",
       "      <td>-0.308358</td>\n",
       "      <td>-0.982457</td>\n",
       "      <td>-0.584698</td>\n",
       "      <td>0</td>\n",
       "    </tr>\n",
       "    <tr>\n",
       "      <th>3</th>\n",
       "      <td>-0.267729</td>\n",
       "      <td>-0.851124</td>\n",
       "      <td>0.819195</td>\n",
       "      <td>2.014788</td>\n",
       "      <td>-0.634556</td>\n",
       "      <td>-0.166583</td>\n",
       "      <td>0.779931</td>\n",
       "      <td>-0.248282</td>\n",
       "      <td>0.440142</td>\n",
       "      <td>1.000038</td>\n",
       "      <td>...</td>\n",
       "      <td>0.309633</td>\n",
       "      <td>0.133497</td>\n",
       "      <td>0.615617</td>\n",
       "      <td>-0.475375</td>\n",
       "      <td>0.010686</td>\n",
       "      <td>0.582486</td>\n",
       "      <td>-0.302416</td>\n",
       "      <td>0.486000</td>\n",
       "      <td>0.209563</td>\n",
       "      <td>0</td>\n",
       "    </tr>\n",
       "    <tr>\n",
       "      <th>4</th>\n",
       "      <td>1.369384</td>\n",
       "      <td>-1.339343</td>\n",
       "      <td>0.842304</td>\n",
       "      <td>2.210153</td>\n",
       "      <td>3.009876</td>\n",
       "      <td>-0.501056</td>\n",
       "      <td>1.506612</td>\n",
       "      <td>0.044767</td>\n",
       "      <td>0.574622</td>\n",
       "      <td>-0.545759</td>\n",
       "      <td>...</td>\n",
       "      <td>0.245178</td>\n",
       "      <td>-0.188658</td>\n",
       "      <td>-0.159114</td>\n",
       "      <td>-0.241138</td>\n",
       "      <td>-0.402550</td>\n",
       "      <td>0.057283</td>\n",
       "      <td>0.231537</td>\n",
       "      <td>0.067849</td>\n",
       "      <td>-0.249524</td>\n",
       "      <td>0</td>\n",
       "    </tr>\n",
       "  </tbody>\n",
       "</table>\n",
       "<p>5 rows × 30 columns</p>\n",
       "</div>"
      ],
      "text/plain": [
       "   Std_Amount        V1        V2        V3        V4        V5        V6  \\\n",
       "0   -0.286173 -0.313555  0.586734  3.039981  2.848687 -0.158865  0.838171   \n",
       "1    0.237546  1.883183 -0.640580  0.094691  0.386752 -0.859323  0.238667   \n",
       "2    1.170265 -5.593796 -3.140554 -0.055757  1.539374  1.321195  1.449076   \n",
       "3   -0.267729 -0.851124  0.819195  2.014788 -0.634556 -0.166583  0.779931   \n",
       "4    1.369384 -1.339343  0.842304  2.210153  3.009876 -0.501056  1.506612   \n",
       "\n",
       "         V7        V8        V9  ...         V20       V21       V22  \\\n",
       "0 -0.305911  0.136755  1.081775  ...    0.064667 -0.064730  0.538368   \n",
       "1 -1.172713  0.238254  2.560352  ...   -0.191241 -0.063316  0.025427   \n",
       "2  0.494910 -0.187489  1.098618  ...   -3.165442 -0.732926  1.617461   \n",
       "3 -0.248282  0.440142  1.000038  ...    0.309633  0.133497  0.615617   \n",
       "4  0.044767  0.574622 -0.545759  ...    0.245178 -0.188658 -0.159114   \n",
       "\n",
       "        V23       V24       V25       V26       V27       V28  Class  \n",
       "0  0.017643  0.514390 -0.970922 -0.131954  0.072962 -0.014056      0  \n",
       "1  0.346800  0.700140 -0.686270  0.387537 -0.060475 -0.044121      0  \n",
       "2  1.182141 -1.534997  0.203254 -0.308358 -0.982457 -0.584698      0  \n",
       "3 -0.475375  0.010686  0.582486 -0.302416  0.486000  0.209563      0  \n",
       "4 -0.241138 -0.402550  0.057283  0.231537  0.067849 -0.249524      0  \n",
       "\n",
       "[5 rows x 30 columns]"
      ]
     },
     "execution_count": 31,
     "metadata": {},
     "output_type": "execute_result"
    }
   ],
   "source": [
    "#Merging the Xsm_train_df and Ysm_train_df based on the index values to get a single dataframe in order to visualize a correlation matrix\n",
    "new_df= pd.merge(Xsm_train_df, Ysm_train_df, how='inner', left_index=True, right_index=True)\n",
    "new_df.head()"
   ]
  },
  {
   "cell_type": "markdown",
   "metadata": {
    "_uuid": "8e425631a8a1db0a547dd702da48329b322eaf19"
   },
   "source": [
    "Hence, the data frames Xsm_train_df and Ysm_train_df are merged to form a new dataframe 'new_df', with 30 attributes in total comprising of 'Std_Amount', 'V1-V28' from Xsm_train_df and 'Class' from Ysm_train_df."
   ]
  },
  {
   "cell_type": "code",
   "execution_count": 32,
   "metadata": {
    "_uuid": "631e5a64a6574d6b5236c2f160825f539fe8e945",
    "collapsed": false
   },
   "outputs": [
    {
     "data": {
      "text/plain": [
       "<matplotlib.text.Text at 0x20601ab19b0>"
      ]
     },
     "execution_count": 32,
     "metadata": {},
     "output_type": "execute_result"
    },
    {
     "data": {
      "image/png": "[encoded data removed]",
      "text/plain": [
       "<matplotlib.figure.Figure at 0x20600061668>"
      ]
     },
     "metadata": {},
     "output_type": "display_data"
    }
   ],
   "source": [
    "#checking correlation between features on the balanced dataset\n",
    "f, ax1 = plt.subplots(figsize=(24,10))\n",
    "\n",
    "corr = new_df.corr()\n",
    "sns.heatmap(corr, cmap='coolwarm_r', annot_kws={'size':20}, ax=ax1)\n",
    "ax1.set_title(\"Balanced Correlation Matrix\", fontsize=14)"
   ]
  },
  {
   "cell_type": "markdown",
   "metadata": {
    "_uuid": "f2b3b40ba9e7609d3ef948412cf77a9291e2ce87"
   },
   "source": [
    "Negative and Positive Correlations can be seen in the matrix above:\n",
    "* Features, V14, V12, V10 and V3 show negative correlation towards the 'Class', As, lower are these values, more likely the transaction is Fraud.\n",
    "* Features V4, V11, V2 and V19 show positive correlation. As, higher are these values, more likely the transaction is Fraud.\n"
   ]
  },
  {
   "cell_type": "code",
   "execution_count": 33,
   "metadata": {
    "_uuid": "cfea01724e1dd53f693a5144d66e664059d43cbc",
    "collapsed": false
   },
   "outputs": [
    {
     "data": {
      "text/plain": [
       "<seaborn.axisgrid.FacetGrid at 0x2060012a828>"
      ]
     },
     "execution_count": 33,
     "metadata": {},
     "output_type": "execute_result"
    },
    {
     "data": {
      "image/png": "[encoded data removed]",
      "text/plain": [
       "<matplotlib.figure.Figure at 0x20600124ac8>"
      ]
     },
     "metadata": {},
     "output_type": "display_data"
    }
   ],
   "source": [
    "#visualizing balanced train dataset\n",
    "X_df= pd.DataFrame(X_adasampled)\n",
    "Y_df= pd.DataFrame(Y_adasampled)\n",
    "Y_df=Y_df.rename(columns={0: 'Class'})\n",
    "train_2d= pd.DataFrame(pca.fit_transform(X_df.iloc[:,0:29]))\n",
    "train_2d= pd.concat([train_2d, Y_df], axis=1)\n",
    "train_2d.columns= ['x', 'y', 'Class']\n",
    "sns.lmplot(x='x', y='y', data=train_2d, fit_reg=False, hue='Class')"
   ]
  },
  {
   "cell_type": "markdown",
   "metadata": {
    "_uuid": "833f2a8b50f2df660a0c36bdaff837ea46cf2e11"
   },
   "source": [
    "The above plot gives a visual representation of the balanced dataset. As seen, the data is not linearly separable. Hence, a Multi-Layer Perceptron is trained on this data, in order to predict the data as 'fraud' or 'genuine'.\n",
    "For the training of the Multi-layer perceptron, many parameters need to be tuned, thus a Grid-Search is used for this purpose. The Grid-Search is performed on the subset of the data, as it takes a lot of time to run. The following blocks create a subset of the dataset using random undersampling used only for this purpose."
   ]
  },
  {
   "cell_type": "code",
   "execution_count": 34,
   "metadata": {
    "_uuid": "e3ed1cb24a125bd09d1875d11e6e33e5a63f658a",
    "collapsed": false
   },
   "outputs": [
    {
     "data": {
      "text/html": [
       "<div>\n",
       "<table border=\"1\" class=\"dataframe\">\n",
       "  <thead>\n",
       "    <tr style=\"text-align: right;\">\n",
       "      <th></th>\n",
       "      <th>Std_Amount</th>\n",
       "      <th>V1</th>\n",
       "      <th>V2</th>\n",
       "      <th>V3</th>\n",
       "      <th>V4</th>\n",
       "      <th>V5</th>\n",
       "      <th>V6</th>\n",
       "      <th>V7</th>\n",
       "      <th>V8</th>\n",
       "      <th>V9</th>\n",
       "      <th>...</th>\n",
       "      <th>V20</th>\n",
       "      <th>V21</th>\n",
       "      <th>V22</th>\n",
       "      <th>V23</th>\n",
       "      <th>V24</th>\n",
       "      <th>V25</th>\n",
       "      <th>V26</th>\n",
       "      <th>V27</th>\n",
       "      <th>V28</th>\n",
       "      <th>Class</th>\n",
       "    </tr>\n",
       "  </thead>\n",
       "  <tbody>\n",
       "    <tr>\n",
       "      <th>14162</th>\n",
       "      <td>-0.286173</td>\n",
       "      <td>-0.313555</td>\n",
       "      <td>0.586734</td>\n",
       "      <td>3.039981</td>\n",
       "      <td>2.848687</td>\n",
       "      <td>-0.158865</td>\n",
       "      <td>0.838171</td>\n",
       "      <td>-0.305911</td>\n",
       "      <td>0.136755</td>\n",
       "      <td>1.081775</td>\n",
       "      <td>...</td>\n",
       "      <td>0.064667</td>\n",
       "      <td>-0.064730</td>\n",
       "      <td>0.538368</td>\n",
       "      <td>0.017643</td>\n",
       "      <td>0.514390</td>\n",
       "      <td>-0.970922</td>\n",
       "      <td>-0.131954</td>\n",
       "      <td>0.072962</td>\n",
       "      <td>-0.014056</td>\n",
       "      <td>0</td>\n",
       "    </tr>\n",
       "    <tr>\n",
       "      <th>152802</th>\n",
       "      <td>0.237546</td>\n",
       "      <td>1.883183</td>\n",
       "      <td>-0.640580</td>\n",
       "      <td>0.094691</td>\n",
       "      <td>0.386752</td>\n",
       "      <td>-0.859323</td>\n",
       "      <td>0.238667</td>\n",
       "      <td>-1.172713</td>\n",
       "      <td>0.238254</td>\n",
       "      <td>2.560352</td>\n",
       "      <td>...</td>\n",
       "      <td>-0.191241</td>\n",
       "      <td>-0.063316</td>\n",
       "      <td>0.025427</td>\n",
       "      <td>0.346800</td>\n",
       "      <td>0.700140</td>\n",
       "      <td>-0.686270</td>\n",
       "      <td>0.387537</td>\n",
       "      <td>-0.060475</td>\n",
       "      <td>-0.044121</td>\n",
       "      <td>0</td>\n",
       "    </tr>\n",
       "    <tr>\n",
       "      <th>227171</th>\n",
       "      <td>1.170265</td>\n",
       "      <td>-5.593796</td>\n",
       "      <td>-3.140554</td>\n",
       "      <td>-0.055757</td>\n",
       "      <td>1.539374</td>\n",
       "      <td>1.321195</td>\n",
       "      <td>1.449076</td>\n",
       "      <td>0.494910</td>\n",
       "      <td>-0.187489</td>\n",
       "      <td>1.098618</td>\n",
       "      <td>...</td>\n",
       "      <td>-3.165442</td>\n",
       "      <td>-0.732926</td>\n",
       "      <td>1.617461</td>\n",
       "      <td>1.182141</td>\n",
       "      <td>-1.534997</td>\n",
       "      <td>0.203254</td>\n",
       "      <td>-0.308358</td>\n",
       "      <td>-0.982457</td>\n",
       "      <td>-0.584698</td>\n",
       "      <td>0</td>\n",
       "    </tr>\n",
       "    <tr>\n",
       "      <th>217316</th>\n",
       "      <td>-0.267729</td>\n",
       "      <td>-0.851124</td>\n",
       "      <td>0.819195</td>\n",
       "      <td>2.014788</td>\n",
       "      <td>-0.634556</td>\n",
       "      <td>-0.166583</td>\n",
       "      <td>0.779931</td>\n",
       "      <td>-0.248282</td>\n",
       "      <td>0.440142</td>\n",
       "      <td>1.000038</td>\n",
       "      <td>...</td>\n",
       "      <td>0.309633</td>\n",
       "      <td>0.133497</td>\n",
       "      <td>0.615617</td>\n",
       "      <td>-0.475375</td>\n",
       "      <td>0.010686</td>\n",
       "      <td>0.582486</td>\n",
       "      <td>-0.302416</td>\n",
       "      <td>0.486000</td>\n",
       "      <td>0.209563</td>\n",
       "      <td>0</td>\n",
       "    </tr>\n",
       "    <tr>\n",
       "      <th>80544</th>\n",
       "      <td>1.369384</td>\n",
       "      <td>-1.339343</td>\n",
       "      <td>0.842304</td>\n",
       "      <td>2.210153</td>\n",
       "      <td>3.009876</td>\n",
       "      <td>-0.501056</td>\n",
       "      <td>1.506612</td>\n",
       "      <td>0.044767</td>\n",
       "      <td>0.574622</td>\n",
       "      <td>-0.545759</td>\n",
       "      <td>...</td>\n",
       "      <td>0.245178</td>\n",
       "      <td>-0.188658</td>\n",
       "      <td>-0.159114</td>\n",
       "      <td>-0.241138</td>\n",
       "      <td>-0.402550</td>\n",
       "      <td>0.057283</td>\n",
       "      <td>0.231537</td>\n",
       "      <td>0.067849</td>\n",
       "      <td>-0.249524</td>\n",
       "      <td>0</td>\n",
       "    </tr>\n",
       "  </tbody>\n",
       "</table>\n",
       "<p>5 rows × 30 columns</p>\n",
       "</div>"
      ],
      "text/plain": [
       "        Std_Amount        V1        V2        V3        V4        V5  \\\n",
       "14162    -0.286173 -0.313555  0.586734  3.039981  2.848687 -0.158865   \n",
       "152802    0.237546  1.883183 -0.640580  0.094691  0.386752 -0.859323   \n",
       "227171    1.170265 -5.593796 -3.140554 -0.055757  1.539374  1.321195   \n",
       "217316   -0.267729 -0.851124  0.819195  2.014788 -0.634556 -0.166583   \n",
       "80544     1.369384 -1.339343  0.842304  2.210153  3.009876 -0.501056   \n",
       "\n",
       "              V6        V7        V8        V9  ...         V20       V21  \\\n",
       "14162   0.838171 -0.305911  0.136755  1.081775  ...    0.064667 -0.064730   \n",
       "152802  0.238667 -1.172713  0.238254  2.560352  ...   -0.191241 -0.063316   \n",
       "227171  1.449076  0.494910 -0.187489  1.098618  ...   -3.165442 -0.732926   \n",
       "217316  0.779931 -0.248282  0.440142  1.000038  ...    0.309633  0.133497   \n",
       "80544   1.506612  0.044767  0.574622 -0.545759  ...    0.245178 -0.188658   \n",
       "\n",
       "             V22       V23       V24       V25       V26       V27       V28  \\\n",
       "14162   0.538368  0.017643  0.514390 -0.970922 -0.131954  0.072962 -0.014056   \n",
       "152802  0.025427  0.346800  0.700140 -0.686270  0.387537 -0.060475 -0.044121   \n",
       "227171  1.617461  1.182141 -1.534997  0.203254 -0.308358 -0.982457 -0.584698   \n",
       "217316  0.615617 -0.475375  0.010686  0.582486 -0.302416  0.486000  0.209563   \n",
       "80544  -0.159114 -0.241138 -0.402550  0.057283  0.231537  0.067849 -0.249524   \n",
       "\n",
       "        Class  \n",
       "14162       0  \n",
       "152802      0  \n",
       "227171      0  \n",
       "217316      0  \n",
       "80544       0  \n",
       "\n",
       "[5 rows x 30 columns]"
      ]
     },
     "execution_count": 34,
     "metadata": {},
     "output_type": "execute_result"
    }
   ],
   "source": [
    "#An undersampled dataset is created to tune the parameters using Grid-Search\n",
    "Ytrain_df = pd.DataFrame(Ytrain_final)\n",
    "Ytrain_df = Ytrain_df.rename(columns={0: 'Class'})\n",
    "Train_set= pd.merge(Xtrain_final, Ytrain_df, how='inner', left_index=True, right_index=True)\n",
    "Train_set.head()"
   ]
  },
  {
   "cell_type": "code",
   "execution_count": 35,
   "metadata": {
    "_uuid": "29ba06c4daccdf57de0450a0ed0f543851cc150c",
    "collapsed": false
   },
   "outputs": [
    {
     "data": {
      "text/plain": [
       "(170883, 30)"
      ]
     },
     "execution_count": 35,
     "metadata": {},
     "output_type": "execute_result"
    }
   ],
   "source": [
    "Train_set.shape"
   ]
  },
  {
   "cell_type": "code",
   "execution_count": 36,
   "metadata": {
    "_uuid": "fc857b2340fb2e1918d7e6625f5330f347778848",
    "collapsed": false
   },
   "outputs": [
    {
     "data": {
      "text/plain": [
       "329"
      ]
     },
     "execution_count": 36,
     "metadata": {},
     "output_type": "execute_result"
    }
   ],
   "source": [
    "#Length of Frauds\n",
    "length_frauds=len(Train_set[Train_set.Class==1])\n",
    "length_frauds"
   ]
  },
  {
   "cell_type": "code",
   "execution_count": 37,
   "metadata": {
    "_uuid": "2af6bd443f22d0e83c16b0c834883b3fe9321fc4",
    "collapsed": false
   },
   "outputs": [
    {
     "data": {
      "text/html": [
       "<div>\n",
       "<table border=\"1\" class=\"dataframe\">\n",
       "  <thead>\n",
       "    <tr style=\"text-align: right;\">\n",
       "      <th></th>\n",
       "      <th>Std_Amount</th>\n",
       "      <th>V1</th>\n",
       "      <th>V2</th>\n",
       "      <th>V3</th>\n",
       "      <th>V4</th>\n",
       "      <th>V5</th>\n",
       "      <th>V6</th>\n",
       "      <th>V7</th>\n",
       "      <th>V8</th>\n",
       "      <th>V9</th>\n",
       "      <th>...</th>\n",
       "      <th>V20</th>\n",
       "      <th>V21</th>\n",
       "      <th>V22</th>\n",
       "      <th>V23</th>\n",
       "      <th>V24</th>\n",
       "      <th>V25</th>\n",
       "      <th>V26</th>\n",
       "      <th>V27</th>\n",
       "      <th>V28</th>\n",
       "      <th>Class</th>\n",
       "    </tr>\n",
       "  </thead>\n",
       "  <tbody>\n",
       "    <tr>\n",
       "      <th>143188</th>\n",
       "      <td>-0.279466</td>\n",
       "      <td>-3.003459</td>\n",
       "      <td>2.096150</td>\n",
       "      <td>-0.487030</td>\n",
       "      <td>3.069453</td>\n",
       "      <td>-1.774329</td>\n",
       "      <td>0.251804</td>\n",
       "      <td>-4.328776</td>\n",
       "      <td>-2.425478</td>\n",
       "      <td>-0.985222</td>\n",
       "      <td>...</td>\n",
       "      <td>0.692537</td>\n",
       "      <td>0.163967</td>\n",
       "      <td>1.245648</td>\n",
       "      <td>-0.269241</td>\n",
       "      <td>0.537102</td>\n",
       "      <td>-0.220757</td>\n",
       "      <td>-0.059555</td>\n",
       "      <td>0.460710</td>\n",
       "      <td>-0.033551</td>\n",
       "      <td>1</td>\n",
       "    </tr>\n",
       "    <tr>\n",
       "      <th>86155</th>\n",
       "      <td>1.110878</td>\n",
       "      <td>-2.756007</td>\n",
       "      <td>0.683821</td>\n",
       "      <td>-1.390169</td>\n",
       "      <td>1.501887</td>\n",
       "      <td>-1.165614</td>\n",
       "      <td>-0.131207</td>\n",
       "      <td>-1.478741</td>\n",
       "      <td>-0.246922</td>\n",
       "      <td>-0.100523</td>\n",
       "      <td>...</td>\n",
       "      <td>-0.106945</td>\n",
       "      <td>0.320474</td>\n",
       "      <td>0.611027</td>\n",
       "      <td>0.174864</td>\n",
       "      <td>-0.502151</td>\n",
       "      <td>-0.174713</td>\n",
       "      <td>1.179242</td>\n",
       "      <td>-1.166315</td>\n",
       "      <td>0.821215</td>\n",
       "      <td>1</td>\n",
       "    </tr>\n",
       "    <tr>\n",
       "      <th>9487</th>\n",
       "      <td>-0.293440</td>\n",
       "      <td>-4.153014</td>\n",
       "      <td>8.204797</td>\n",
       "      <td>-15.031714</td>\n",
       "      <td>10.330100</td>\n",
       "      <td>-3.994426</td>\n",
       "      <td>-3.250013</td>\n",
       "      <td>-10.415698</td>\n",
       "      <td>4.620804</td>\n",
       "      <td>-5.711248</td>\n",
       "      <td>...</td>\n",
       "      <td>1.412625</td>\n",
       "      <td>1.976988</td>\n",
       "      <td>0.256510</td>\n",
       "      <td>0.485908</td>\n",
       "      <td>-1.198821</td>\n",
       "      <td>-0.526567</td>\n",
       "      <td>0.634874</td>\n",
       "      <td>1.627209</td>\n",
       "      <td>0.723235</td>\n",
       "      <td>1</td>\n",
       "    </tr>\n",
       "    <tr>\n",
       "      <th>163586</th>\n",
       "      <td>0.600852</td>\n",
       "      <td>0.949241</td>\n",
       "      <td>1.333519</td>\n",
       "      <td>-4.855402</td>\n",
       "      <td>1.835006</td>\n",
       "      <td>-1.053245</td>\n",
       "      <td>-2.562826</td>\n",
       "      <td>-2.286986</td>\n",
       "      <td>0.260906</td>\n",
       "      <td>-0.895366</td>\n",
       "      <td>...</td>\n",
       "      <td>0.424608</td>\n",
       "      <td>0.306598</td>\n",
       "      <td>-0.854627</td>\n",
       "      <td>0.101177</td>\n",
       "      <td>-0.281497</td>\n",
       "      <td>0.024444</td>\n",
       "      <td>-0.107944</td>\n",
       "      <td>0.625289</td>\n",
       "      <td>0.315677</td>\n",
       "      <td>1</td>\n",
       "    </tr>\n",
       "    <tr>\n",
       "      <th>223578</th>\n",
       "      <td>-0.183050</td>\n",
       "      <td>-5.256434</td>\n",
       "      <td>0.364541</td>\n",
       "      <td>-5.412085</td>\n",
       "      <td>2.400031</td>\n",
       "      <td>0.697301</td>\n",
       "      <td>-1.998755</td>\n",
       "      <td>-5.835532</td>\n",
       "      <td>-0.887739</td>\n",
       "      <td>-2.828287</td>\n",
       "      <td>...</td>\n",
       "      <td>-0.403685</td>\n",
       "      <td>-0.648259</td>\n",
       "      <td>0.511285</td>\n",
       "      <td>-1.110045</td>\n",
       "      <td>0.178987</td>\n",
       "      <td>0.220235</td>\n",
       "      <td>-0.699809</td>\n",
       "      <td>0.580487</td>\n",
       "      <td>-0.173630</td>\n",
       "      <td>1</td>\n",
       "    </tr>\n",
       "  </tbody>\n",
       "</table>\n",
       "<p>5 rows × 30 columns</p>\n",
       "</div>"
      ],
      "text/plain": [
       "        Std_Amount        V1        V2         V3         V4        V5  \\\n",
       "143188   -0.279466 -3.003459  2.096150  -0.487030   3.069453 -1.774329   \n",
       "86155     1.110878 -2.756007  0.683821  -1.390169   1.501887 -1.165614   \n",
       "9487     -0.293440 -4.153014  8.204797 -15.031714  10.330100 -3.994426   \n",
       "163586    0.600852  0.949241  1.333519  -4.855402   1.835006 -1.053245   \n",
       "223578   -0.183050 -5.256434  0.364541  -5.412085   2.400031  0.697301   \n",
       "\n",
       "              V6         V7        V8        V9  ...         V20       V21  \\\n",
       "143188  0.251804  -4.328776 -2.425478 -0.985222  ...    0.692537  0.163967   \n",
       "86155  -0.131207  -1.478741 -0.246922 -0.100523  ...   -0.106945  0.320474   \n",
       "9487   -3.250013 -10.415698  4.620804 -5.711248  ...    1.412625  1.976988   \n",
       "163586 -2.562826  -2.286986  0.260906 -0.895366  ...    0.424608  0.306598   \n",
       "223578 -1.998755  -5.835532 -0.887739 -2.828287  ...   -0.403685 -0.648259   \n",
       "\n",
       "             V22       V23       V24       V25       V26       V27       V28  \\\n",
       "143188  1.245648 -0.269241  0.537102 -0.220757 -0.059555  0.460710 -0.033551   \n",
       "86155   0.611027  0.174864 -0.502151 -0.174713  1.179242 -1.166315  0.821215   \n",
       "9487    0.256510  0.485908 -1.198821 -0.526567  0.634874  1.627209  0.723235   \n",
       "163586 -0.854627  0.101177 -0.281497  0.024444 -0.107944  0.625289  0.315677   \n",
       "223578  0.511285 -1.110045  0.178987  0.220235 -0.699809  0.580487 -0.173630   \n",
       "\n",
       "        Class  \n",
       "143188      1  \n",
       "86155       1  \n",
       "9487        1  \n",
       "163586      1  \n",
       "223578      1  \n",
       "\n",
       "[5 rows x 30 columns]"
      ]
     },
     "execution_count": 37,
     "metadata": {},
     "output_type": "execute_result"
    }
   ],
   "source": [
    "#Taking only Frauds in a dataframe\n",
    "fraud_df= Train_set.loc[Train_set['Class'] == 1]\n",
    "fraud_df.head()"
   ]
  },
  {
   "cell_type": "code",
   "execution_count": 38,
   "metadata": {
    "_uuid": "92a3514716361fb67e78ff83444c484fa36b4311",
    "collapsed": false
   },
   "outputs": [
    {
     "data": {
      "text/plain": [
       "(329, 30)"
      ]
     },
     "execution_count": 38,
     "metadata": {},
     "output_type": "execute_result"
    }
   ],
   "source": [
    "#Taking only Non-frauds\n",
    "non_fraud_df= Train_set.loc[Train_set['Class'] == 0]\n",
    "#Randomly select the same number of records as the Frauds\n",
    "non_frauds=non_fraud_df.sample(n=length_frauds)\n",
    "non_frauds.shape"
   ]
  },
  {
   "cell_type": "code",
   "execution_count": 39,
   "metadata": {
    "_uuid": "1ef4832d5ac747417dc6a0e9a959ca568375c2a6",
    "collapsed": false
   },
   "outputs": [
    {
     "data": {
      "text/html": [
       "<div>\n",
       "<table border=\"1\" class=\"dataframe\">\n",
       "  <thead>\n",
       "    <tr style=\"text-align: right;\">\n",
       "      <th></th>\n",
       "      <th>Std_Amount</th>\n",
       "      <th>V1</th>\n",
       "      <th>V2</th>\n",
       "      <th>V3</th>\n",
       "      <th>V4</th>\n",
       "      <th>V5</th>\n",
       "      <th>V6</th>\n",
       "      <th>V7</th>\n",
       "      <th>V8</th>\n",
       "      <th>V9</th>\n",
       "      <th>...</th>\n",
       "      <th>V20</th>\n",
       "      <th>V21</th>\n",
       "      <th>V22</th>\n",
       "      <th>V23</th>\n",
       "      <th>V24</th>\n",
       "      <th>V25</th>\n",
       "      <th>V26</th>\n",
       "      <th>V27</th>\n",
       "      <th>V28</th>\n",
       "      <th>Class</th>\n",
       "    </tr>\n",
       "  </thead>\n",
       "  <tbody>\n",
       "    <tr>\n",
       "      <th>185761</th>\n",
       "      <td>1.362398</td>\n",
       "      <td>-2.755014</td>\n",
       "      <td>0.691804</td>\n",
       "      <td>1.628561</td>\n",
       "      <td>0.718662</td>\n",
       "      <td>-0.754474</td>\n",
       "      <td>0.823553</td>\n",
       "      <td>0.037754</td>\n",
       "      <td>0.389080</td>\n",
       "      <td>1.591858</td>\n",
       "      <td>...</td>\n",
       "      <td>0.499870</td>\n",
       "      <td>-0.182649</td>\n",
       "      <td>0.601835</td>\n",
       "      <td>-0.357145</td>\n",
       "      <td>0.554795</td>\n",
       "      <td>0.699631</td>\n",
       "      <td>-0.307378</td>\n",
       "      <td>0.480947</td>\n",
       "      <td>0.262258</td>\n",
       "      <td>0</td>\n",
       "    </tr>\n",
       "    <tr>\n",
       "      <th>196396</th>\n",
       "      <td>5.613219</td>\n",
       "      <td>1.013817</td>\n",
       "      <td>-1.356126</td>\n",
       "      <td>0.126312</td>\n",
       "      <td>3.894255</td>\n",
       "      <td>-0.778524</td>\n",
       "      <td>1.602502</td>\n",
       "      <td>-0.677590</td>\n",
       "      <td>0.481415</td>\n",
       "      <td>-0.115929</td>\n",
       "      <td>...</td>\n",
       "      <td>0.584551</td>\n",
       "      <td>0.487934</td>\n",
       "      <td>0.421571</td>\n",
       "      <td>-0.114341</td>\n",
       "      <td>0.308853</td>\n",
       "      <td>-0.645033</td>\n",
       "      <td>-0.099955</td>\n",
       "      <td>-0.045937</td>\n",
       "      <td>0.047170</td>\n",
       "      <td>0</td>\n",
       "    </tr>\n",
       "    <tr>\n",
       "      <th>112840</th>\n",
       "      <td>0.321805</td>\n",
       "      <td>-1.111495</td>\n",
       "      <td>-0.257575</td>\n",
       "      <td>2.250210</td>\n",
       "      <td>1.152671</td>\n",
       "      <td>0.432904</td>\n",
       "      <td>1.254126</td>\n",
       "      <td>-0.584163</td>\n",
       "      <td>-0.609682</td>\n",
       "      <td>1.014602</td>\n",
       "      <td>...</td>\n",
       "      <td>-0.510614</td>\n",
       "      <td>0.862913</td>\n",
       "      <td>0.927825</td>\n",
       "      <td>-0.343058</td>\n",
       "      <td>-0.256268</td>\n",
       "      <td>-0.600742</td>\n",
       "      <td>-0.180331</td>\n",
       "      <td>0.026762</td>\n",
       "      <td>-0.358335</td>\n",
       "      <td>1</td>\n",
       "    </tr>\n",
       "    <tr>\n",
       "      <th>206214</th>\n",
       "      <td>16.041361</td>\n",
       "      <td>-3.130560</td>\n",
       "      <td>-2.413768</td>\n",
       "      <td>-0.019573</td>\n",
       "      <td>-0.323426</td>\n",
       "      <td>-3.416320</td>\n",
       "      <td>1.730652</td>\n",
       "      <td>4.002696</td>\n",
       "      <td>0.313401</td>\n",
       "      <td>-0.743955</td>\n",
       "      <td>...</td>\n",
       "      <td>2.296189</td>\n",
       "      <td>0.941357</td>\n",
       "      <td>0.384561</td>\n",
       "      <td>2.270995</td>\n",
       "      <td>-0.472775</td>\n",
       "      <td>1.059437</td>\n",
       "      <td>0.363632</td>\n",
       "      <td>-0.543652</td>\n",
       "      <td>0.039280</td>\n",
       "      <td>0</td>\n",
       "    </tr>\n",
       "    <tr>\n",
       "      <th>176405</th>\n",
       "      <td>-0.294977</td>\n",
       "      <td>2.106930</td>\n",
       "      <td>0.149083</td>\n",
       "      <td>-1.932238</td>\n",
       "      <td>0.277875</td>\n",
       "      <td>0.731753</td>\n",
       "      <td>-0.476021</td>\n",
       "      <td>0.168788</td>\n",
       "      <td>-0.184063</td>\n",
       "      <td>0.506436</td>\n",
       "      <td>...</td>\n",
       "      <td>-0.135880</td>\n",
       "      <td>-0.393839</td>\n",
       "      <td>-1.009498</td>\n",
       "      <td>0.276959</td>\n",
       "      <td>-0.065273</td>\n",
       "      <td>-0.193593</td>\n",
       "      <td>0.210670</td>\n",
       "      <td>-0.059045</td>\n",
       "      <td>-0.036436</td>\n",
       "      <td>0</td>\n",
       "    </tr>\n",
       "  </tbody>\n",
       "</table>\n",
       "<p>5 rows × 30 columns</p>\n",
       "</div>"
      ],
      "text/plain": [
       "        Std_Amount        V1        V2        V3        V4        V5  \\\n",
       "185761    1.362398 -2.755014  0.691804  1.628561  0.718662 -0.754474   \n",
       "196396    5.613219  1.013817 -1.356126  0.126312  3.894255 -0.778524   \n",
       "112840    0.321805 -1.111495 -0.257575  2.250210  1.152671  0.432904   \n",
       "206214   16.041361 -3.130560 -2.413768 -0.019573 -0.323426 -3.416320   \n",
       "176405   -0.294977  2.106930  0.149083 -1.932238  0.277875  0.731753   \n",
       "\n",
       "              V6        V7        V8        V9  ...         V20       V21  \\\n",
       "185761  0.823553  0.037754  0.389080  1.591858  ...    0.499870 -0.182649   \n",
       "196396  1.602502 -0.677590  0.481415 -0.115929  ...    0.584551  0.487934   \n",
       "112840  1.254126 -0.584163 -0.609682  1.014602  ...   -0.510614  0.862913   \n",
       "206214  1.730652  4.002696  0.313401 -0.743955  ...    2.296189  0.941357   \n",
       "176405 -0.476021  0.168788 -0.184063  0.506436  ...   -0.135880 -0.393839   \n",
       "\n",
       "             V22       V23       V24       V25       V26       V27       V28  \\\n",
       "185761  0.601835 -0.357145  0.554795  0.699631 -0.307378  0.480947  0.262258   \n",
       "196396  0.421571 -0.114341  0.308853 -0.645033 -0.099955 -0.045937  0.047170   \n",
       "112840  0.927825 -0.343058 -0.256268 -0.600742 -0.180331  0.026762 -0.358335   \n",
       "206214  0.384561  2.270995 -0.472775  1.059437  0.363632 -0.543652  0.039280   \n",
       "176405 -1.009498  0.276959 -0.065273 -0.193593  0.210670 -0.059045 -0.036436   \n",
       "\n",
       "        Class  \n",
       "185761      0  \n",
       "196396      0  \n",
       "112840      1  \n",
       "206214      0  \n",
       "176405      0  \n",
       "\n",
       "[5 rows x 30 columns]"
      ]
     },
     "execution_count": 39,
     "metadata": {},
     "output_type": "execute_result"
    }
   ],
   "source": [
    "#Appending both Frauds and Non-Frauds\n",
    "undersampled_df= fraud_df.append(non_frauds)\n",
    "#Randomly shuffling all the instances\n",
    "undersampled_df = sklearn.utils.shuffle(undersampled_df)\n",
    "undersampled_df.head()"
   ]
  },
  {
   "cell_type": "code",
   "execution_count": 40,
   "metadata": {
    "_uuid": "344766cba101a31baccc98047d26b2e8a4a886e6",
    "collapsed": false
   },
   "outputs": [
    {
     "name": "stdout",
     "output_type": "stream",
     "text": [
      "(658, 29)\n",
      "(658,)\n"
     ]
    },
    {
     "data": {
      "text/html": [
       "<div>\n",
       "<table border=\"1\" class=\"dataframe\">\n",
       "  <thead>\n",
       "    <tr style=\"text-align: right;\">\n",
       "      <th></th>\n",
       "      <th>Std_Amount</th>\n",
       "      <th>V1</th>\n",
       "      <th>V2</th>\n",
       "      <th>V3</th>\n",
       "      <th>V4</th>\n",
       "      <th>V5</th>\n",
       "      <th>V6</th>\n",
       "      <th>V7</th>\n",
       "      <th>V8</th>\n",
       "      <th>V9</th>\n",
       "      <th>...</th>\n",
       "      <th>V19</th>\n",
       "      <th>V20</th>\n",
       "      <th>V21</th>\n",
       "      <th>V22</th>\n",
       "      <th>V23</th>\n",
       "      <th>V24</th>\n",
       "      <th>V25</th>\n",
       "      <th>V26</th>\n",
       "      <th>V27</th>\n",
       "      <th>V28</th>\n",
       "    </tr>\n",
       "  </thead>\n",
       "  <tbody>\n",
       "    <tr>\n",
       "      <th>185761</th>\n",
       "      <td>1.362398</td>\n",
       "      <td>-2.755014</td>\n",
       "      <td>0.691804</td>\n",
       "      <td>1.628561</td>\n",
       "      <td>0.718662</td>\n",
       "      <td>-0.754474</td>\n",
       "      <td>0.823553</td>\n",
       "      <td>0.037754</td>\n",
       "      <td>0.389080</td>\n",
       "      <td>1.591858</td>\n",
       "      <td>...</td>\n",
       "      <td>0.241650</td>\n",
       "      <td>0.499870</td>\n",
       "      <td>-0.182649</td>\n",
       "      <td>0.601835</td>\n",
       "      <td>-0.357145</td>\n",
       "      <td>0.554795</td>\n",
       "      <td>0.699631</td>\n",
       "      <td>-0.307378</td>\n",
       "      <td>0.480947</td>\n",
       "      <td>0.262258</td>\n",
       "    </tr>\n",
       "    <tr>\n",
       "      <th>196396</th>\n",
       "      <td>5.613219</td>\n",
       "      <td>1.013817</td>\n",
       "      <td>-1.356126</td>\n",
       "      <td>0.126312</td>\n",
       "      <td>3.894255</td>\n",
       "      <td>-0.778524</td>\n",
       "      <td>1.602502</td>\n",
       "      <td>-0.677590</td>\n",
       "      <td>0.481415</td>\n",
       "      <td>-0.115929</td>\n",
       "      <td>...</td>\n",
       "      <td>-1.670784</td>\n",
       "      <td>0.584551</td>\n",
       "      <td>0.487934</td>\n",
       "      <td>0.421571</td>\n",
       "      <td>-0.114341</td>\n",
       "      <td>0.308853</td>\n",
       "      <td>-0.645033</td>\n",
       "      <td>-0.099955</td>\n",
       "      <td>-0.045937</td>\n",
       "      <td>0.047170</td>\n",
       "    </tr>\n",
       "    <tr>\n",
       "      <th>112840</th>\n",
       "      <td>0.321805</td>\n",
       "      <td>-1.111495</td>\n",
       "      <td>-0.257575</td>\n",
       "      <td>2.250210</td>\n",
       "      <td>1.152671</td>\n",
       "      <td>0.432904</td>\n",
       "      <td>1.254126</td>\n",
       "      <td>-0.584163</td>\n",
       "      <td>-0.609682</td>\n",
       "      <td>1.014602</td>\n",
       "      <td>...</td>\n",
       "      <td>0.407188</td>\n",
       "      <td>-0.510614</td>\n",
       "      <td>0.862913</td>\n",
       "      <td>0.927825</td>\n",
       "      <td>-0.343058</td>\n",
       "      <td>-0.256268</td>\n",
       "      <td>-0.600742</td>\n",
       "      <td>-0.180331</td>\n",
       "      <td>0.026762</td>\n",
       "      <td>-0.358335</td>\n",
       "    </tr>\n",
       "    <tr>\n",
       "      <th>206214</th>\n",
       "      <td>16.041361</td>\n",
       "      <td>-3.130560</td>\n",
       "      <td>-2.413768</td>\n",
       "      <td>-0.019573</td>\n",
       "      <td>-0.323426</td>\n",
       "      <td>-3.416320</td>\n",
       "      <td>1.730652</td>\n",
       "      <td>4.002696</td>\n",
       "      <td>0.313401</td>\n",
       "      <td>-0.743955</td>\n",
       "      <td>...</td>\n",
       "      <td>-0.891134</td>\n",
       "      <td>2.296189</td>\n",
       "      <td>0.941357</td>\n",
       "      <td>0.384561</td>\n",
       "      <td>2.270995</td>\n",
       "      <td>-0.472775</td>\n",
       "      <td>1.059437</td>\n",
       "      <td>0.363632</td>\n",
       "      <td>-0.543652</td>\n",
       "      <td>0.039280</td>\n",
       "    </tr>\n",
       "    <tr>\n",
       "      <th>176405</th>\n",
       "      <td>-0.294977</td>\n",
       "      <td>2.106930</td>\n",
       "      <td>0.149083</td>\n",
       "      <td>-1.932238</td>\n",
       "      <td>0.277875</td>\n",
       "      <td>0.731753</td>\n",
       "      <td>-0.476021</td>\n",
       "      <td>0.168788</td>\n",
       "      <td>-0.184063</td>\n",
       "      <td>0.506436</td>\n",
       "      <td>...</td>\n",
       "      <td>0.188840</td>\n",
       "      <td>-0.135880</td>\n",
       "      <td>-0.393839</td>\n",
       "      <td>-1.009498</td>\n",
       "      <td>0.276959</td>\n",
       "      <td>-0.065273</td>\n",
       "      <td>-0.193593</td>\n",
       "      <td>0.210670</td>\n",
       "      <td>-0.059045</td>\n",
       "      <td>-0.036436</td>\n",
       "    </tr>\n",
       "  </tbody>\n",
       "</table>\n",
       "<p>5 rows × 29 columns</p>\n",
       "</div>"
      ],
      "text/plain": [
       "        Std_Amount        V1        V2        V3        V4        V5  \\\n",
       "185761    1.362398 -2.755014  0.691804  1.628561  0.718662 -0.754474   \n",
       "196396    5.613219  1.013817 -1.356126  0.126312  3.894255 -0.778524   \n",
       "112840    0.321805 -1.111495 -0.257575  2.250210  1.152671  0.432904   \n",
       "206214   16.041361 -3.130560 -2.413768 -0.019573 -0.323426 -3.416320   \n",
       "176405   -0.294977  2.106930  0.149083 -1.932238  0.277875  0.731753   \n",
       "\n",
       "              V6        V7        V8        V9    ...          V19       V20  \\\n",
       "185761  0.823553  0.037754  0.389080  1.591858    ...     0.241650  0.499870   \n",
       "196396  1.602502 -0.677590  0.481415 -0.115929    ...    -1.670784  0.584551   \n",
       "112840  1.254126 -0.584163 -0.609682  1.014602    ...     0.407188 -0.510614   \n",
       "206214  1.730652  4.002696  0.313401 -0.743955    ...    -0.891134  2.296189   \n",
       "176405 -0.476021  0.168788 -0.184063  0.506436    ...     0.188840 -0.135880   \n",
       "\n",
       "             V21       V22       V23       V24       V25       V26       V27  \\\n",
       "185761 -0.182649  0.601835 -0.357145  0.554795  0.699631 -0.307378  0.480947   \n",
       "196396  0.487934  0.421571 -0.114341  0.308853 -0.645033 -0.099955 -0.045937   \n",
       "112840  0.862913  0.927825 -0.343058 -0.256268 -0.600742 -0.180331  0.026762   \n",
       "206214  0.941357  0.384561  2.270995 -0.472775  1.059437  0.363632 -0.543652   \n",
       "176405 -0.393839 -1.009498  0.276959 -0.065273 -0.193593  0.210670 -0.059045   \n",
       "\n",
       "             V28  \n",
       "185761  0.262258  \n",
       "196396  0.047170  \n",
       "112840 -0.358335  \n",
       "206214  0.039280  \n",
       "176405 -0.036436  \n",
       "\n",
       "[5 rows x 29 columns]"
      ]
     },
     "execution_count": 40,
     "metadata": {},
     "output_type": "execute_result"
    }
   ],
   "source": [
    "#Separating labels from the other features\n",
    "X_undersample = undersampled_df.drop('Class', axis=1)\n",
    "Y_undersample = undersampled_df['Class']\n",
    "print(X_undersample.shape)\n",
    "print(Y_undersample.shape)\n",
    "X_undersample.head()"
   ]
  },
  {
   "cell_type": "code",
   "execution_count": 41,
   "metadata": {
    "_uuid": "7d7f88bea27917e2d59d4eb62dea5cef71eab8cf",
    "collapsed": true
   },
   "outputs": [],
   "source": [
    "#Converting undersampled train sets in numpy arrays\n",
    "X_us_arr= X_undersample.values\n",
    "Y_us_arr= Y_undersample.values"
   ]
  },
  {
   "cell_type": "code",
   "execution_count": 42,
   "metadata": {
    "_uuid": "02a0202451ec896fc21bb1163e152447fd97faa6",
    "collapsed": true
   },
   "outputs": [],
   "source": [
    "#Converting test and validation dataframes in numpy arrays\n",
    "Xval_arr=Xval.values\n",
    "Yval_arr=Yval.values\n",
    "Xtest_arr=Xtest.values\n",
    "Ytest_arr=Ytest.values"
   ]
  },
  {
   "cell_type": "markdown",
   "metadata": {
    "_uuid": "d9ea2c6cccab5dabbf67eab192d05272906a02f1"
   },
   "source": [
    "The code in the following block is used for hyperparameter tuning of different parameters required for the training of a multilayer perceptron. It is commented as it takes alot of time to run. It is run on the undersampled dataset created above. Moreover, the biggest challenge is reproducability. Even after using the seed, the outputs produced vary a bit. But after multiple runs, the parameters that were returned were:\n",
    "neuron_1=65, \n",
    "dropout_rate=0.5, \n",
    "init_mode='he_normal', \n",
    "learn_rate=0.001"
   ]
  },
  {
   "cell_type": "code",
   "execution_count": 43,
   "metadata": {
    "_uuid": "b93a29e0631ec91dd9f403c8d78a54a53b3a498d",
    "collapsed": true
   },
   "outputs": [],
   "source": [
    "# #Grid Search for hyperparameter tuning\n",
    "# def create_model(neuron_1=29, dropout_rate=0.0, init_mode='uniform', learn_rate=0.01):\n",
    "#     n_inputs = X_undersample.shape[1]\n",
    "#     model = Sequential()\n",
    "#     model.add(Dense(neuron_1, input_shape=(n_inputs, ), kernel_initializer=init_mode, activation= 'relu'))\n",
    "#     model.add(Dropout(dropout_rate))\n",
    "#     model.add(Dense(1, kernel_initializer=init_mode, activation='sigmoid'))\n",
    "#     model.compile(Adam(lr=learn_rate), loss='binary_crossentropy')\n",
    "#     return model\n",
    "# #Keras models can be used with scikit learn by wrapping them with KerasClassifier\n",
    "# model_tuning = KerasClassifier(build_fn=create_model,epochs=30, batch_size=700, verbose=1)\n",
    "\n",
    "# neuron_1= [29, 30, 35, 40, 45, 50,55,60,65,70]\n",
    "# learn_rate= [0.001, 0.01, 0.1, 0.2, 0.3]\n",
    "# dropout_rate = [0.0, 0.1, 0.2, 0.3, 0.4, 0.5, 0.6, 0.7, 0.8, 0.9]\n",
    "# init_mode = ['uniform', 'lecun_uniform', 'normal', 'zero', 'glorot_normal', 'glorot_uniform', 'he_normal', 'he_uniform']\n",
    "# param_grid = dict(neuron_1=neuron_1, dropout_rate=dropout_rate, init_mode=init_mode, learn_rate=learn_rate)\n",
    "# grid = GridSearchCV(estimator=model_tuning, param_grid=param_grid, scoring=make_scorer(f1_score), cv=5, n_jobs=-1)\n",
    "# grid_result = grid.fit(X_us_arr, Y_us_arr)\n",
    "# # summarize results\n",
    "# print(\"Best: %f using %s\" % (grid_result.best_score_, grid_result.best_params_))\n",
    "# mean_score = grid_result.cv_results_['mean_test_score']\n",
    "# std_score = grid_result.cv_results_['std_test_score']\n",
    "# params = grid_result.cv_results_['params']\n",
    "# for mean, stdev, param in zip(mean_score, std_score, params):\n",
    "#     print(\"%f (%f) with: %r\" % (mean, stdev, param))\n"
   ]
  },
  {
   "cell_type": "markdown",
   "metadata": {
    "_uuid": "a8cfdd97a43ffb5ec96ccc35567eea02a16fac8e"
   },
   "source": [
    "#EXPERIMENTAL DESIGN"
   ]
  },
  {
   "cell_type": "markdown",
   "metadata": {
    "_uuid": "ff1a96a0081a8071333c5d21aad394a8744f46e9"
   },
   "source": [
    "Hypothesis: A neural network�s performance on the Credit-Card Fraud dataset is affected by the number of hidden layers.\n",
    "* Null Hypothesis (H0): Insufficient evidence to support hypothesis\n",
    "* Alternate Hypothesis (H1): Evidence suggests the hypothesis is likely true."
   ]
  },
  {
   "cell_type": "markdown",
   "metadata": {
    "_uuid": "a598ad71140231b27c3f4edb94ac19655a1105fb"
   },
   "source": [
    "In this notebook, 2 models are trained:\n",
    "1. Multi-layer Perceptron with 1 hidden layer and,\n",
    "2. Multi-layer Perceptron with 2 hidden layers\n",
    "1. Rest all parameters are kept the same in both the models."
   ]
  },
  {
   "cell_type": "markdown",
   "metadata": {
    "_uuid": "c909e158227780ac3418e192192f65b606eba96f"
   },
   "source": [
    "Since, Neural Networks are stochastic and output different results for each run with the same data. The model will be run for a specific number of iterations so that the average score of all the repetitions can determine the skill of the model. Thus, now this sample size sufficiency needs to be determined. For this purpose the multi layer perceptron  model is trained for 100 (selected randomly) iterations and F-score is returned for all the repetitions."
   ]
  },
  {
   "cell_type": "markdown",
   "metadata": {
    "_uuid": "1f4cb3b24f844939d7972776ed1a8b0571458c1c"
   },
   "source": [
    "The iterations below were run to determine the sufficient sample size required. The output returned is:\n",
    "f_scorelist1= [0.7627118644067796, 0.749003984063745, 0.7419354838709676, 0.7457627118644068, 0.7018867924528301, 0.7294117647058823, 0.6643109540636042, 0.753968253968254, 0.7018867924528301, 0.6888888888888889, 0.6478873239436619, 0.7430830039525692, 0.7410358565737051, 0.7479674796747967, 0.7175572519083968, 0.7634854771784232, 0.7265625, 0.6690647482014389, 0.7159533073929961, 0.7258064516129031, 0.7540983606557377, 0.7315175097276265, 0.7045454545454546, 0.7580645161290323, 0.7076923076923076, 0.6816479400749064, 0.7407407407407407, 0.7041198501872659, 0.7209302325581397, 0.7171314741035857, 0.6789667896678966, 0.7272727272727273, 0.732283464566929, 0.7583333333333334, 0.73015873015873, 0.7230769230769232, 0.7531380753138075, 0.7459016393442623, 0.6893939393939396, 0.7622950819672131, 0.7295081967213115, 0.7450980392156862, 0.7782426778242677, 0.6992481203007519, 0.748971193415638, 0.7126436781609196, 0.7364341085271319, 0.6842105263157894, 0.7317073170731707, 0.7848101265822784, 0.7104247104247104, 0.6666666666666666, 0.7591836734693878, 0.7401574803149606, 0.6946564885496183, 0.7272727272727273, 0.7175572519083968, 0.6946564885496183, 0.6940298507462687, 0.7109375, 0.6966292134831462, 0.7510204081632654, 0.7603305785123966, 0.6713780918727914, 0.7460317460317459, 0.7398373983739839, 0.7449392712550608, 0.673913043478261, 0.6881720430107526, 0.7551867219917012, 0.7215686274509804, 0.6789667896678966, 0.6966292134831462, 0.7551867219917012, 0.7666666666666667, 0.7215686274509804, 0.732283464566929, 0.732283464566929, 0.7181467181467182, 0.7250996015936256, 0.6791044776119403, 0.7109375, 0.7203065134099617, 0.7410358565737051, 0.7603305785123966, 0.681159420289855, 0.7551867219917012, 0.7368421052631579, 0.7142857142857143, 0.6416382252559727, 0.7294117647058823, 0.7531380753138075, 0.7698744769874477, 0.7131782945736435, 0.775, 0.5987261146496816, 0.7099236641221374, 0.7265625, 0.7372549019607844, 0.7280000000000001]"
   ]
  },
  {
   "cell_type": "markdown",
   "metadata": {
    "_uuid": "cb07eaeded13204f779195100b5ce312e1271ecd"
   },
   "source": [
    "* The following code is commented as it was run for 100 iterations to determine the sufficient sample size, and it takes alot of time to run. The results are shown above and plotted in the following blocks."
   ]
  },
  {
   "cell_type": "code",
   "execution_count": 44,
   "metadata": {
    "_uuid": "87f50b2d631c7ca2e2c1deb10b0a344ac6eddf86",
    "collapsed": true
   },
   "outputs": [],
   "source": [
    "# f_scorelist1=[]\n",
    "\n",
    "# n_inputs = X_adasampled.shape[1]\n",
    "# es= keras.callbacks.EarlyStopping(monitor='val_loss',\n",
    "#                               min_delta=0,\n",
    "#                               patience=2,\n",
    "#                               verbose=0, mode='min', restore_best_weights= True)\n",
    "# for i in range(0,100):\n",
    "#     First_Model = Sequential()\n",
    "#     First_Model.add(Dense(65, input_shape=(n_inputs, ), kernel_initializer='he_normal', activation='relu'))\n",
    "#     First_Model.add(Dropout(0.5))\n",
    "#     First_Model.add(Dense(1, kernel_initializer='he_normal', activation='sigmoid'))\n",
    "\n",
    "#     First_Model.compile(Adam(lr=0.001), loss='binary_crossentropy', metrics=['accuracy'])\n",
    "    \n",
    "#     First_Model.fit(X_adasampled, Y_adasampled, validation_data=(Xval_arr, Yval_arr), batch_size=700, epochs=40, callbacks=[es], shuffle=True, verbose=0)\n",
    "#     Y_first_pred = First_Model.predict_classes(Xtest_arr, batch_size=200, verbose=0)\n",
    "    \n",
    "#     f_score= f1_score(Ytest_arr,Y_first_pred)\n",
    "#     f_scorelist1.append(f_score)\n",
    "\n",
    "# print(f_scorelist1)\n",
    "# print('FScore Mean: '+ str(np.mean(f_scorelist1)))"
   ]
  },
  {
   "cell_type": "markdown",
   "metadata": {
    "_uuid": "ed6242137c57e6cbef4829f9d744e2142c33928f"
   },
   "source": [
    "Now, the number of iterations are plotted against the average score from those iterations to determine the number of iterations at which the mean of the F-score gets stabilized.\n",
    "These number of iterations will be considered as the sample size sufficiency, for which our model will be iterated."
   ]
  },
  {
   "cell_type": "code",
   "execution_count": 45,
   "metadata": {
    "_uuid": "ff459a2321e9dab2c378226dad22b75b80b11f7e",
    "collapsed": false
   },
   "outputs": [
    {
     "data": {
      "image/png": "[encoded data removed]",
      "text/plain": [
       "<matplotlib.figure.Figure at 0x2065e3335f8>"
      ]
     },
     "metadata": {},
     "output_type": "display_data"
    }
   ],
   "source": [
    "#Plotting number of repeats against the average score from those repeats.\n",
    "#Expected: As the number of repeats increase, the average score stabilizes\n",
    "f_score_list=[0.7627118644067796, 0.749003984063745, 0.7419354838709676, 0.7457627118644068, 0.7018867924528301, 0.7294117647058823, 0.6643109540636042, 0.753968253968254, 0.7018867924528301, 0.6888888888888889, 0.6478873239436619, 0.7430830039525692, 0.7410358565737051, 0.7479674796747967, 0.7175572519083968, 0.7634854771784232, 0.7265625, 0.6690647482014389, 0.7159533073929961, 0.7258064516129031, 0.7540983606557377, 0.7315175097276265, 0.7045454545454546, 0.7580645161290323, 0.7076923076923076, 0.6816479400749064, 0.7407407407407407, 0.7041198501872659, 0.7209302325581397, 0.7171314741035857, 0.6789667896678966, 0.7272727272727273, 0.732283464566929, 0.7583333333333334, 0.73015873015873, 0.7230769230769232, 0.7531380753138075, 0.7459016393442623, 0.6893939393939396, 0.7622950819672131, 0.7295081967213115, 0.7450980392156862, 0.7782426778242677, 0.6992481203007519, 0.748971193415638, 0.7126436781609196, 0.7364341085271319, 0.6842105263157894, 0.7317073170731707, 0.7848101265822784, 0.7104247104247104, 0.6666666666666666, 0.7591836734693878, 0.7401574803149606, 0.6946564885496183, 0.7272727272727273, 0.7175572519083968, 0.6946564885496183, 0.6940298507462687, 0.7109375, 0.6966292134831462, 0.7510204081632654, 0.7603305785123966, 0.6713780918727914, 0.7460317460317459, 0.7398373983739839, 0.7449392712550608, 0.673913043478261, 0.6881720430107526, 0.7551867219917012, 0.7215686274509804, 0.6789667896678966, 0.6966292134831462, 0.7551867219917012, 0.7666666666666667, 0.7215686274509804, 0.732283464566929, 0.732283464566929, 0.7181467181467182, 0.7250996015936256, 0.6791044776119403, 0.7109375, 0.7203065134099617, 0.7410358565737051, 0.7603305785123966, 0.681159420289855, 0.7551867219917012, 0.7368421052631579, 0.7142857142857143, 0.6416382252559727, 0.7294117647058823, 0.7531380753138075, 0.7698744769874477, 0.7131782945736435, 0.775, 0.5987261146496816, 0.7099236641221374, 0.7265625, 0.7372549019607844, 0.7280000000000001]\n",
    "f_df=pd.DataFrame(f_score_list)\n",
    "fscores= f_df.values\n",
    "final_mean= np.mean(fscores[0:101])\n",
    "means = list()\n",
    "for i in range(1,len(f_score_list)+1):\n",
    "    data = fscores[0:i, 0]\n",
    "    mean_fscore = np.mean(data)\n",
    "    means.append(mean_fscore)\n",
    "# line plot of the values generated in the list\n",
    "plt.plot(means)\n",
    "plt.plot([final_mean for x in range(len(means))])\n",
    "plt.show() #From this plot the point of diminishing returns can be located."
   ]
  },
  {
   "cell_type": "markdown",
   "metadata": {
    "_uuid": "cbe93acd190998d0a16a822d989286da8be8f8b2"
   },
   "source": [
    "As seen in the plot above, the average of F-score is getting stabilized after 60 iterations. Thus, the sample size sufficiency is taken as 60, which means that the model will be trained for 60 repetitions and the overall average of the score from these iterations will determine the skill of the model."
   ]
  },
  {
   "cell_type": "markdown",
   "metadata": {
    "_uuid": "eb510d64dc20139f9201bdb82e4523a2f8a7c1f2"
   },
   "source": [
    "#IMPLEMENTATION"
   ]
  },
  {
   "cell_type": "code",
   "execution_count": 46,
   "metadata": {
    "_uuid": "94573b41d3469908b9fa4c1318613318b66daae7",
    "collapsed": true
   },
   "outputs": [],
   "source": [
    "#function for confusion matrix\n",
    "def conf_matrix(predicted_values):\n",
    "    Predictions_CM = confusion_matrix(Ytest_arr, predicted_values, labels = [0, 1])\n",
    "    class_feat=creditcard_data['Class'].copy()\n",
    "    class_feat= class_feat.unique()\n",
    "    fig, ax = plt.subplots(figsize=(5,5))\n",
    "    sns.heatmap(Predictions_CM, annot=True, fmt='d', xticklabels=class_feat, yticklabels=class_feat)\n",
    "    plt.ylabel('Actual Class')\n",
    "    plt.xlabel('Predicted Class')\n",
    "    plt.show()"
   ]
  },
  {
   "cell_type": "code",
   "execution_count": 47,
   "metadata": {
    "_uuid": "335ca525951eb4ffda152d3bf60ef50c09e9eae7",
    "collapsed": false
   },
   "outputs": [
    {
     "name": "stdout",
     "output_type": "stream",
     "text": [
      "_________________________________________________________________\n",
      "Layer (type)                 Output Shape              Param #   \n",
      "=================================================================\n",
      "dense_1 (Dense)              (None, 65)                1950      \n",
      "_________________________________________________________________\n",
      "dense_2 (Dense)              (None, 1)                 66        \n",
      "=================================================================\n",
      "Total params: 2,016\n",
      "Trainable params: 2,016\n",
      "Non-trainable params: 0\n",
      "_________________________________________________________________\n",
      "Train on 341109 samples, validate on 56962 samples\n",
      "Epoch 1/30\n",
      " - 7s - loss: 0.0538 - acc: 0.9837 - val_loss: 0.0171 - val_acc: 0.9958\n",
      "Epoch 2/30\n",
      " - 2s - loss: 0.0102 - acc: 0.9980 - val_loss: 0.0140 - val_acc: 0.9972\n",
      "Epoch 3/30\n",
      " - 2s - loss: 0.0064 - acc: 0.9989 - val_loss: 0.0154 - val_acc: 0.9973\n",
      "Epoch 4/30\n",
      " - 2s - loss: 0.0052 - acc: 0.9992 - val_loss: 0.0109 - val_acc: 0.9985\n",
      "Epoch 5/30\n",
      " - 2s - loss: 0.0048 - acc: 0.9993 - val_loss: 0.0105 - val_acc: 0.9986\n",
      "Epoch 6/30\n",
      " - 2s - loss: 0.0040 - acc: 0.9995 - val_loss: 0.0111 - val_acc: 0.9986\n",
      "Epoch 7/30\n",
      " - 2s - loss: 0.0044 - acc: 0.9994 - val_loss: 0.0142 - val_acc: 0.9979\n",
      "dict_keys(['val_loss', 'val_acc', 'acc', 'loss'])\n"
     ]
    }
   ],
   "source": [
    "#Training a Multi-layer perceptron with 1 hidden layer on Oversampled dataset without using dropout and, using the parameters tuned above.\n",
    "n_inputs = X_adasampled.shape[1]\n",
    "es= keras.callbacks.EarlyStopping(monitor='val_loss',\n",
    "                              min_delta=0,\n",
    "                              patience=2,\n",
    "                              verbose=0, mode='min', restore_best_weights= True)\n",
    "#Model Creation\n",
    "Model1 = Sequential()\n",
    "Model1.add(Dense(65, input_shape=(n_inputs, ), kernel_initializer='he_normal', activation='relu'))\n",
    "Model1.add(Dense(1, kernel_initializer='he_normal', activation='sigmoid'))\n",
    "\n",
    "#Compile Model\n",
    "Model1.compile(Adam(lr=0.01), loss='binary_crossentropy', metrics=['accuracy'])\n",
    "Model1.summary()\n",
    "\n",
    "#Fit Model\n",
    "history1= Model1.fit(X_adasampled, Y_adasampled, validation_data=(Xval_arr, Yval_arr), batch_size=700, epochs=30, callbacks=[es], shuffle=True, verbose=2)\n",
    "print(history1.history.keys())"
   ]
  },
  {
   "cell_type": "code",
   "execution_count": 48,
   "metadata": {
    "_uuid": "c95b4754a12a5139f483f759d22850eb42dfa9b5",
    "collapsed": false,
    "scrolled": true
   },
   "outputs": [
    {
     "data": {
      "image/png": "[encoded data removed]",
      "text/plain": [
       "<matplotlib.figure.Figure at 0x2065e339e80>"
      ]
     },
     "metadata": {},
     "output_type": "display_data"
    },
    {
     "data": {
      "image/png": "[encoded data removed]",
      "text/plain": [
       "<matplotlib.figure.Figure at 0x206003a7f28>"
      ]
     },
     "metadata": {},
     "output_type": "display_data"
    }
   ],
   "source": [
    "# summarize history for accuracy\n",
    "plt.plot(history1.history['acc'])\n",
    "plt.plot(history1.history['val_acc'])\n",
    "plt.title('model accuracy')\n",
    "plt.ylabel('accuracy')\n",
    "plt.xlabel('epoch')\n",
    "plt.legend(['train', 'val'], loc='upper left')\n",
    "plt.show()\n",
    "# summarize history for loss\n",
    "plt.plot(history1.history['loss'])\n",
    "plt.plot(history1.history['val_loss'])\n",
    "plt.title('model loss')\n",
    "plt.ylabel('loss')\n",
    "plt.xlabel('epoch')\n",
    "plt.legend(['train', 'val'], loc='upper left')\n",
    "plt.show()"
   ]
  },
  {
   "cell_type": "markdown",
   "metadata": {
    "_uuid": "fe154cffd4cc11342c93f75cd9bc440a1e3276f6"
   },
   "source": [
    "The variation in the performance of the train and validation data shows that it has been overlearned on the train dataset. So, let's try adding Dropout and see it's effect on the performance of the model."
   ]
  },
  {
   "cell_type": "code",
   "execution_count": 49,
   "metadata": {
    "_uuid": "2b737d2dc91f4b8f4077a4b1dff532a7e2a0b51a",
    "collapsed": false
   },
   "outputs": [
    {
     "name": "stdout",
     "output_type": "stream",
     "text": [
      "_________________________________________________________________\n",
      "Layer (type)                 Output Shape              Param #   \n",
      "=================================================================\n",
      "dense_3 (Dense)              (None, 65)                1950      \n",
      "_________________________________________________________________\n",
      "dropout_1 (Dropout)          (None, 65)                0         \n",
      "_________________________________________________________________\n",
      "dense_4 (Dense)              (None, 1)                 66        \n",
      "=================================================================\n",
      "Total params: 2,016\n",
      "Trainable params: 2,016\n",
      "Non-trainable params: 0\n",
      "_________________________________________________________________\n",
      "Train on 341109 samples, validate on 56962 samples\n",
      "Epoch 1/40\n",
      " - 4s - loss: 0.3845 - acc: 0.8516 - val_loss: 0.1381 - val_acc: 0.9547\n",
      "Epoch 2/40\n",
      " - 3s - loss: 0.1514 - acc: 0.9497 - val_loss: 0.0873 - val_acc: 0.9698\n",
      "Epoch 3/40\n",
      " - 3s - loss: 0.1021 - acc: 0.9711 - val_loss: 0.0620 - val_acc: 0.9784\n",
      "Epoch 4/40\n",
      " - 3s - loss: 0.0759 - acc: 0.9809 - val_loss: 0.0479 - val_acc: 0.9839\n",
      "Epoch 5/40\n",
      " - 3s - loss: 0.0598 - acc: 0.9856 - val_loss: 0.0377 - val_acc: 0.9876\n",
      "Epoch 6/40\n",
      " - 3s - loss: 0.0487 - acc: 0.9883 - val_loss: 0.0311 - val_acc: 0.9901\n",
      "Epoch 7/40\n",
      " - 3s - loss: 0.0405 - acc: 0.9906 - val_loss: 0.0263 - val_acc: 0.9921\n",
      "Epoch 8/40\n",
      " - 3s - loss: 0.0349 - acc: 0.9918 - val_loss: 0.0230 - val_acc: 0.9934\n",
      "Epoch 9/40\n",
      " - 3s - loss: 0.0300 - acc: 0.9929 - val_loss: 0.0216 - val_acc: 0.9940\n",
      "Epoch 10/40\n",
      " - 3s - loss: 0.0266 - acc: 0.9938 - val_loss: 0.0196 - val_acc: 0.9946\n",
      "Epoch 11/40\n",
      " - 3s - loss: 0.0226 - acc: 0.9949 - val_loss: 0.0170 - val_acc: 0.9956\n",
      "Epoch 12/40\n",
      " - 3s - loss: 0.0211 - acc: 0.9951 - val_loss: 0.0160 - val_acc: 0.9962\n",
      "Epoch 13/40\n",
      " - 3s - loss: 0.0189 - acc: 0.9956 - val_loss: 0.0140 - val_acc: 0.9969\n",
      "Epoch 14/40\n",
      " - 3s - loss: 0.0176 - acc: 0.9960 - val_loss: 0.0138 - val_acc: 0.9970\n",
      "Epoch 15/40\n",
      " - 3s - loss: 0.0159 - acc: 0.9964 - val_loss: 0.0132 - val_acc: 0.9972\n",
      "Epoch 16/40\n",
      " - 3s - loss: 0.0152 - acc: 0.9966 - val_loss: 0.0126 - val_acc: 0.9975\n",
      "Epoch 17/40\n",
      " - 3s - loss: 0.0139 - acc: 0.9969 - val_loss: 0.0118 - val_acc: 0.9979\n",
      "Epoch 18/40\n",
      " - 3s - loss: 0.0129 - acc: 0.9973 - val_loss: 0.0110 - val_acc: 0.9981\n",
      "Epoch 19/40\n",
      " - 3s - loss: 0.0125 - acc: 0.9973 - val_loss: 0.0111 - val_acc: 0.9981\n",
      "Epoch 20/40\n",
      " - 3s - loss: 0.0117 - acc: 0.9975 - val_loss: 0.0106 - val_acc: 0.9982\n",
      "Epoch 21/40\n",
      " - 3s - loss: 0.0108 - acc: 0.9977 - val_loss: 0.0099 - val_acc: 0.9983\n",
      "Epoch 22/40\n",
      " - 3s - loss: 0.0103 - acc: 0.9978 - val_loss: 0.0103 - val_acc: 0.9983\n",
      "Epoch 23/40\n",
      " - 3s - loss: 0.0102 - acc: 0.9978 - val_loss: 0.0096 - val_acc: 0.9984\n",
      "Epoch 24/40\n",
      " - 3s - loss: 0.0091 - acc: 0.9980 - val_loss: 0.0082 - val_acc: 0.9985\n",
      "Epoch 25/40\n",
      " - 3s - loss: 0.0086 - acc: 0.9981 - val_loss: 0.0081 - val_acc: 0.9986\n",
      "Epoch 26/40\n",
      " - 3s - loss: 0.0084 - acc: 0.9982 - val_loss: 0.0079 - val_acc: 0.9986\n",
      "Epoch 27/40\n",
      " - 3s - loss: 0.0079 - acc: 0.9982 - val_loss: 0.0078 - val_acc: 0.9987\n",
      "Epoch 28/40\n",
      " - 3s - loss: 0.0072 - acc: 0.9985 - val_loss: 0.0080 - val_acc: 0.9986\n",
      "Epoch 29/40\n",
      " - 3s - loss: 0.0072 - acc: 0.9984 - val_loss: 0.0078 - val_acc: 0.9988\n",
      "dict_keys(['val_loss', 'val_acc', 'acc', 'loss'])\n"
     ]
    }
   ],
   "source": [
    "#Training a Multi-layer perceptron with 1 hidden layer on Oversampled dataset using the parameters tuned above and adding a Dropout.\n",
    "n_inputs = X_adasampled.shape[1]\n",
    "es= keras.callbacks.EarlyStopping(monitor='val_loss',\n",
    "                              min_delta=0,\n",
    "                              patience=2,\n",
    "                              verbose=0, mode='min', restore_best_weights= True)\n",
    "Model1_drop = Sequential()\n",
    "Model1_drop.add(Dense(65, input_shape=(n_inputs, ), kernel_initializer='he_normal', activation='relu'))\n",
    "Model1_drop.add(Dropout(0.5))\n",
    "Model1_drop.add(Dense(1, kernel_initializer='he_normal', activation='sigmoid'))\n",
    "\n",
    "Model1_drop.compile(Adam(lr=0.001), loss='binary_crossentropy', metrics=['accuracy'])\n",
    "Model1_drop.summary()\n",
    "\n",
    "history2= Model1_drop.fit(X_adasampled, Y_adasampled, validation_data=(Xval_arr, Yval_arr), batch_size=700, epochs=40, callbacks=[es], shuffle=True, verbose=2)\n",
    "print(history2.history.keys())"
   ]
  },
  {
   "cell_type": "code",
   "execution_count": 50,
   "metadata": {
    "_uuid": "783b6c77a57fc951ab8e8a99234da61f3048ce74",
    "collapsed": false
   },
   "outputs": [],
   "source": [
    "# #get the model\n",
    "# plot_model(Model1_drop, to_file='Model1_drop.png', show_shapes=True)\n",
    "# IPython.display.Image('Model1_drop.png')"
   ]
  },
  {
   "cell_type": "code",
   "execution_count": 51,
   "metadata": {
    "_uuid": "ce10d62543edc8d3cf906a4b99aec5c8277943d8",
    "collapsed": false
   },
   "outputs": [
    {
     "data": {
      "image/png": "[encoded data removed]",
      "text/plain": [
       "<matplotlib.figure.Figure at 0x2060b083438>"
      ]
     },
     "metadata": {},
     "output_type": "display_data"
    },
    {
     "data": {
      "image/png": "[encoded data removed]",
      "text/plain": [
       "<matplotlib.figure.Figure at 0x206003aedd8>"
      ]
     },
     "metadata": {},
     "output_type": "display_data"
    }
   ],
   "source": [
    "# summarize history for accuracy\n",
    "plt.plot(history2.history['acc'])\n",
    "plt.plot(history2.history['val_acc'])\n",
    "plt.title('model accuracy')\n",
    "plt.ylabel('accuracy')\n",
    "plt.xlabel('epoch')\n",
    "plt.legend(['train', 'val'], loc='upper left')\n",
    "plt.show()\n",
    "# summarize history for loss\n",
    "plt.plot(history2.history['loss'])\n",
    "plt.plot(history2.history['val_loss'])\n",
    "plt.title('model loss')\n",
    "plt.ylabel('loss')\n",
    "plt.xlabel('epoch')\n",
    "plt.legend(['train', 'val'], loc='upper left')\n",
    "plt.show()"
   ]
  },
  {
   "cell_type": "markdown",
   "metadata": {
    "_uuid": "8a59cba7fccf196eca99498929fee70bb5d06c33"
   },
   "source": [
    "As observed, with the addition of Dropout, the validation dataset performs better. And the train and vaidation set performance is comparable."
   ]
  },
  {
   "cell_type": "code",
   "execution_count": 52,
   "metadata": {
    "_uuid": "fe5166ac0ec2c34c04abad7c00b7ed0fa3646d2d",
    "collapsed": false
   },
   "outputs": [
    {
     "name": "stdout",
     "output_type": "stream",
     "text": [
      "56962/56962 [==============================] - 2s 28us/step\n",
      "Accuracy Model1 (Dropout): 0.9986482216214319\n",
      "Recall_score: 0.9489795918367347\n",
      "Precision_score: 0.5636363636363636\n",
      "F-score: 0.7072243346007604\n"
     ]
    },
    {
     "data": {
      "image/png": "[encoded data removed]",
      "text/plain": [
       "<matplotlib.figure.Figure at 0x20663337518>"
      ]
     },
     "metadata": {},
     "output_type": "display_data"
    }
   ],
   "source": [
    "Y_pred_cls = Model1_drop.predict_classes(Xtest_arr, batch_size=200, verbose=0)\n",
    "print('Accuracy Model1 (Dropout): '+ str(Model1_drop.evaluate(Xtest_arr,Ytest_arr)[1]))\n",
    "print('Recall_score: ' + str(recall_score(Ytest_arr,Y_pred_cls)))\n",
    "print('Precision_score: ' + str(precision_score(Ytest_arr, Y_pred_cls)))\n",
    "print('F-score: ' + str(f1_score(Ytest_arr,Y_pred_cls)))\n",
    "conf_matrix(Y_pred_cls)"
   ]
  },
  {
   "cell_type": "code",
   "execution_count": 53,
   "metadata": {
    "_uuid": "7e0fc3d5bc45b38c24488b82554c039a2369c454",
    "collapsed": false
   },
   "outputs": [
    {
     "data": {
      "image/png": "[encoded data removed]",
      "text/plain": [
       "<matplotlib.figure.Figure at 0x20600055b00>"
      ]
     },
     "metadata": {},
     "output_type": "display_data"
    }
   ],
   "source": [
    "#Plotting ROC curve\n",
    "Y_pred_prob = Model1_drop.predict_proba(Xtest_arr).ravel()\n",
    "\n",
    "fpr_model1, tpr_model1, thresholds_model1 = roc_curve(Ytest_arr, Y_pred_prob, pos_label=1)\n",
    "auc_model1 = roc_auc_score(Ytest_arr, Y_pred_prob)\n",
    "\n",
    "plt.figure(1)\n",
    "plt.plot([0, 1], [0, 1], 'k--')\n",
    "# plot no skill\n",
    "plt.plot([0, 1], [0, 1], linestyle='--')\n",
    "#plot the roc curve for the model\n",
    "plt.plot(fpr_model1, tpr_model1, label='ROC (area = {:.3f})'.format(auc_model1))\n",
    "#plt.plot(fpr_rf, tpr_rf, label='RF (area = {:.3f})'.format(auc_rf))\n",
    "plt.xlabel('False positive rate')\n",
    "plt.ylabel('True positive rate')\n",
    "plt.title('ROC curve')\n",
    "plt.legend(loc='best')\n",
    "plt.show()"
   ]
  },
  {
   "cell_type": "markdown",
   "metadata": {
    "_uuid": "d0f96c2a9e7b41b967257d9ca697ad498194d7e1"
   },
   "source": [
    "ROC curves are generally not well suited for imbalanced datasets, as they make use of TN. Thus, they can be deceptive. In contrast, TN are not considered in the PR-curve. Hence, they are more suitable for an imbalanced classification."
   ]
  },
  {
   "cell_type": "code",
   "execution_count": 54,
   "metadata": {
    "_uuid": "8cbebd2681020dade632e5d5b6391a6ac6f65831",
    "collapsed": false
   },
   "outputs": [
    {
     "data": {
      "image/png": "[encoded data removed]",
      "text/plain": [
       "<matplotlib.figure.Figure at 0x2060b8bf828>"
      ]
     },
     "metadata": {},
     "output_type": "display_data"
    }
   ],
   "source": [
    "#Calculating Precision and Recall for various thresholds\n",
    "precision, recall, thresholds_pr = precision_recall_curve(Ytest_arr, Y_pred_prob)\n",
    "\n",
    "#Auc for PR curve\n",
    "AUC_PRcurve= auc(recall, precision)\n",
    "\n",
    "plt.figure(1)\n",
    "# plot no skill\n",
    "plt.plot([0, 1], [0.5, 0.5], linestyle='--')\n",
    "#plot PR curve\n",
    "plt.plot(precision, recall, label = \"AUC = {:0.2f}\".format(AUC_PRcurve), lw = 3, alpha = 0.7)\n",
    "plt.xlabel('Precision', fontsize = 14)\n",
    "plt.ylabel('Recall', fontsize = 14)\n",
    "plt.title('Precision-Recall Curve', fontsize = 18)\n",
    "plt.legend(loc='best')\n",
    "plt.show()"
   ]
  },
  {
   "cell_type": "code",
   "execution_count": 55,
   "metadata": {
    "_uuid": "e0fbbb019181e556b6e2f54d6a3a99150d63899e",
    "collapsed": false
   },
   "outputs": [
    {
     "name": "stdout",
     "output_type": "stream",
     "text": [
      "[0.732283464566929, 0.7540983606557377, 0.7272727272727273, 0.7634854771784232, 0.6917293233082707, 0.72, 0.7153846153846155, 0.7460317460317459, 0.744, 0.6980392156862744, 0.7258687258687259, 0.6842105263157894, 0.7530364372469635, 0.7209302325581397, 0.7673469387755103, 0.73015873015873, 0.7181467181467182, 0.7209302325581397, 0.7114624505928854, 0.7866108786610879, 0.7076923076923076, 0.7591836734693878, 0.7368421052631579, 0.652482269503546, 0.6715867158671587, 0.6996197718631179, 0.7237354085603112, 0.748971193415638, 0.6714801444043321, 0.7230769230769232, 0.7137254901960784, 0.7398373983739839, 0.7479674796747967, 0.7563025210084034, 0.7380952380952381, 0.6893939393939396, 0.7666666666666667, 0.6969696969696971, 0.6618705035971222, 0.7222222222222223, 0.73015873015873, 0.6940298507462687, 0.7315175097276265, 0.736, 0.5475504322766571, 0.6996197718631179, 0.7380952380952381, 0.71875, 0.7222222222222223, 0.7244094488188976, 0.7717842323651452, 0.7603305785123966, 0.6038961038961038, 0.7116104868913858, 0.6391752577319588, 0.7235772357723577, 0.7309236947791165, 0.7280000000000001, 0.7258687258687259, 0.7449392712550608]\n",
      "FScore Mean: 0.7186867876877076\n",
      "----------------------------------------------------------------------------------------\n"
     ]
    }
   ],
   "source": [
    "#Training Multi-layer Perceptron with single hidden layer for 60 iterations and, appending the F-score for each iteration.\n",
    "f_scorelist1=[]\n",
    "\n",
    "n_inputs = X_adasampled.shape[1]\n",
    "es= keras.callbacks.EarlyStopping(monitor='val_loss',\n",
    "                              min_delta=0,\n",
    "                              patience=2,\n",
    "                              verbose=0, mode='min', restore_best_weights= True)\n",
    "for i in range(0,60):\n",
    "    First_Model = Sequential()\n",
    "    First_Model.add(Dense(65, input_shape=(n_inputs, ), kernel_initializer='he_normal', activation='relu'))\n",
    "    First_Model.add(Dropout(0.5))\n",
    "    First_Model.add(Dense(1, kernel_initializer='he_normal', activation='sigmoid'))\n",
    "\n",
    "    First_Model.compile(Adam(lr=0.001), loss='binary_crossentropy', metrics=['accuracy'])\n",
    "    \n",
    "    First_Model.fit(X_adasampled, Y_adasampled, validation_data=(Xval_arr, Yval_arr), batch_size=700, epochs=40, callbacks=[es], shuffle=True, verbose=0)\n",
    "    Y_first_pred = First_Model.predict_classes(Xtest_arr, batch_size=200, verbose=0)\n",
    "    \n",
    "    f_score= f1_score(Ytest_arr,Y_first_pred)\n",
    "    f_scorelist1.append(f_score)\n",
    "\n",
    "print(f_scorelist1)\n",
    "print('FScore Mean: '+ str(np.mean(f_scorelist1)))\n",
    "print('-'*88)"
   ]
  },
  {
   "cell_type": "code",
   "execution_count": 56,
   "metadata": {
    "_uuid": "039bd2a3d41f9ee15e5a6a04e8bdfab2da64e45f",
    "collapsed": false
   },
   "outputs": [
    {
     "name": "stdout",
     "output_type": "stream",
     "text": [
      "Train on 341109 samples, validate on 56962 samples\n",
      "Epoch 1/40\n",
      " - 19s - loss: 0.3883 - acc: 0.8552 - val_loss: 0.1303 - val_acc: 0.9517\n",
      "Epoch 2/40\n",
      " - 8s - loss: 0.1317 - acc: 0.9562 - val_loss: 0.0589 - val_acc: 0.9792\n",
      "Epoch 3/40\n",
      " - 8s - loss: 0.0676 - acc: 0.9821 - val_loss: 0.0318 - val_acc: 0.9903\n",
      "Epoch 4/40\n",
      " - 8s - loss: 0.0404 - acc: 0.9903 - val_loss: 0.0243 - val_acc: 0.9935\n",
      "Epoch 5/40\n",
      " - 8s - loss: 0.0280 - acc: 0.9935 - val_loss: 0.0182 - val_acc: 0.9958\n",
      "Epoch 6/40\n",
      " - 8s - loss: 0.0225 - acc: 0.9950 - val_loss: 0.0157 - val_acc: 0.9969\n",
      "Epoch 7/40\n",
      " - 8s - loss: 0.0183 - acc: 0.9962 - val_loss: 0.0133 - val_acc: 0.9976\n",
      "Epoch 8/40\n",
      " - 8s - loss: 0.0160 - acc: 0.9968 - val_loss: 0.0129 - val_acc: 0.9980\n",
      "Epoch 9/40\n",
      " - 8s - loss: 0.0143 - acc: 0.9972 - val_loss: 0.0112 - val_acc: 0.9984\n",
      "Epoch 10/40\n",
      " - 8s - loss: 0.0129 - acc: 0.9976 - val_loss: 0.0111 - val_acc: 0.9985\n",
      "Epoch 11/40\n",
      " - 8s - loss: 0.0116 - acc: 0.9978 - val_loss: 0.0110 - val_acc: 0.9986\n",
      "Epoch 12/40\n",
      " - 8s - loss: 0.0108 - acc: 0.9981 - val_loss: 0.0108 - val_acc: 0.9987\n",
      "Epoch 13/40\n",
      " - 9s - loss: 0.0103 - acc: 0.9982 - val_loss: 0.0102 - val_acc: 0.9989\n",
      "Epoch 14/40\n",
      " - 9s - loss: 0.0092 - acc: 0.9984 - val_loss: 0.0101 - val_acc: 0.9989\n",
      "Epoch 15/40\n",
      " - 9s - loss: 0.0085 - acc: 0.9986 - val_loss: 0.0098 - val_acc: 0.9990\n",
      "Epoch 16/40\n",
      " - 9s - loss: 0.0081 - acc: 0.9987 - val_loss: 0.0095 - val_acc: 0.9991\n",
      "Epoch 17/40\n",
      " - 8s - loss: 0.0083 - acc: 0.9987 - val_loss: 0.0096 - val_acc: 0.9991\n",
      "Epoch 18/40\n",
      " - 9s - loss: 0.0075 - acc: 0.9989 - val_loss: 0.0093 - val_acc: 0.9993\n",
      "Epoch 19/40\n",
      " - 8s - loss: 0.0071 - acc: 0.9990 - val_loss: 0.0094 - val_acc: 0.9992\n",
      "Epoch 20/40\n",
      " - 8s - loss: 0.0072 - acc: 0.9989 - val_loss: 0.0093 - val_acc: 0.9993\n",
      "Epoch 21/40\n",
      " - 8s - loss: 0.0069 - acc: 0.9990 - val_loss: 0.0091 - val_acc: 0.9993\n",
      "Epoch 22/40\n",
      " - 8s - loss: 0.0067 - acc: 0.9990 - val_loss: 0.0092 - val_acc: 0.9993\n",
      "Epoch 23/40\n",
      " - 8s - loss: 0.0065 - acc: 0.9991 - val_loss: 0.0091 - val_acc: 0.9993\n",
      "dict_keys(['val_loss', 'val_acc', 'acc', 'loss'])\n"
     ]
    }
   ],
   "source": [
    "#Training Multi-layer perceptron with 2 hidden layers\n",
    "es= keras.callbacks.EarlyStopping(monitor='val_loss',\n",
    "                              min_delta=0,\n",
    "                              patience=2,\n",
    "                              verbose=0, mode='min', restore_best_weights= True)\n",
    "Model2 = Sequential()\n",
    "Model2.add(Dense(65, input_shape=(n_inputs, ), kernel_initializer='he_normal', activation='relu'))\n",
    "Model2.add(Dropout(0.5))\n",
    "Model2.add(Dense(65, kernel_initializer='he_normal', activation='relu'))\n",
    "Model2.add(Dropout(0.5))\n",
    "Model2.add(Dense(1, kernel_initializer='he_normal', activation='sigmoid'))\n",
    "\n",
    "Model2.compile(Adam(lr=0.001), loss='binary_crossentropy', metrics=['accuracy'])\n",
    "    \n",
    "his_mod2= Model2.fit(X_adasampled, Y_adasampled, validation_data=(Xval_arr, Yval_arr), batch_size=700, epochs=40, callbacks=[es], shuffle=True, verbose=2)\n",
    "print(his_mod2.history.keys())"
   ]
  },
  {
   "cell_type": "code",
   "execution_count": 57,
   "metadata": {
    "_uuid": "0a3760a9113a31d387e9a8f6c671c63c78d2512e",
    "collapsed": false
   },
   "outputs": [
    {
     "data": {
      "image/png": "[encoded data removed]",
      "text/plain": [
       "<matplotlib.figure.Figure at 0x2063f793860>"
      ]
     },
     "metadata": {},
     "output_type": "display_data"
    },
    {
     "data": {
      "image/png": "[encoded data removed]",
      "text/plain": [
       "<matplotlib.figure.Figure at 0x20642264860>"
      ]
     },
     "metadata": {},
     "output_type": "display_data"
    }
   ],
   "source": [
    "# summarize history for accuracy\n",
    "plt.plot(his_mod2.history['acc'])\n",
    "plt.plot(his_mod2.history['val_acc'])\n",
    "plt.title('model accuracy')\n",
    "plt.ylabel('accuracy')\n",
    "plt.xlabel('epoch')\n",
    "plt.legend(['train', 'val'], loc='upper left')\n",
    "plt.show()\n",
    "# summarize history for loss\n",
    "plt.plot(his_mod2.history['loss'])\n",
    "plt.plot(his_mod2.history['val_loss'])\n",
    "plt.title('model loss')\n",
    "plt.ylabel('loss')\n",
    "plt.xlabel('epoch')\n",
    "plt.legend(['train', 'val'], loc='upper left')\n",
    "plt.show()"
   ]
  },
  {
   "cell_type": "code",
   "execution_count": 58,
   "metadata": {
    "_uuid": "fead19b39ace31a1715e05dcb01b46c1cafbe5d3",
    "collapsed": true
   },
   "outputs": [],
   "source": [
    "# #Plotting model\n",
    "# plot_model(Model2, to_file='Model2.png', show_shapes=True)\n",
    "# IPython.display.Image('Model2.png')"
   ]
  },
  {
   "cell_type": "code",
   "execution_count": 59,
   "metadata": {
    "_uuid": "71e3224988435a3adc304c032a3cccdb61ae6629",
    "collapsed": false
   },
   "outputs": [
    {
     "name": "stdout",
     "output_type": "stream",
     "text": [
      "56962/56962 [==============================] - 7s 127us/step\n",
      "Accuracy MLP: 0.9992099996488887\n",
      "56962/56962 [==============================] - 7s 120us/step\n",
      "Loss value: 0.008827306184946626\n",
      "Recall_score: 0.9693877551020408\n",
      "Precision_score: 0.6934306569343066\n",
      "F-score: 0.8085106382978723\n"
     ]
    },
    {
     "data": {
      "image/png": "[encoded data removed]",
      "text/plain": [
       "<matplotlib.figure.Figure at 0x2060f128a90>"
      ]
     },
     "metadata": {},
     "output_type": "display_data"
    }
   ],
   "source": [
    "print('Accuracy MLP: '+ str(Model2.evaluate(Xtest_arr,Ytest_arr)[1]))\n",
    "print('Loss value: '+ str(Model2.evaluate(Xtest_arr,Ytest_arr)[0]))\n",
    "\n",
    "Y_mod2_pred = Model2.predict_classes(Xtest_arr, batch_size=200, verbose=0)\n",
    "print('Recall_score: ' + str(recall_score(Ytest_arr,Y_mod2_pred)))\n",
    "print('Precision_score: ' + str(precision_score(Ytest_arr, Y_mod2_pred)))\n",
    "print('F-score: ' + str(f1_score(Ytest_arr,Y_mod2_pred)))\n",
    "conf_matrix(Y_mod2_pred)"
   ]
  },
  {
   "cell_type": "markdown",
   "metadata": {
    "_uuid": "838f7f878085a695877e007b5a1f2a4ab6dedd8a"
   },
   "source": [
    "First, let's compare the ROC and PR curves before iterating the model."
   ]
  },
  {
   "cell_type": "code",
   "execution_count": 60,
   "metadata": {
    "_uuid": "12f2b238c82340273734899916a3957083f5bb6c",
    "collapsed": false
   },
   "outputs": [
    {
     "data": {
      "image/png": "[encoded data removed]",
      "text/plain": [
       "<matplotlib.figure.Figure at 0x206422f9400>"
      ]
     },
     "metadata": {},
     "output_type": "display_data"
    }
   ],
   "source": [
    "Y_pred_prob2 = Model2.predict_proba(Xtest_arr).ravel()\n",
    "\n",
    "fpr_model2, tpr_model2, thresholds_model2 = roc_curve(Ytest_arr, Y_pred_prob2, pos_label=1)\n",
    "auc_model2 = roc_auc_score(Ytest_arr, Y_pred_prob2)\n",
    "\n",
    "plt.figure(1)\n",
    "plt.plot([0, 1], [0, 1], 'k--')\n",
    "# plot no skill\n",
    "plt.plot([0, 1], [0, 1], linestyle='--')\n",
    "#plot the roc curve for the model\n",
    "plt.plot(fpr_model1, tpr_model1, label='ROC Model_1 (area = {:.3f})'.format(auc_model1))\n",
    "plt.plot(fpr_model2, tpr_model2, label='ROC MOdel_2 (area = {:.3f})'.format(auc_model2))\n",
    "plt.xlabel('False positive rate')\n",
    "plt.ylabel('True positive rate')\n",
    "plt.title('ROC curve')\n",
    "plt.legend(loc='best')\n",
    "plt.show()"
   ]
  },
  {
   "cell_type": "markdown",
   "metadata": {
    "_uuid": "05ddb372255a73f996df229cf93764f4ceb57690"
   },
   "source": [
    "As observed, ROC curve is of no use. It does not provide any useful information. Thus, consider a P-R curve"
   ]
  },
  {
   "cell_type": "code",
   "execution_count": 61,
   "metadata": {
    "_uuid": "40c5af99a6b6891d6b1158c51cdf3a3bf8606026",
    "collapsed": false
   },
   "outputs": [
    {
     "data": {
      "image/png": "[encoded data removed]",
      "text/plain": [
       "<matplotlib.figure.Figure at 0x2063c78a160>"
      ]
     },
     "metadata": {},
     "output_type": "display_data"
    }
   ],
   "source": [
    "#Calculating Precision and Recall for various thresholds\n",
    "precision_2, recall_2, thresholds_pr_2 = precision_recall_curve(Ytest_arr, Y_pred_prob2)\n",
    "\n",
    "#Auc for PR curve\n",
    "AUC_PRcurve_2= auc(recall_2, precision_2)\n",
    "\n",
    "plt.figure(1)\n",
    "# plot no skill\n",
    "plt.plot([0, 1], [0.5, 0.5], linestyle='--')\n",
    "#plot PR curve\n",
    "plt.plot(precision, recall, label = \"AUC Model_1 = {:0.2f}\".format(AUC_PRcurve), lw = 3, alpha = 0.7)\n",
    "plt.plot(precision_2, recall_2, label = \"AUC Model_2 = {:0.2f}\".format(AUC_PRcurve_2), lw = 3, alpha = 0.7)\n",
    "plt.xlabel('Precision', fontsize = 14)\n",
    "plt.ylabel('Recall', fontsize = 14)\n",
    "plt.title('Precision-Recall Curve', fontsize = 18)\n",
    "plt.legend(loc='best')\n",
    "plt.show()"
   ]
  },
  {
   "cell_type": "code",
   "execution_count": 62,
   "metadata": {
    "_uuid": "6e361b3802f783b81bf83f509cba78d0157e6d25",
    "collapsed": false
   },
   "outputs": [
    {
     "name": "stdout",
     "output_type": "stream",
     "text": [
      "[0.7883817427385892, 0.7883817427385892, 0.8034188034188035, 0.8138528138528139, 0.7661290322580645, 0.7983193277310924, 0.7450980392156862, 0.8068669527896996, 0.8193832599118942, 0.7800829875518671, 0.7203065134099617, 0.8034934497816593, 0.798283261802575, 0.7896995708154506, 0.746987951807229, 0.6714285714285715, 0.7148288973384029, 0.6934306569343065, 0.7768595041322315, 0.7983193277310924, 0.7899159663865546, 0.8, 0.7833333333333333, 0.6886446886446886, 0.7736625514403292, 0.7851239669421487, 0.7833333333333333, 0.8070175438596492, 0.808695652173913, 0.7569721115537849, 0.8138528138528139, 0.7833333333333333, 0.7848101265822784, 0.7983193277310924, 0.7833333333333333, 0.7786885245901639, 0.7983193277310924, 0.6375838926174496, 0.8068669527896996, 0.7786885245901639, 0.7704918032786885, 0.8122270742358079, 0.7833333333333333, 0.7723577235772356, 0.752, 0.7654320987654321, 0.8068669527896996, 0.7380952380952381, 0.7509881422924902, 0.7615062761506277, 0.810344827586207, 0.7203065134099617, 0.7343749999999999, 0.7441860465116279, 0.7860262008733626, 0.775, 0.7704918032786885, 0.7673469387755103, 0.7450980392156862, 0.8154506437768241]\n",
      "FScore Mean: 0.7724328728025692\n",
      "----------------------------------------------------------------------------------------\n"
     ]
    }
   ],
   "source": [
    "#Iterating Model-2 with 2 hidden layer for 60 iterations.\n",
    "\n",
    "f_scorelist2=[]\n",
    "\n",
    "n_inputs = X_adasampled.shape[1]\n",
    "es= keras.callbacks.EarlyStopping(monitor='val_loss',\n",
    "                              min_delta=0,\n",
    "                              patience=2,\n",
    "                              verbose=0, mode='min', restore_best_weights= True)\n",
    "for i in range(0,60):\n",
    "    \n",
    "    Second_Model = Sequential()\n",
    "    Second_Model.add(Dense(65, input_shape=(n_inputs, ), kernel_initializer='he_normal', activation='relu'))\n",
    "    Second_Model.add(Dropout(0.5))\n",
    "    Second_Model.add(Dense(65, kernel_initializer='he_normal', activation='relu'))\n",
    "    Second_Model.add(Dropout(0.5))\n",
    "    Second_Model.add(Dense(1, kernel_initializer='he_normal', activation='sigmoid'))\n",
    "\n",
    "    Second_Model.compile(Adam(lr=0.001), loss='binary_crossentropy', metrics=['accuracy'])\n",
    "\n",
    "    Second_Model.fit(X_adasampled, Y_adasampled, validation_data=(Xval_arr, Yval_arr), batch_size=700, epochs=40, callbacks=[es], shuffle=True, verbose=0)\n",
    "    Y_second_pred = Second_Model.predict_classes(Xtest_arr, batch_size=200, verbose=0)\n",
    "    \n",
    "    f_score= f1_score(Ytest_arr,Y_second_pred)\n",
    "    f_scorelist2.append(f_score)\n",
    "\n",
    "print(f_scorelist2)\n",
    "print('FScore Mean: '+ str(np.mean(f_scorelist2)))\n",
    "print('-'*88)"
   ]
  },
  {
   "cell_type": "code",
   "execution_count": 63,
   "metadata": {
    "_uuid": "273c9898bb9e5848ae512c1be750d884f7ca15cf",
    "collapsed": true
   },
   "outputs": [],
   "source": [
    "#RESULTS ANALYSIS"
   ]
  },
  {
   "cell_type": "markdown",
   "metadata": {
    "_uuid": "350b9d114529db649a8e67c35a4f5961e7f8d94c"
   },
   "source": [
    "* If the Null Hypothesis is accepted, this means there is no difference between the datasets and the change of number of hidden layers does not affect the performance of the model.\n",
    "*  If the Null Hypothesis is rejected, this means there is significant difference between the datasets and the change of number of hidden layers affects the performance of the model."
   ]
  },
  {
   "cell_type": "code",
   "execution_count": 64,
   "metadata": {
    "_uuid": "4988ca4f8b56ce9e1d9671d701ee59a290460cd6",
    "collapsed": false
   },
   "outputs": [
    {
     "name": "stdout",
     "output_type": "stream",
     "text": [
      "Model-1\n",
      "---------\n",
      "Average F-Score: 0.7186867876877076\n",
      "----------------------------------------\n",
      "Model-2\n",
      "---------\n",
      "Average F-Score: 0.7724328728025692\n"
     ]
    }
   ],
   "source": [
    "#Comparing the mean performance of the F-score for both the models\n",
    "print('Model-1')\n",
    "print('---------')\n",
    "print('Average F-Score: '+ str(np.mean(f_scorelist1)))\n",
    "\n",
    "print('-'*40)\n",
    "\n",
    "print('Model-2')\n",
    "print('---------')\n",
    "print('Average F-Score: '+ str(np.mean(f_scorelist2)))"
   ]
  },
  {
   "cell_type": "code",
   "execution_count": 65,
   "metadata": {
    "_uuid": "eba43d93e9c4922cfb03cb7f856fea66e5970cc2",
    "collapsed": false
   },
   "outputs": [
    {
     "name": "stdout",
     "output_type": "stream",
     "text": [
      "Model-1\n",
      "------------------\n",
      "F_score SD: 0    0.039977\n",
      "dtype: float64\n",
      "----------------------------------------\n",
      "Model-2\n",
      "------------------\n",
      "F_score SD: 0    0.03735\n",
      "dtype: float64\n"
     ]
    }
   ],
   "source": [
    "#Comparing the Standard Deviation for F-scores generated after iterations\n",
    "fscore_df1=pd.DataFrame(f_scorelist1)\n",
    "\n",
    "print('Model-1')\n",
    "print('------------------')\n",
    "print('F_score SD: ' + str(fscore_df1.std()))\n",
    "\n",
    "print('-'*40)\n",
    "\n",
    "fscore_df2=pd.DataFrame(f_scorelist2)\n",
    "\n",
    "print('Model-2')\n",
    "print('------------------')\n",
    "print('F_score SD: ' + str(fscore_df2.std()))"
   ]
  },
  {
   "cell_type": "code",
   "execution_count": 66,
   "metadata": {
    "_uuid": "365d502316d6183b984cd60683cb69b80e8e1640",
    "collapsed": false
   },
   "outputs": [
    {
     "data": {
      "text/plain": [
       "{'boxes': [<matplotlib.lines.Line2D at 0x206aaf172e8>,\n",
       "  <matplotlib.lines.Line2D at 0x206a87839e8>],\n",
       " 'caps': [<matplotlib.lines.Line2D at 0x206aaf1e6a0>,\n",
       "  <matplotlib.lines.Line2D at 0x206aaf1ecc0>,\n",
       "  <matplotlib.lines.Line2D at 0x206aaeeb5c0>,\n",
       "  <matplotlib.lines.Line2D at 0x206aaee8f98>],\n",
       " 'fliers': [<matplotlib.lines.Line2D at 0x206a8783940>,\n",
       "  <matplotlib.lines.Line2D at 0x206aaee3128>],\n",
       " 'means': [],\n",
       " 'medians': [<matplotlib.lines.Line2D at 0x206aaf1edd8>,\n",
       "  <matplotlib.lines.Line2D at 0x206aaee3b70>],\n",
       " 'whiskers': [<matplotlib.lines.Line2D at 0x206aaf17a20>,\n",
       "  <matplotlib.lines.Line2D at 0x206aaf17fd0>,\n",
       "  <matplotlib.lines.Line2D at 0x206aaef6fd0>,\n",
       "  <matplotlib.lines.Line2D at 0x206aaef6860>]}"
      ]
     },
     "execution_count": 66,
     "metadata": {},
     "output_type": "execute_result"
    },
    {
     "data": {
      "image/png": "[encoded data removed]",
      "text/plain": [
       "<matplotlib.figure.Figure at 0x206000fbb00>"
      ]
     },
     "metadata": {},
     "output_type": "display_data"
    }
   ],
   "source": [
    "#Visualize the results using a boxplot()\n",
    "\n",
    "results_fscore= pd.concat([fscore_df1, fscore_df2], axis=1)\n",
    "results_fscore.columns = ['Model_1_fscore', 'Model_2_fscore']\n",
    "\n",
    "results_fscore.boxplot()"
   ]
  },
  {
   "cell_type": "code",
   "execution_count": 68,
   "metadata": {
    "_uuid": "855b916cc28b915443d689f5ee166895d0d9e7a5",
    "collapsed": false
   },
   "outputs": [
    {
     "data": {
      "text/plain": [
       "array([[<matplotlib.axes._subplots.AxesSubplot object at 0x00000206A87C60F0>,\n",
       "        <matplotlib.axes._subplots.AxesSubplot object at 0x00000206AAF30E48>]],\n",
       "      dtype=object)"
      ]
     },
     "execution_count": 68,
     "metadata": {},
     "output_type": "execute_result"
    },
    {
     "data": {
      "image/png": "[encoded data removed]",
      "text/plain": [
       "<matplotlib.figure.Figure at 0x206aae2b6a0>"
      ]
     },
     "metadata": {},
     "output_type": "display_data"
    }
   ],
   "source": [
    "#Distribution of the data using a Histogram\n",
    "results_fscore.hist(normed=True)"
   ]
  },
  {
   "cell_type": "code",
   "execution_count": 69,
   "metadata": {
    "_uuid": "8b050f33c8bf891ca16e01520effd812f9b078bb",
    "collapsed": false
   },
   "outputs": [
    {
     "name": "stdout",
     "output_type": "stream",
     "text": [
      "Model-1 Data is not normal\n",
      "Model-2 Data is not normal\n"
     ]
    }
   ],
   "source": [
    "#Testing the Null Hypothesis that a sample comes from a Normal Distribution\n",
    "alpha = 0.05;\n",
    "\n",
    "s, p = stats.normaltest(fscore_df1)\n",
    "if p < alpha:\n",
    "  print('Model-1 Data is not normal')\n",
    "else:\n",
    "  print('Model-1 Data is normal')\n",
    "\n",
    "s, p = stats.normaltest(fscore_df2)\n",
    "if p < alpha:\n",
    "  print('Model-2 Data is not normal')\n",
    "else:\n",
    "  print('Model-2 Data is normal')"
   ]
  },
  {
   "cell_type": "code",
   "execution_count": 70,
   "metadata": {
    "_uuid": "ba60ce9c02ef08af63f6f86463bfb510b26a8420",
    "collapsed": false
   },
   "outputs": [
    {
     "name": "stdout",
     "output_type": "stream",
     "text": [
      "null hypothesis rejected, significant difference between the data-sets\n"
     ]
    }
   ],
   "source": [
    "#Wilcoxon Signed-Rank Test\n",
    "#It tests the null hypothesis that two related paired samples come from the same distribution.\n",
    "#It is a non-parametric version of the paired T-test.\n",
    "\n",
    "s, p = stats.wilcoxon(fscore_df1[0], fscore_df2[0])\n",
    "\n",
    "if p < 0.05:\n",
    "  print('null hypothesis rejected, significant difference between the data-sets')\n",
    "else:\n",
    "  print('null hypothesis accepted, no significant difference between the data-sets')"
   ]
  }
 ],
 "metadata": {
  "anaconda-cloud": {},
  "kernelspec": {
   "display_name": "Python [default]",
   "language": "python",
   "name": "python3"
  },
  "language_info": {
   "codemirror_mode": {
    "name": "ipython",
    "version": 3
   },
   "file_extension": ".py",
   "mimetype": "text/x-python",
   "name": "python",
   "nbconvert_exporter": "python",
   "pygments_lexer": "ipython3",
   "version": "3.5.2"
  }
 },
 "nbformat": 4,
 "nbformat_minor": 1
}
